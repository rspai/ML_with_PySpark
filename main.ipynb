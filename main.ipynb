{
 "cells": [
  {
   "cell_type": "code",
   "execution_count": 1,
   "metadata": {
    "colab": {
     "base_uri": "https://localhost:8080/",
     "height": 1000
    },
    "colab_type": "code",
    "id": "gjGXF8bWDIJI",
    "outputId": "9708fb84-155d-4557-b1ab-759c6b1c5395"
   },
   "outputs": [
    {
     "name": "stdout",
     "output_type": "stream",
     "text": [
      "spark-2.4.5-bin-hadoop2.7/\n",
      "spark-2.4.5-bin-hadoop2.7/licenses/\n",
      "spark-2.4.5-bin-hadoop2.7/licenses/LICENSE-jtransforms.html\n",
      "spark-2.4.5-bin-hadoop2.7/licenses/LICENSE-zstd.txt\n",
      "spark-2.4.5-bin-hadoop2.7/licenses/LICENSE-zstd-jni.txt\n",
      "spark-2.4.5-bin-hadoop2.7/licenses/LICENSE-xmlenc.txt\n",
      "spark-2.4.5-bin-hadoop2.7/licenses/LICENSE-vis.txt\n",
      "spark-2.4.5-bin-hadoop2.7/licenses/LICENSE-spire.txt\n",
      "spark-2.4.5-bin-hadoop2.7/licenses/LICENSE-sorttable.js.txt\n",
      "spark-2.4.5-bin-hadoop2.7/licenses/LICENSE-slf4j.txt\n",
      "spark-2.4.5-bin-hadoop2.7/licenses/LICENSE-scopt.txt\n",
      "spark-2.4.5-bin-hadoop2.7/licenses/LICENSE-scala.txt\n",
      "spark-2.4.5-bin-hadoop2.7/licenses/LICENSE-sbt-launch-lib.txt\n",
      "spark-2.4.5-bin-hadoop2.7/licenses/LICENSE-respond.txt\n",
      "spark-2.4.5-bin-hadoop2.7/licenses/LICENSE-reflectasm.txt\n",
      "spark-2.4.5-bin-hadoop2.7/licenses/LICENSE-pyrolite.txt\n",
      "spark-2.4.5-bin-hadoop2.7/licenses/LICENSE-py4j.txt\n",
      "spark-2.4.5-bin-hadoop2.7/licenses/LICENSE-protobuf.txt\n",
      "spark-2.4.5-bin-hadoop2.7/licenses/LICENSE-pmml-model.txt\n",
      "spark-2.4.5-bin-hadoop2.7/licenses/LICENSE-paranamer.txt\n",
      "spark-2.4.5-bin-hadoop2.7/licenses/LICENSE-netlib.txt\n",
      "spark-2.4.5-bin-hadoop2.7/licenses/LICENSE-mustache.txt\n",
      "spark-2.4.5-bin-hadoop2.7/licenses/LICENSE-modernizr.txt\n",
      "spark-2.4.5-bin-hadoop2.7/licenses/LICENSE-minlog.txt\n",
      "spark-2.4.5-bin-hadoop2.7/licenses/LICENSE-matchMedia-polyfill.txt\n",
      "spark-2.4.5-bin-hadoop2.7/licenses/LICENSE-machinist.txt\n",
      "spark-2.4.5-bin-hadoop2.7/licenses/LICENSE-leveldbjni.txt\n",
      "spark-2.4.5-bin-hadoop2.7/licenses/LICENSE-kryo.txt\n",
      "spark-2.4.5-bin-hadoop2.7/licenses/LICENSE-json-formatter.txt\n",
      "spark-2.4.5-bin-hadoop2.7/licenses/LICENSE-jquery.txt\n",
      "spark-2.4.5-bin-hadoop2.7/licenses/LICENSE-join.txt\n",
      "spark-2.4.5-bin-hadoop2.7/licenses/LICENSE-jodd.txt\n",
      "spark-2.4.5-bin-hadoop2.7/licenses/LICENSE-jline.txt\n",
      "spark-2.4.5-bin-hadoop2.7/licenses/LICENSE-javolution.txt\n",
      "spark-2.4.5-bin-hadoop2.7/licenses/LICENSE-javassist.html\n",
      "spark-2.4.5-bin-hadoop2.7/licenses/LICENSE-janino.txt\n",
      "spark-2.4.5-bin-hadoop2.7/licenses/LICENSE-heapq.txt\n",
      "spark-2.4.5-bin-hadoop2.7/licenses/LICENSE-graphlib-dot.txt\n",
      "spark-2.4.5-bin-hadoop2.7/licenses/LICENSE-f2j.txt\n",
      "spark-2.4.5-bin-hadoop2.7/licenses/LICENSE-datatables.txt\n",
      "spark-2.4.5-bin-hadoop2.7/licenses/LICENSE-dagre-d3.txt\n",
      "spark-2.4.5-bin-hadoop2.7/licenses/LICENSE-d3.min.js.txt\n",
      "spark-2.4.5-bin-hadoop2.7/licenses/LICENSE-cloudpickle.txt\n",
      "spark-2.4.5-bin-hadoop2.7/licenses/LICENSE-bootstrap.txt\n",
      "spark-2.4.5-bin-hadoop2.7/licenses/LICENSE-automaton.txt\n",
      "spark-2.4.5-bin-hadoop2.7/licenses/LICENSE-arpack.txt\n",
      "spark-2.4.5-bin-hadoop2.7/licenses/LICENSE-antlr.txt\n",
      "spark-2.4.5-bin-hadoop2.7/licenses/LICENSE-CC0.txt\n",
      "spark-2.4.5-bin-hadoop2.7/licenses/LICENSE-AnchorJS.txt\n",
      "spark-2.4.5-bin-hadoop2.7/LICENSE\n",
      "spark-2.4.5-bin-hadoop2.7/examples/\n",
      "spark-2.4.5-bin-hadoop2.7/examples/jars/\n",
      "spark-2.4.5-bin-hadoop2.7/examples/jars/spark-examples_2.11-2.4.5.jar\n",
      "spark-2.4.5-bin-hadoop2.7/examples/jars/scopt_2.11-3.7.0.jar\n",
      "spark-2.4.5-bin-hadoop2.7/examples/src/\n",
      "spark-2.4.5-bin-hadoop2.7/examples/src/main/\n",
      "spark-2.4.5-bin-hadoop2.7/examples/src/main/java/\n",
      "spark-2.4.5-bin-hadoop2.7/examples/src/main/java/org/\n",
      "spark-2.4.5-bin-hadoop2.7/examples/src/main/java/org/apache/\n",
      "spark-2.4.5-bin-hadoop2.7/examples/src/main/java/org/apache/spark/\n",
      "spark-2.4.5-bin-hadoop2.7/examples/src/main/java/org/apache/spark/examples/\n",
      "spark-2.4.5-bin-hadoop2.7/examples/src/main/java/org/apache/spark/examples/mllib/\n",
      "spark-2.4.5-bin-hadoop2.7/examples/src/main/java/org/apache/spark/examples/mllib/JavaRecommendationExample.java\n",
      "spark-2.4.5-bin-hadoop2.7/examples/src/main/java/org/apache/spark/examples/mllib/JavaRandomForestRegressionExample.java\n",
      "spark-2.4.5-bin-hadoop2.7/examples/src/main/java/org/apache/spark/examples/mllib/JavaPrefixSpanExample.java\n",
      "spark-2.4.5-bin-hadoop2.7/examples/src/main/java/org/apache/spark/examples/mllib/JavaPowerIterationClusteringExample.java\n",
      "spark-2.4.5-bin-hadoop2.7/examples/src/main/java/org/apache/spark/examples/mllib/JavaPCAExample.java\n",
      "spark-2.4.5-bin-hadoop2.7/examples/src/main/java/org/apache/spark/examples/mllib/JavaNaiveBayesExample.java\n",
      "spark-2.4.5-bin-hadoop2.7/examples/src/main/java/org/apache/spark/examples/mllib/JavaMulticlassClassificationMetricsExample.java\n",
      "spark-2.4.5-bin-hadoop2.7/examples/src/main/java/org/apache/spark/examples/mllib/JavaMultiLabelClassificationMetricsExample.java\n",
      "spark-2.4.5-bin-hadoop2.7/examples/src/main/java/org/apache/spark/examples/mllib/JavaLogisticRegressionWithLBFGSExample.java\n",
      "spark-2.4.5-bin-hadoop2.7/examples/src/main/java/org/apache/spark/examples/mllib/JavaLatentDirichletAllocationExample.java\n",
      "spark-2.4.5-bin-hadoop2.7/examples/src/main/java/org/apache/spark/examples/mllib/JavaLBFGSExample.java\n",
      "spark-2.4.5-bin-hadoop2.7/examples/src/main/java/org/apache/spark/examples/mllib/JavaKernelDensityEstimationExample.java\n",
      "spark-2.4.5-bin-hadoop2.7/examples/src/main/java/org/apache/spark/examples/mllib/JavaKMeansExample.java\n",
      "spark-2.4.5-bin-hadoop2.7/examples/src/main/java/org/apache/spark/examples/mllib/JavaIsotonicRegressionExample.java\n",
      "spark-2.4.5-bin-hadoop2.7/examples/src/main/java/org/apache/spark/examples/mllib/JavaHypothesisTestingKolmogorovSmirnovTestExample.java\n",
      "spark-2.4.5-bin-hadoop2.7/examples/src/main/java/org/apache/spark/examples/mllib/JavaHypothesisTestingExample.java\n",
      "spark-2.4.5-bin-hadoop2.7/examples/src/main/java/org/apache/spark/examples/mllib/JavaGradientBoostingRegressionExample.java\n",
      "spark-2.4.5-bin-hadoop2.7/examples/src/main/java/org/apache/spark/examples/mllib/JavaGradientBoostingClassificationExample.java\n",
      "spark-2.4.5-bin-hadoop2.7/examples/src/main/java/org/apache/spark/examples/mllib/JavaGaussianMixtureExample.java\n",
      "spark-2.4.5-bin-hadoop2.7/examples/src/main/java/org/apache/spark/examples/mllib/JavaElementwiseProductExample.java\n",
      "spark-2.4.5-bin-hadoop2.7/examples/src/main/java/org/apache/spark/examples/mllib/JavaDecisionTreeRegressionExample.java\n",
      "spark-2.4.5-bin-hadoop2.7/examples/src/main/java/org/apache/spark/examples/mllib/JavaDecisionTreeClassificationExample.java\n",
      "spark-2.4.5-bin-hadoop2.7/examples/src/main/java/org/apache/spark/examples/mllib/JavaChiSqSelectorExample.java\n",
      "spark-2.4.5-bin-hadoop2.7/examples/src/main/java/org/apache/spark/examples/mllib/JavaBisectingKMeansExample.java\n",
      "spark-2.4.5-bin-hadoop2.7/examples/src/main/java/org/apache/spark/examples/mllib/JavaBinaryClassificationMetricsExample.java\n",
      "spark-2.4.5-bin-hadoop2.7/examples/src/main/java/org/apache/spark/examples/mllib/JavaAssociationRulesExample.java\n",
      "spark-2.4.5-bin-hadoop2.7/examples/src/main/java/org/apache/spark/examples/mllib/JavaALS.java\n",
      "spark-2.4.5-bin-hadoop2.7/examples/src/main/java/org/apache/spark/examples/mllib/JavaRegressionMetricsExample.java\n",
      "spark-2.4.5-bin-hadoop2.7/examples/src/main/java/org/apache/spark/examples/mllib/JavaRankingMetricsExample.java\n",
      "spark-2.4.5-bin-hadoop2.7/examples/src/main/java/org/apache/spark/examples/mllib/JavaRandomForestClassificationExample.java\n",
      "spark-2.4.5-bin-hadoop2.7/examples/src/main/java/org/apache/spark/examples/mllib/JavaLinearRegressionWithSGDExample.java\n",
      "spark-2.4.5-bin-hadoop2.7/examples/src/main/java/org/apache/spark/examples/mllib/JavaCorrelationsExample.java\n",
      "spark-2.4.5-bin-hadoop2.7/examples/src/main/java/org/apache/spark/examples/mllib/JavaSummaryStatisticsExample.java\n",
      "spark-2.4.5-bin-hadoop2.7/examples/src/main/java/org/apache/spark/examples/mllib/JavaStreamingTestExample.java\n",
      "spark-2.4.5-bin-hadoop2.7/examples/src/main/java/org/apache/spark/examples/mllib/JavaStratifiedSamplingExample.java\n",
      "spark-2.4.5-bin-hadoop2.7/examples/src/main/java/org/apache/spark/examples/mllib/JavaSimpleFPGrowth.java\n",
      "spark-2.4.5-bin-hadoop2.7/examples/src/main/java/org/apache/spark/examples/mllib/JavaSVMWithSGDExample.java\n",
      "spark-2.4.5-bin-hadoop2.7/examples/src/main/java/org/apache/spark/examples/mllib/JavaSVDExample.java\n",
      "spark-2.4.5-bin-hadoop2.7/examples/src/main/java/org/apache/spark/examples/ml/\n",
      "spark-2.4.5-bin-hadoop2.7/examples/src/main/java/org/apache/spark/examples/ml/JavaRandomForestClassifierExample.java\n",
      "spark-2.4.5-bin-hadoop2.7/examples/src/main/java/org/apache/spark/examples/ml/JavaPrefixSpanExample.java\n",
      "spark-2.4.5-bin-hadoop2.7/examples/src/main/java/org/apache/spark/examples/ml/JavaOneHotEncoderEstimatorExample.java\n",
      "spark-2.4.5-bin-hadoop2.7/examples/src/main/java/org/apache/spark/examples/ml/JavaGradientBoostedTreeClassifierExample.java\n",
      "spark-2.4.5-bin-hadoop2.7/examples/src/main/java/org/apache/spark/examples/ml/JavaDecisionTreeClassificationExample.java\n",
      "spark-2.4.5-bin-hadoop2.7/examples/src/main/java/org/apache/spark/examples/ml/JavaBisectingKMeansExample.java\n",
      "spark-2.4.5-bin-hadoop2.7/examples/src/main/java/org/apache/spark/examples/ml/JavaALSExample.java\n",
      "spark-2.4.5-bin-hadoop2.7/examples/src/main/java/org/apache/spark/examples/ml/JavaWord2VecExample.java\n",
      "spark-2.4.5-bin-hadoop2.7/examples/src/main/java/org/apache/spark/examples/ml/JavaVectorSlicerExample.java\n",
      "spark-2.4.5-bin-hadoop2.7/examples/src/main/java/org/apache/spark/examples/ml/JavaVectorSizeHintExample.java\n",
      "spark-2.4.5-bin-hadoop2.7/examples/src/main/java/org/apache/spark/examples/ml/JavaVectorIndexerExample.java\n",
      "spark-2.4.5-bin-hadoop2.7/examples/src/main/java/org/apache/spark/examples/ml/JavaVectorAssemblerExample.java\n",
      "spark-2.4.5-bin-hadoop2.7/examples/src/main/java/org/apache/spark/examples/ml/JavaTokenizerExample.java\n",
      "spark-2.4.5-bin-hadoop2.7/examples/src/main/java/org/apache/spark/examples/ml/JavaTfIdfExample.java\n",
      "spark-2.4.5-bin-hadoop2.7/examples/src/main/java/org/apache/spark/examples/ml/JavaSummarizerExample.java\n",
      "spark-2.4.5-bin-hadoop2.7/examples/src/main/java/org/apache/spark/examples/ml/JavaStringIndexerExample.java\n",
      "spark-2.4.5-bin-hadoop2.7/examples/src/main/java/org/apache/spark/examples/ml/JavaStopWordsRemoverExample.java\n",
      "spark-2.4.5-bin-hadoop2.7/examples/src/main/java/org/apache/spark/examples/ml/JavaStandardScalerExample.java\n",
      "spark-2.4.5-bin-hadoop2.7/examples/src/main/java/org/apache/spark/examples/ml/JavaSQLTransformerExample.java\n",
      "spark-2.4.5-bin-hadoop2.7/examples/src/main/java/org/apache/spark/examples/ml/JavaRandomForestRegressorExample.java\n",
      "spark-2.4.5-bin-hadoop2.7/examples/src/main/java/org/apache/spark/examples/ml/JavaRFormulaExample.java\n",
      "spark-2.4.5-bin-hadoop2.7/examples/src/main/java/org/apache/spark/examples/ml/JavaQuantileDiscretizerExample.java\n",
      "spark-2.4.5-bin-hadoop2.7/examples/src/main/java/org/apache/spark/examples/ml/JavaPowerIterationClusteringExample.java\n",
      "spark-2.4.5-bin-hadoop2.7/examples/src/main/java/org/apache/spark/examples/ml/JavaPolynomialExpansionExample.java\n",
      "spark-2.4.5-bin-hadoop2.7/examples/src/main/java/org/apache/spark/examples/ml/JavaPipelineExample.java\n",
      "spark-2.4.5-bin-hadoop2.7/examples/src/main/java/org/apache/spark/examples/ml/JavaPCAExample.java\n",
      "spark-2.4.5-bin-hadoop2.7/examples/src/main/java/org/apache/spark/examples/ml/JavaOneVsRestExample.java\n",
      "spark-2.4.5-bin-hadoop2.7/examples/src/main/java/org/apache/spark/examples/ml/JavaNormalizerExample.java\n",
      "spark-2.4.5-bin-hadoop2.7/examples/src/main/java/org/apache/spark/examples/ml/JavaNaiveBayesExample.java\n",
      "spark-2.4.5-bin-hadoop2.7/examples/src/main/java/org/apache/spark/examples/ml/JavaNGramExample.java\n",
      "spark-2.4.5-bin-hadoop2.7/examples/src/main/java/org/apache/spark/examples/ml/JavaMultilayerPerceptronClassifierExample.java\n",
      "spark-2.4.5-bin-hadoop2.7/examples/src/main/java/org/apache/spark/examples/ml/JavaMulticlassLogisticRegressionWithElasticNetExample.java\n",
      "spark-2.4.5-bin-hadoop2.7/examples/src/main/java/org/apache/spark/examples/ml/JavaModelSelectionViaTrainValidationSplitExample.java\n",
      "spark-2.4.5-bin-hadoop2.7/examples/src/main/java/org/apache/spark/examples/ml/JavaModelSelectionViaCrossValidationExample.java\n",
      "spark-2.4.5-bin-hadoop2.7/examples/src/main/java/org/apache/spark/examples/ml/JavaMinMaxScalerExample.java\n",
      "spark-2.4.5-bin-hadoop2.7/examples/src/main/java/org/apache/spark/examples/ml/JavaMinHashLSHExample.java\n",
      "spark-2.4.5-bin-hadoop2.7/examples/src/main/java/org/apache/spark/examples/ml/JavaMaxAbsScalerExample.java\n",
      "spark-2.4.5-bin-hadoop2.7/examples/src/main/java/org/apache/spark/examples/ml/JavaLogisticRegressionWithElasticNetExample.java\n",
      "spark-2.4.5-bin-hadoop2.7/examples/src/main/java/org/apache/spark/examples/ml/JavaLogisticRegressionSummaryExample.java\n",
      "spark-2.4.5-bin-hadoop2.7/examples/src/main/java/org/apache/spark/examples/ml/JavaLinearSVCExample.java\n",
      "spark-2.4.5-bin-hadoop2.7/examples/src/main/java/org/apache/spark/examples/ml/JavaLinearRegressionWithElasticNetExample.java\n",
      "spark-2.4.5-bin-hadoop2.7/examples/src/main/java/org/apache/spark/examples/ml/JavaLabeledDocument.java\n",
      "spark-2.4.5-bin-hadoop2.7/examples/src/main/java/org/apache/spark/examples/ml/JavaLDAExample.java\n",
      "spark-2.4.5-bin-hadoop2.7/examples/src/main/java/org/apache/spark/examples/ml/JavaKMeansExample.java\n",
      "spark-2.4.5-bin-hadoop2.7/examples/src/main/java/org/apache/spark/examples/ml/JavaIsotonicRegressionExample.java\n",
      "spark-2.4.5-bin-hadoop2.7/examples/src/main/java/org/apache/spark/examples/ml/JavaInteractionExample.java\n",
      "spark-2.4.5-bin-hadoop2.7/examples/src/main/java/org/apache/spark/examples/ml/JavaIndexToStringExample.java\n",
      "spark-2.4.5-bin-hadoop2.7/examples/src/main/java/org/apache/spark/examples/ml/JavaImputerExample.java\n",
      "spark-2.4.5-bin-hadoop2.7/examples/src/main/java/org/apache/spark/examples/ml/JavaGradientBoostedTreeRegressorExample.java\n",
      "spark-2.4.5-bin-hadoop2.7/examples/src/main/java/org/apache/spark/examples/ml/JavaGeneralizedLinearRegressionExample.java\n",
      "spark-2.4.5-bin-hadoop2.7/examples/src/main/java/org/apache/spark/examples/ml/JavaGaussianMixtureExample.java\n",
      "spark-2.4.5-bin-hadoop2.7/examples/src/main/java/org/apache/spark/examples/ml/JavaFeatureHasherExample.java\n",
      "spark-2.4.5-bin-hadoop2.7/examples/src/main/java/org/apache/spark/examples/ml/JavaFPGrowthExample.java\n",
      "spark-2.4.5-bin-hadoop2.7/examples/src/main/java/org/apache/spark/examples/ml/JavaEstimatorTransformerParamExample.java\n",
      "spark-2.4.5-bin-hadoop2.7/examples/src/main/java/org/apache/spark/examples/ml/JavaElementwiseProductExample.java\n",
      "spark-2.4.5-bin-hadoop2.7/examples/src/main/java/org/apache/spark/examples/ml/JavaDocument.java\n",
      "spark-2.4.5-bin-hadoop2.7/examples/src/main/java/org/apache/spark/examples/ml/JavaDecisionTreeRegressionExample.java\n",
      "spark-2.4.5-bin-hadoop2.7/examples/src/main/java/org/apache/spark/examples/ml/JavaDCTExample.java\n",
      "spark-2.4.5-bin-hadoop2.7/examples/src/main/java/org/apache/spark/examples/ml/JavaCountVectorizerExample.java\n",
      "spark-2.4.5-bin-hadoop2.7/examples/src/main/java/org/apache/spark/examples/ml/JavaCorrelationExample.java\n",
      "spark-2.4.5-bin-hadoop2.7/examples/src/main/java/org/apache/spark/examples/ml/JavaChiSquareTestExample.java\n",
      "spark-2.4.5-bin-hadoop2.7/examples/src/main/java/org/apache/spark/examples/ml/JavaChiSqSelectorExample.java\n",
      "spark-2.4.5-bin-hadoop2.7/examples/src/main/java/org/apache/spark/examples/ml/JavaBucketizerExample.java\n",
      "spark-2.4.5-bin-hadoop2.7/examples/src/main/java/org/apache/spark/examples/ml/JavaBucketedRandomProjectionLSHExample.java\n",
      "spark-2.4.5-bin-hadoop2.7/examples/src/main/java/org/apache/spark/examples/ml/JavaBinarizerExample.java\n",
      "spark-2.4.5-bin-hadoop2.7/examples/src/main/java/org/apache/spark/examples/ml/JavaAFTSurvivalRegressionExample.java\n",
      "spark-2.4.5-bin-hadoop2.7/examples/src/main/java/org/apache/spark/examples/JavaWordCount.java\n",
      "spark-2.4.5-bin-hadoop2.7/examples/src/main/java/org/apache/spark/examples/JavaStatusTrackerDemo.java\n",
      "spark-2.4.5-bin-hadoop2.7/examples/src/main/java/org/apache/spark/examples/JavaSparkPi.java\n",
      "spark-2.4.5-bin-hadoop2.7/examples/src/main/java/org/apache/spark/examples/JavaPageRank.java\n",
      "spark-2.4.5-bin-hadoop2.7/examples/src/main/java/org/apache/spark/examples/JavaLogQuery.java\n",
      "spark-2.4.5-bin-hadoop2.7/examples/src/main/java/org/apache/spark/examples/JavaHdfsLR.java\n",
      "spark-2.4.5-bin-hadoop2.7/examples/src/main/java/org/apache/spark/examples/JavaTC.java\n",
      "spark-2.4.5-bin-hadoop2.7/examples/src/main/java/org/apache/spark/examples/streaming/\n",
      "spark-2.4.5-bin-hadoop2.7/examples/src/main/java/org/apache/spark/examples/streaming/JavaStatefulNetworkWordCount.java\n",
      "spark-2.4.5-bin-hadoop2.7/examples/src/main/java/org/apache/spark/examples/streaming/JavaSqlNetworkWordCount.java\n",
      "spark-2.4.5-bin-hadoop2.7/examples/src/main/java/org/apache/spark/examples/streaming/JavaRecoverableNetworkWordCount.java\n",
      "spark-2.4.5-bin-hadoop2.7/examples/src/main/java/org/apache/spark/examples/streaming/JavaRecord.java\n",
      "spark-2.4.5-bin-hadoop2.7/examples/src/main/java/org/apache/spark/examples/streaming/JavaQueueStream.java\n",
      "spark-2.4.5-bin-hadoop2.7/examples/src/main/java/org/apache/spark/examples/streaming/JavaNetworkWordCount.java\n",
      "spark-2.4.5-bin-hadoop2.7/examples/src/main/java/org/apache/spark/examples/streaming/JavaDirectKafkaWordCount.java\n",
      "spark-2.4.5-bin-hadoop2.7/examples/src/main/java/org/apache/spark/examples/streaming/JavaCustomReceiver.java\n",
      "spark-2.4.5-bin-hadoop2.7/examples/src/main/java/org/apache/spark/examples/sql/\n",
      "spark-2.4.5-bin-hadoop2.7/examples/src/main/java/org/apache/spark/examples/sql/JavaUserDefinedUntypedAggregation.java\n",
      "spark-2.4.5-bin-hadoop2.7/examples/src/main/java/org/apache/spark/examples/sql/JavaSQLDataSourceExample.java\n",
      "spark-2.4.5-bin-hadoop2.7/examples/src/main/java/org/apache/spark/examples/sql/streaming/\n",
      "spark-2.4.5-bin-hadoop2.7/examples/src/main/java/org/apache/spark/examples/sql/streaming/JavaStructuredSessionization.java\n",
      "spark-2.4.5-bin-hadoop2.7/examples/src/main/java/org/apache/spark/examples/sql/streaming/JavaStructuredNetworkWordCountWindowed.java\n",
      "spark-2.4.5-bin-hadoop2.7/examples/src/main/java/org/apache/spark/examples/sql/streaming/JavaStructuredNetworkWordCount.java\n",
      "spark-2.4.5-bin-hadoop2.7/examples/src/main/java/org/apache/spark/examples/sql/streaming/JavaStructuredKafkaWordCount.java\n",
      "spark-2.4.5-bin-hadoop2.7/examples/src/main/java/org/apache/spark/examples/sql/hive/\n",
      "spark-2.4.5-bin-hadoop2.7/examples/src/main/java/org/apache/spark/examples/sql/hive/JavaSparkHiveExample.java\n",
      "spark-2.4.5-bin-hadoop2.7/examples/src/main/java/org/apache/spark/examples/sql/JavaUserDefinedTypedAggregation.java\n",
      "spark-2.4.5-bin-hadoop2.7/examples/src/main/java/org/apache/spark/examples/sql/JavaSparkSQLExample.java\n",
      "spark-2.4.5-bin-hadoop2.7/examples/src/main/scala/\n",
      "spark-2.4.5-bin-hadoop2.7/examples/src/main/scala/org/\n",
      "spark-2.4.5-bin-hadoop2.7/examples/src/main/scala/org/apache/\n",
      "spark-2.4.5-bin-hadoop2.7/examples/src/main/scala/org/apache/spark/\n",
      "spark-2.4.5-bin-hadoop2.7/examples/src/main/scala/org/apache/spark/examples/\n",
      "spark-2.4.5-bin-hadoop2.7/examples/src/main/scala/org/apache/spark/examples/SparkTC.scala\n",
      "spark-2.4.5-bin-hadoop2.7/examples/src/main/scala/org/apache/spark/examples/SparkRemoteFileTest.scala\n",
      "spark-2.4.5-bin-hadoop2.7/examples/src/main/scala/org/apache/spark/examples/SparkPi.scala\n",
      "spark-2.4.5-bin-hadoop2.7/examples/src/main/scala/org/apache/spark/examples/SparkPageRank.scala\n",
      "spark-2.4.5-bin-hadoop2.7/examples/src/main/scala/org/apache/spark/examples/SparkLR.scala\n",
      "spark-2.4.5-bin-hadoop2.7/examples/src/main/scala/org/apache/spark/examples/SparkKMeans.scala\n",
      "spark-2.4.5-bin-hadoop2.7/examples/src/main/scala/org/apache/spark/examples/SparkHdfsLR.scala\n",
      "spark-2.4.5-bin-hadoop2.7/examples/src/main/scala/org/apache/spark/examples/SparkALS.scala\n",
      "spark-2.4.5-bin-hadoop2.7/examples/src/main/scala/org/apache/spark/examples/SkewedGroupByTest.scala\n",
      "spark-2.4.5-bin-hadoop2.7/examples/src/main/scala/org/apache/spark/examples/SimpleSkewedGroupByTest.scala\n",
      "spark-2.4.5-bin-hadoop2.7/examples/src/main/scala/org/apache/spark/examples/MultiBroadcastTest.scala\n",
      "spark-2.4.5-bin-hadoop2.7/examples/src/main/scala/org/apache/spark/examples/LogQuery.scala\n",
      "spark-2.4.5-bin-hadoop2.7/examples/src/main/scala/org/apache/spark/examples/LocalPi.scala\n",
      "spark-2.4.5-bin-hadoop2.7/examples/src/main/scala/org/apache/spark/examples/LocalLR.scala\n",
      "spark-2.4.5-bin-hadoop2.7/examples/src/main/scala/org/apache/spark/examples/LocalKMeans.scala\n",
      "spark-2.4.5-bin-hadoop2.7/examples/src/main/scala/org/apache/spark/examples/LocalFileLR.scala\n",
      "spark-2.4.5-bin-hadoop2.7/examples/src/main/scala/org/apache/spark/examples/LocalALS.scala\n",
      "spark-2.4.5-bin-hadoop2.7/examples/src/main/scala/org/apache/spark/examples/HdfsTest.scala\n",
      "spark-2.4.5-bin-hadoop2.7/examples/src/main/scala/org/apache/spark/examples/GroupByTest.scala\n",
      "spark-2.4.5-bin-hadoop2.7/examples/src/main/scala/org/apache/spark/examples/ExceptionHandlingTest.scala\n",
      "spark-2.4.5-bin-hadoop2.7/examples/src/main/scala/org/apache/spark/examples/DriverSubmissionTest.scala\n",
      "spark-2.4.5-bin-hadoop2.7/examples/src/main/scala/org/apache/spark/examples/DFSReadWriteTest.scala\n",
      "spark-2.4.5-bin-hadoop2.7/examples/src/main/scala/org/apache/spark/examples/BroadcastTest.scala\n",
      "spark-2.4.5-bin-hadoop2.7/examples/src/main/scala/org/apache/spark/examples/streaming/\n",
      "spark-2.4.5-bin-hadoop2.7/examples/src/main/scala/org/apache/spark/examples/streaming/StreamingExamples.scala\n",
      "spark-2.4.5-bin-hadoop2.7/examples/src/main/scala/org/apache/spark/examples/streaming/StatefulNetworkWordCount.scala\n",
      "spark-2.4.5-bin-hadoop2.7/examples/src/main/scala/org/apache/spark/examples/streaming/SqlNetworkWordCount.scala\n",
      "spark-2.4.5-bin-hadoop2.7/examples/src/main/scala/org/apache/spark/examples/streaming/RecoverableNetworkWordCount.scala\n",
      "spark-2.4.5-bin-hadoop2.7/examples/src/main/scala/org/apache/spark/examples/streaming/RawNetworkGrep.scala\n",
      "spark-2.4.5-bin-hadoop2.7/examples/src/main/scala/org/apache/spark/examples/streaming/QueueStream.scala\n",
      "spark-2.4.5-bin-hadoop2.7/examples/src/main/scala/org/apache/spark/examples/streaming/NetworkWordCount.scala\n",
      "spark-2.4.5-bin-hadoop2.7/examples/src/main/scala/org/apache/spark/examples/streaming/HdfsWordCount.scala\n",
      "spark-2.4.5-bin-hadoop2.7/examples/src/main/scala/org/apache/spark/examples/streaming/DirectKafkaWordCount.scala\n",
      "spark-2.4.5-bin-hadoop2.7/examples/src/main/scala/org/apache/spark/examples/streaming/CustomReceiver.scala\n",
      "spark-2.4.5-bin-hadoop2.7/examples/src/main/scala/org/apache/spark/examples/streaming/clickstream/\n",
      "spark-2.4.5-bin-hadoop2.7/examples/src/main/scala/org/apache/spark/examples/streaming/clickstream/PageViewStream.scala\n",
      "spark-2.4.5-bin-hadoop2.7/examples/src/main/scala/org/apache/spark/examples/streaming/clickstream/PageViewGenerator.scala\n",
      "spark-2.4.5-bin-hadoop2.7/examples/src/main/scala/org/apache/spark/examples/sql/\n",
      "spark-2.4.5-bin-hadoop2.7/examples/src/main/scala/org/apache/spark/examples/sql/UserDefinedUntypedAggregation.scala\n",
      "spark-2.4.5-bin-hadoop2.7/examples/src/main/scala/org/apache/spark/examples/sql/SparkSQLExample.scala\n",
      "spark-2.4.5-bin-hadoop2.7/examples/src/main/scala/org/apache/spark/examples/sql/SQLDataSourceExample.scala\n",
      "spark-2.4.5-bin-hadoop2.7/examples/src/main/scala/org/apache/spark/examples/sql/RDDRelation.scala\n",
      "spark-2.4.5-bin-hadoop2.7/examples/src/main/scala/org/apache/spark/examples/sql/streaming/\n",
      "spark-2.4.5-bin-hadoop2.7/examples/src/main/scala/org/apache/spark/examples/sql/streaming/StructuredNetworkWordCountWindowed.scala\n",
      "spark-2.4.5-bin-hadoop2.7/examples/src/main/scala/org/apache/spark/examples/sql/streaming/StructuredNetworkWordCount.scala\n",
      "spark-2.4.5-bin-hadoop2.7/examples/src/main/scala/org/apache/spark/examples/sql/streaming/StructuredSessionization.scala\n",
      "spark-2.4.5-bin-hadoop2.7/examples/src/main/scala/org/apache/spark/examples/sql/streaming/StructuredKafkaWordCount.scala\n",
      "spark-2.4.5-bin-hadoop2.7/examples/src/main/scala/org/apache/spark/examples/sql/hive/\n",
      "spark-2.4.5-bin-hadoop2.7/examples/src/main/scala/org/apache/spark/examples/sql/hive/SparkHiveExample.scala\n",
      "spark-2.4.5-bin-hadoop2.7/examples/src/main/scala/org/apache/spark/examples/sql/UserDefinedTypedAggregation.scala\n",
      "spark-2.4.5-bin-hadoop2.7/examples/src/main/scala/org/apache/spark/examples/pythonconverters/\n",
      "spark-2.4.5-bin-hadoop2.7/examples/src/main/scala/org/apache/spark/examples/pythonconverters/AvroConverters.scala\n",
      "spark-2.4.5-bin-hadoop2.7/examples/src/main/scala/org/apache/spark/examples/mllib/\n",
      "spark-2.4.5-bin-hadoop2.7/examples/src/main/scala/org/apache/spark/examples/mllib/TallSkinnySVD.scala\n",
      "spark-2.4.5-bin-hadoop2.7/examples/src/main/scala/org/apache/spark/examples/mllib/TallSkinnyPCA.scala\n",
      "spark-2.4.5-bin-hadoop2.7/examples/src/main/scala/org/apache/spark/examples/mllib/StreamingTestExample.scala\n",
      "spark-2.4.5-bin-hadoop2.7/examples/src/main/scala/org/apache/spark/examples/mllib/StreamingLogisticRegression.scala\n",
      "spark-2.4.5-bin-hadoop2.7/examples/src/main/scala/org/apache/spark/examples/mllib/StreamingKMeansExample.scala\n",
      "spark-2.4.5-bin-hadoop2.7/examples/src/main/scala/org/apache/spark/examples/mllib/SparseNaiveBayes.scala\n",
      "spark-2.4.5-bin-hadoop2.7/examples/src/main/scala/org/apache/spark/examples/mllib/SimpleFPGrowth.scala\n",
      "spark-2.4.5-bin-hadoop2.7/examples/src/main/scala/org/apache/spark/examples/mllib/SampledRDDs.scala\n",
      "spark-2.4.5-bin-hadoop2.7/examples/src/main/scala/org/apache/spark/examples/mllib/RegressionMetricsExample.scala\n",
      "spark-2.4.5-bin-hadoop2.7/examples/src/main/scala/org/apache/spark/examples/mllib/RankingMetricsExample.scala\n",
      "spark-2.4.5-bin-hadoop2.7/examples/src/main/scala/org/apache/spark/examples/mllib/RandomRDDGeneration.scala\n",
      "spark-2.4.5-bin-hadoop2.7/examples/src/main/scala/org/apache/spark/examples/mllib/PrefixSpanExample.scala\n",
      "spark-2.4.5-bin-hadoop2.7/examples/src/main/scala/org/apache/spark/examples/mllib/PowerIterationClusteringExample.scala\n",
      "spark-2.4.5-bin-hadoop2.7/examples/src/main/scala/org/apache/spark/examples/mllib/PCAExample.scala\n",
      "spark-2.4.5-bin-hadoop2.7/examples/src/main/scala/org/apache/spark/examples/mllib/MultivariateSummarizer.scala\n",
      "spark-2.4.5-bin-hadoop2.7/examples/src/main/scala/org/apache/spark/examples/mllib/MovieLensALS.scala\n",
      "spark-2.4.5-bin-hadoop2.7/examples/src/main/scala/org/apache/spark/examples/mllib/LinearRegressionWithSGDExample.scala\n",
      "spark-2.4.5-bin-hadoop2.7/examples/src/main/scala/org/apache/spark/examples/mllib/LinearRegression.scala\n",
      "spark-2.4.5-bin-hadoop2.7/examples/src/main/scala/org/apache/spark/examples/mllib/LatentDirichletAllocationExample.scala\n",
      "spark-2.4.5-bin-hadoop2.7/examples/src/main/scala/org/apache/spark/examples/mllib/LDAExample.scala\n",
      "spark-2.4.5-bin-hadoop2.7/examples/src/main/scala/org/apache/spark/examples/mllib/KMeansExample.scala\n",
      "spark-2.4.5-bin-hadoop2.7/examples/src/main/scala/org/apache/spark/examples/mllib/HypothesisTestingExample.scala\n",
      "spark-2.4.5-bin-hadoop2.7/examples/src/main/scala/org/apache/spark/examples/mllib/GradientBoostedTreesRunner.scala\n",
      "spark-2.4.5-bin-hadoop2.7/examples/src/main/scala/org/apache/spark/examples/mllib/GaussianMixtureExample.scala\n",
      "spark-2.4.5-bin-hadoop2.7/examples/src/main/scala/org/apache/spark/examples/mllib/FPGrowthExample.scala\n",
      "spark-2.4.5-bin-hadoop2.7/examples/src/main/scala/org/apache/spark/examples/mllib/ElementwiseProductExample.scala\n",
      "spark-2.4.5-bin-hadoop2.7/examples/src/main/scala/org/apache/spark/examples/mllib/DenseKMeans.scala\n",
      "spark-2.4.5-bin-hadoop2.7/examples/src/main/scala/org/apache/spark/examples/mllib/DecisionTreeRunner.scala\n",
      "spark-2.4.5-bin-hadoop2.7/examples/src/main/scala/org/apache/spark/examples/mllib/CosineSimilarity.scala\n",
      "spark-2.4.5-bin-hadoop2.7/examples/src/main/scala/org/apache/spark/examples/mllib/Correlations.scala\n",
      "spark-2.4.5-bin-hadoop2.7/examples/src/main/scala/org/apache/spark/examples/mllib/BisectingKMeansExample.scala\n",
      "spark-2.4.5-bin-hadoop2.7/examples/src/main/scala/org/apache/spark/examples/mllib/BinaryClassification.scala\n",
      "spark-2.4.5-bin-hadoop2.7/examples/src/main/scala/org/apache/spark/examples/mllib/AssociationRulesExample.scala\n",
      "spark-2.4.5-bin-hadoop2.7/examples/src/main/scala/org/apache/spark/examples/mllib/Word2VecExample.scala\n",
      "spark-2.4.5-bin-hadoop2.7/examples/src/main/scala/org/apache/spark/examples/mllib/TFIDFExample.scala\n",
      "spark-2.4.5-bin-hadoop2.7/examples/src/main/scala/org/apache/spark/examples/mllib/SummaryStatisticsExample.scala\n",
      "spark-2.4.5-bin-hadoop2.7/examples/src/main/scala/org/apache/spark/examples/mllib/StreamingLinearRegressionExample.scala\n",
      "spark-2.4.5-bin-hadoop2.7/examples/src/main/scala/org/apache/spark/examples/mllib/StratifiedSamplingExample.scala\n",
      "spark-2.4.5-bin-hadoop2.7/examples/src/main/scala/org/apache/spark/examples/mllib/StandardScalerExample.scala\n",
      "spark-2.4.5-bin-hadoop2.7/examples/src/main/scala/org/apache/spark/examples/mllib/SVMWithSGDExample.scala\n",
      "spark-2.4.5-bin-hadoop2.7/examples/src/main/scala/org/apache/spark/examples/mllib/SVDExample.scala\n",
      "spark-2.4.5-bin-hadoop2.7/examples/src/main/scala/org/apache/spark/examples/mllib/RecommendationExample.scala\n",
      "spark-2.4.5-bin-hadoop2.7/examples/src/main/scala/org/apache/spark/examples/mllib/RandomForestRegressionExample.scala\n",
      "spark-2.4.5-bin-hadoop2.7/examples/src/main/scala/org/apache/spark/examples/mllib/RandomForestClassificationExample.scala\n",
      "spark-2.4.5-bin-hadoop2.7/examples/src/main/scala/org/apache/spark/examples/mllib/PMMLModelExportExample.scala\n",
      "spark-2.4.5-bin-hadoop2.7/examples/src/main/scala/org/apache/spark/examples/mllib/PCAOnSourceVectorExample.scala\n",
      "spark-2.4.5-bin-hadoop2.7/examples/src/main/scala/org/apache/spark/examples/mllib/PCAOnRowMatrixExample.scala\n",
      "spark-2.4.5-bin-hadoop2.7/examples/src/main/scala/org/apache/spark/examples/mllib/NormalizerExample.scala\n",
      "spark-2.4.5-bin-hadoop2.7/examples/src/main/scala/org/apache/spark/examples/mllib/NaiveBayesExample.scala\n",
      "spark-2.4.5-bin-hadoop2.7/examples/src/main/scala/org/apache/spark/examples/mllib/MulticlassMetricsExample.scala\n",
      "spark-2.4.5-bin-hadoop2.7/examples/src/main/scala/org/apache/spark/examples/mllib/MultiLabelMetricsExample.scala\n",
      "spark-2.4.5-bin-hadoop2.7/examples/src/main/scala/org/apache/spark/examples/mllib/LogisticRegressionWithLBFGSExample.scala\n",
      "spark-2.4.5-bin-hadoop2.7/examples/src/main/scala/org/apache/spark/examples/mllib/LBFGSExample.scala\n",
      "spark-2.4.5-bin-hadoop2.7/examples/src/main/scala/org/apache/spark/examples/mllib/KernelDensityEstimationExample.scala\n",
      "spark-2.4.5-bin-hadoop2.7/examples/src/main/scala/org/apache/spark/examples/mllib/IsotonicRegressionExample.scala\n",
      "spark-2.4.5-bin-hadoop2.7/examples/src/main/scala/org/apache/spark/examples/mllib/HypothesisTestingKolmogorovSmirnovTestExample.scala\n",
      "spark-2.4.5-bin-hadoop2.7/examples/src/main/scala/org/apache/spark/examples/mllib/GradientBoostingRegressionExample.scala\n",
      "spark-2.4.5-bin-hadoop2.7/examples/src/main/scala/org/apache/spark/examples/mllib/GradientBoostingClassificationExample.scala\n",
      "spark-2.4.5-bin-hadoop2.7/examples/src/main/scala/org/apache/spark/examples/mllib/DecisionTreeRegressionExample.scala\n",
      "spark-2.4.5-bin-hadoop2.7/examples/src/main/scala/org/apache/spark/examples/mllib/DecisionTreeClassificationExample.scala\n",
      "spark-2.4.5-bin-hadoop2.7/examples/src/main/scala/org/apache/spark/examples/mllib/CorrelationsExample.scala\n",
      "spark-2.4.5-bin-hadoop2.7/examples/src/main/scala/org/apache/spark/examples/mllib/ChiSqSelectorExample.scala\n",
      "spark-2.4.5-bin-hadoop2.7/examples/src/main/scala/org/apache/spark/examples/mllib/BinaryClassificationMetricsExample.scala\n",
      "spark-2.4.5-bin-hadoop2.7/examples/src/main/scala/org/apache/spark/examples/mllib/AbstractParams.scala\n",
      "spark-2.4.5-bin-hadoop2.7/examples/src/main/scala/org/apache/spark/examples/ml/\n",
      "spark-2.4.5-bin-hadoop2.7/examples/src/main/scala/org/apache/spark/examples/ml/Word2VecExample.scala\n",
      "spark-2.4.5-bin-hadoop2.7/examples/src/main/scala/org/apache/spark/examples/ml/UnaryTransformerExample.scala\n",
      "spark-2.4.5-bin-hadoop2.7/examples/src/main/scala/org/apache/spark/examples/ml/TfIdfExample.scala\n",
      "spark-2.4.5-bin-hadoop2.7/examples/src/main/scala/org/apache/spark/examples/ml/SQLTransformerExample.scala\n",
      "spark-2.4.5-bin-hadoop2.7/examples/src/main/scala/org/apache/spark/examples/ml/RandomForestExample.scala\n",
      "spark-2.4.5-bin-hadoop2.7/examples/src/main/scala/org/apache/spark/examples/ml/RandomForestClassifierExample.scala\n",
      "spark-2.4.5-bin-hadoop2.7/examples/src/main/scala/org/apache/spark/examples/ml/QuantileDiscretizerExample.scala\n",
      "spark-2.4.5-bin-hadoop2.7/examples/src/main/scala/org/apache/spark/examples/ml/PrefixSpanExample.scala\n",
      "spark-2.4.5-bin-hadoop2.7/examples/src/main/scala/org/apache/spark/examples/ml/OneVsRestExample.scala\n",
      "spark-2.4.5-bin-hadoop2.7/examples/src/main/scala/org/apache/spark/examples/ml/OneHotEncoderEstimatorExample.scala\n",
      "spark-2.4.5-bin-hadoop2.7/examples/src/main/scala/org/apache/spark/examples/ml/LogisticRegressionExample.scala\n",
      "spark-2.4.5-bin-hadoop2.7/examples/src/main/scala/org/apache/spark/examples/ml/LinearRegressionExample.scala\n",
      "spark-2.4.5-bin-hadoop2.7/examples/src/main/scala/org/apache/spark/examples/ml/IndexToStringExample.scala\n",
      "spark-2.4.5-bin-hadoop2.7/examples/src/main/scala/org/apache/spark/examples/ml/GradientBoostedTreeClassifierExample.scala\n",
      "spark-2.4.5-bin-hadoop2.7/examples/src/main/scala/org/apache/spark/examples/ml/GBTExample.scala\n",
      "spark-2.4.5-bin-hadoop2.7/examples/src/main/scala/org/apache/spark/examples/ml/FPGrowthExample.scala\n",
      "spark-2.4.5-bin-hadoop2.7/examples/src/main/scala/org/apache/spark/examples/ml/DeveloperApiExample.scala\n",
      "spark-2.4.5-bin-hadoop2.7/examples/src/main/scala/org/apache/spark/examples/ml/DecisionTreeExample.scala\n",
      "spark-2.4.5-bin-hadoop2.7/examples/src/main/scala/org/apache/spark/examples/ml/DecisionTreeClassificationExample.scala\n",
      "spark-2.4.5-bin-hadoop2.7/examples/src/main/scala/org/apache/spark/examples/ml/DataFrameExample.scala\n",
      "spark-2.4.5-bin-hadoop2.7/examples/src/main/scala/org/apache/spark/examples/ml/CountVectorizerExample.scala\n",
      "spark-2.4.5-bin-hadoop2.7/examples/src/main/scala/org/apache/spark/examples/ml/ChiSqSelectorExample.scala\n",
      "spark-2.4.5-bin-hadoop2.7/examples/src/main/scala/org/apache/spark/examples/ml/BisectingKMeansExample.scala\n",
      "spark-2.4.5-bin-hadoop2.7/examples/src/main/scala/org/apache/spark/examples/ml/ALSExample.scala\n",
      "spark-2.4.5-bin-hadoop2.7/examples/src/main/scala/org/apache/spark/examples/ml/VectorSlicerExample.scala\n",
      "spark-2.4.5-bin-hadoop2.7/examples/src/main/scala/org/apache/spark/examples/ml/VectorSizeHintExample.scala\n",
      "spark-2.4.5-bin-hadoop2.7/examples/src/main/scala/org/apache/spark/examples/ml/VectorIndexerExample.scala\n",
      "spark-2.4.5-bin-hadoop2.7/examples/src/main/scala/org/apache/spark/examples/ml/VectorAssemblerExample.scala\n",
      "spark-2.4.5-bin-hadoop2.7/examples/src/main/scala/org/apache/spark/examples/ml/TokenizerExample.scala\n",
      "spark-2.4.5-bin-hadoop2.7/examples/src/main/scala/org/apache/spark/examples/ml/SummarizerExample.scala\n",
      "spark-2.4.5-bin-hadoop2.7/examples/src/main/scala/org/apache/spark/examples/ml/StringIndexerExample.scala\n",
      "spark-2.4.5-bin-hadoop2.7/examples/src/main/scala/org/apache/spark/examples/ml/StopWordsRemoverExample.scala\n",
      "spark-2.4.5-bin-hadoop2.7/examples/src/main/scala/org/apache/spark/examples/ml/StandardScalerExample.scala\n",
      "spark-2.4.5-bin-hadoop2.7/examples/src/main/scala/org/apache/spark/examples/ml/RandomForestRegressorExample.scala\n",
      "spark-2.4.5-bin-hadoop2.7/examples/src/main/scala/org/apache/spark/examples/ml/RFormulaExample.scala\n",
      "spark-2.4.5-bin-hadoop2.7/examples/src/main/scala/org/apache/spark/examples/ml/PowerIterationClusteringExample.scala\n",
      "spark-2.4.5-bin-hadoop2.7/examples/src/main/scala/org/apache/spark/examples/ml/PolynomialExpansionExample.scala\n",
      "spark-2.4.5-bin-hadoop2.7/examples/src/main/scala/org/apache/spark/examples/ml/PipelineExample.scala\n",
      "spark-2.4.5-bin-hadoop2.7/examples/src/main/scala/org/apache/spark/examples/ml/BinarizerExample.scala\n",
      "spark-2.4.5-bin-hadoop2.7/examples/src/main/scala/org/apache/spark/examples/ml/AFTSurvivalRegressionExample.scala\n",
      "spark-2.4.5-bin-hadoop2.7/examples/src/main/scala/org/apache/spark/examples/ml/PCAExample.scala\n",
      "spark-2.4.5-bin-hadoop2.7/examples/src/main/scala/org/apache/spark/examples/ml/NormalizerExample.scala\n",
      "spark-2.4.5-bin-hadoop2.7/examples/src/main/scala/org/apache/spark/examples/ml/NaiveBayesExample.scala\n",
      "spark-2.4.5-bin-hadoop2.7/examples/src/main/scala/org/apache/spark/examples/ml/NGramExample.scala\n",
      "spark-2.4.5-bin-hadoop2.7/examples/src/main/scala/org/apache/spark/examples/ml/MultilayerPerceptronClassifierExample.scala\n",
      "spark-2.4.5-bin-hadoop2.7/examples/src/main/scala/org/apache/spark/examples/ml/MulticlassLogisticRegressionWithElasticNetExample.scala\n",
      "spark-2.4.5-bin-hadoop2.7/examples/src/main/scala/org/apache/spark/examples/ml/ModelSelectionViaTrainValidationSplitExample.scala\n",
      "spark-2.4.5-bin-hadoop2.7/examples/src/main/scala/org/apache/spark/examples/ml/ModelSelectionViaCrossValidationExample.scala\n",
      "spark-2.4.5-bin-hadoop2.7/examples/src/main/scala/org/apache/spark/examples/ml/MinMaxScalerExample.scala\n",
      "spark-2.4.5-bin-hadoop2.7/examples/src/main/scala/org/apache/spark/examples/ml/MinHashLSHExample.scala\n",
      "spark-2.4.5-bin-hadoop2.7/examples/src/main/scala/org/apache/spark/examples/ml/MaxAbsScalerExample.scala\n",
      "spark-2.4.5-bin-hadoop2.7/examples/src/main/scala/org/apache/spark/examples/ml/LogisticRegressionWithElasticNetExample.scala\n",
      "spark-2.4.5-bin-hadoop2.7/examples/src/main/scala/org/apache/spark/examples/ml/LogisticRegressionSummaryExample.scala\n",
      "spark-2.4.5-bin-hadoop2.7/examples/src/main/scala/org/apache/spark/examples/ml/LinearSVCExample.scala\n",
      "spark-2.4.5-bin-hadoop2.7/examples/src/main/scala/org/apache/spark/examples/ml/LinearRegressionWithElasticNetExample.scala\n",
      "spark-2.4.5-bin-hadoop2.7/examples/src/main/scala/org/apache/spark/examples/ml/LDAExample.scala\n",
      "spark-2.4.5-bin-hadoop2.7/examples/src/main/scala/org/apache/spark/examples/ml/KMeansExample.scala\n",
      "spark-2.4.5-bin-hadoop2.7/examples/src/main/scala/org/apache/spark/examples/ml/IsotonicRegressionExample.scala\n",
      "spark-2.4.5-bin-hadoop2.7/examples/src/main/scala/org/apache/spark/examples/ml/InteractionExample.scala\n",
      "spark-2.4.5-bin-hadoop2.7/examples/src/main/scala/org/apache/spark/examples/ml/ImputerExample.scala\n",
      "spark-2.4.5-bin-hadoop2.7/examples/src/main/scala/org/apache/spark/examples/ml/GradientBoostedTreeRegressorExample.scala\n",
      "spark-2.4.5-bin-hadoop2.7/examples/src/main/scala/org/apache/spark/examples/ml/GeneralizedLinearRegressionExample.scala\n",
      "spark-2.4.5-bin-hadoop2.7/examples/src/main/scala/org/apache/spark/examples/ml/GaussianMixtureExample.scala\n",
      "spark-2.4.5-bin-hadoop2.7/examples/src/main/scala/org/apache/spark/examples/ml/FeatureHasherExample.scala\n",
      "spark-2.4.5-bin-hadoop2.7/examples/src/main/scala/org/apache/spark/examples/ml/EstimatorTransformerParamExample.scala\n",
      "spark-2.4.5-bin-hadoop2.7/examples/src/main/scala/org/apache/spark/examples/ml/ElementwiseProductExample.scala\n",
      "spark-2.4.5-bin-hadoop2.7/examples/src/main/scala/org/apache/spark/examples/ml/DecisionTreeRegressionExample.scala\n",
      "spark-2.4.5-bin-hadoop2.7/examples/src/main/scala/org/apache/spark/examples/ml/DCTExample.scala\n",
      "spark-2.4.5-bin-hadoop2.7/examples/src/main/scala/org/apache/spark/examples/ml/CorrelationExample.scala\n",
      "spark-2.4.5-bin-hadoop2.7/examples/src/main/scala/org/apache/spark/examples/ml/ChiSquareTestExample.scala\n",
      "spark-2.4.5-bin-hadoop2.7/examples/src/main/scala/org/apache/spark/examples/ml/BucketizerExample.scala\n",
      "spark-2.4.5-bin-hadoop2.7/examples/src/main/scala/org/apache/spark/examples/ml/BucketedRandomProjectionLSHExample.scala\n",
      "spark-2.4.5-bin-hadoop2.7/examples/src/main/scala/org/apache/spark/examples/graphx/\n",
      "spark-2.4.5-bin-hadoop2.7/examples/src/main/scala/org/apache/spark/examples/graphx/SynthBenchmark.scala\n",
      "spark-2.4.5-bin-hadoop2.7/examples/src/main/scala/org/apache/spark/examples/graphx/LiveJournalPageRank.scala\n",
      "spark-2.4.5-bin-hadoop2.7/examples/src/main/scala/org/apache/spark/examples/graphx/TriangleCountingExample.scala\n",
      "spark-2.4.5-bin-hadoop2.7/examples/src/main/scala/org/apache/spark/examples/graphx/SSSPExample.scala\n",
      "spark-2.4.5-bin-hadoop2.7/examples/src/main/scala/org/apache/spark/examples/graphx/PageRankExample.scala\n",
      "spark-2.4.5-bin-hadoop2.7/examples/src/main/scala/org/apache/spark/examples/graphx/ConnectedComponentsExample.scala\n",
      "spark-2.4.5-bin-hadoop2.7/examples/src/main/scala/org/apache/spark/examples/graphx/ComprehensiveExample.scala\n",
      "spark-2.4.5-bin-hadoop2.7/examples/src/main/scala/org/apache/spark/examples/graphx/Analytics.scala\n",
      "spark-2.4.5-bin-hadoop2.7/examples/src/main/scala/org/apache/spark/examples/graphx/AggregateMessagesExample.scala\n",
      "spark-2.4.5-bin-hadoop2.7/examples/src/main/resources/\n",
      "spark-2.4.5-bin-hadoop2.7/examples/src/main/resources/users.parquet\n",
      "spark-2.4.5-bin-hadoop2.7/examples/src/main/resources/users.orc\n",
      "spark-2.4.5-bin-hadoop2.7/examples/src/main/resources/users.avro\n",
      "spark-2.4.5-bin-hadoop2.7/examples/src/main/resources/user.avsc\n",
      "spark-2.4.5-bin-hadoop2.7/examples/src/main/resources/people.txt\n",
      "spark-2.4.5-bin-hadoop2.7/examples/src/main/resources/people.json\n",
      "spark-2.4.5-bin-hadoop2.7/examples/src/main/resources/people.csv\n",
      "spark-2.4.5-bin-hadoop2.7/examples/src/main/resources/kv1.txt\n",
      "spark-2.4.5-bin-hadoop2.7/examples/src/main/resources/full_user.avsc\n",
      "spark-2.4.5-bin-hadoop2.7/examples/src/main/resources/employees.json\n",
      "spark-2.4.5-bin-hadoop2.7/examples/src/main/r/\n",
      "spark-2.4.5-bin-hadoop2.7/examples/src/main/r/RSparkSQLExample.R\n",
      "spark-2.4.5-bin-hadoop2.7/examples/src/main/r/streaming/\n",
      "spark-2.4.5-bin-hadoop2.7/examples/src/main/r/streaming/structured_network_wordcount.R\n",
      "spark-2.4.5-bin-hadoop2.7/examples/src/main/r/ml/\n",
      "spark-2.4.5-bin-hadoop2.7/examples/src/main/r/ml/svmLinear.R\n",
      "spark-2.4.5-bin-hadoop2.7/examples/src/main/r/ml/survreg.R\n",
      "spark-2.4.5-bin-hadoop2.7/examples/src/main/r/ml/randomForest.R\n",
      "spark-2.4.5-bin-hadoop2.7/examples/src/main/r/ml/naiveBayes.R\n",
      "spark-2.4.5-bin-hadoop2.7/examples/src/main/r/ml/mlp.R\n",
      "spark-2.4.5-bin-hadoop2.7/examples/src/main/r/ml/ml.R\n",
      "spark-2.4.5-bin-hadoop2.7/examples/src/main/r/ml/logit.R\n",
      "spark-2.4.5-bin-hadoop2.7/examples/src/main/r/ml/lda.R\n",
      "spark-2.4.5-bin-hadoop2.7/examples/src/main/r/ml/kstest.R\n",
      "spark-2.4.5-bin-hadoop2.7/examples/src/main/r/ml/kmeans.R\n",
      "spark-2.4.5-bin-hadoop2.7/examples/src/main/r/ml/isoreg.R\n",
      "spark-2.4.5-bin-hadoop2.7/examples/src/main/r/ml/glm.R\n",
      "spark-2.4.5-bin-hadoop2.7/examples/src/main/r/ml/gbt.R\n",
      "spark-2.4.5-bin-hadoop2.7/examples/src/main/r/ml/gaussianMixture.R\n",
      "spark-2.4.5-bin-hadoop2.7/examples/src/main/r/ml/fpm.R\n",
      "spark-2.4.5-bin-hadoop2.7/examples/src/main/r/ml/decisionTree.R\n",
      "spark-2.4.5-bin-hadoop2.7/examples/src/main/r/ml/bisectingKmeans.R\n",
      "spark-2.4.5-bin-hadoop2.7/examples/src/main/r/ml/als.R\n",
      "spark-2.4.5-bin-hadoop2.7/examples/src/main/r/dataframe.R\n",
      "spark-2.4.5-bin-hadoop2.7/examples/src/main/r/data-manipulation.R\n",
      "spark-2.4.5-bin-hadoop2.7/examples/src/main/python/\n",
      "spark-2.4.5-bin-hadoop2.7/examples/src/main/python/wordcount.py\n",
      "spark-2.4.5-bin-hadoop2.7/examples/src/main/python/transitive_closure.py\n",
      "spark-2.4.5-bin-hadoop2.7/examples/src/main/python/streaming/\n",
      "spark-2.4.5-bin-hadoop2.7/examples/src/main/python/streaming/recoverable_network_wordcount.py\n",
      "spark-2.4.5-bin-hadoop2.7/examples/src/main/python/streaming/kafka_wordcount.py\n",
      "spark-2.4.5-bin-hadoop2.7/examples/src/main/python/streaming/flume_wordcount.py\n",
      "spark-2.4.5-bin-hadoop2.7/examples/src/main/python/streaming/direct_kafka_wordcount.py\n",
      "spark-2.4.5-bin-hadoop2.7/examples/src/main/python/streaming/stateful_network_wordcount.py\n",
      "spark-2.4.5-bin-hadoop2.7/examples/src/main/python/streaming/sql_network_wordcount.py\n",
      "spark-2.4.5-bin-hadoop2.7/examples/src/main/python/streaming/queue_stream.py\n",
      "spark-2.4.5-bin-hadoop2.7/examples/src/main/python/streaming/network_wordjoinsentiments.py\n",
      "spark-2.4.5-bin-hadoop2.7/examples/src/main/python/streaming/network_wordcount.py\n",
      "spark-2.4.5-bin-hadoop2.7/examples/src/main/python/streaming/hdfs_wordcount.py\n",
      "spark-2.4.5-bin-hadoop2.7/examples/src/main/python/status_api_demo.py\n",
      "spark-2.4.5-bin-hadoop2.7/examples/src/main/python/sql/\n",
      "spark-2.4.5-bin-hadoop2.7/examples/src/main/python/sql/hive.py\n",
      "spark-2.4.5-bin-hadoop2.7/examples/src/main/python/sql/datasource.py\n",
      "spark-2.4.5-bin-hadoop2.7/examples/src/main/python/sql/arrow.py\n",
      "spark-2.4.5-bin-hadoop2.7/examples/src/main/python/sql/streaming/\n",
      "spark-2.4.5-bin-hadoop2.7/examples/src/main/python/sql/streaming/structured_network_wordcount_windowed.py\n",
      "spark-2.4.5-bin-hadoop2.7/examples/src/main/python/sql/streaming/structured_network_wordcount.py\n",
      "spark-2.4.5-bin-hadoop2.7/examples/src/main/python/sql/streaming/structured_kafka_wordcount.py\n",
      "spark-2.4.5-bin-hadoop2.7/examples/src/main/python/sql/basic.py\n",
      "spark-2.4.5-bin-hadoop2.7/examples/src/main/python/sort.py\n",
      "spark-2.4.5-bin-hadoop2.7/examples/src/main/python/pi.py\n",
      "spark-2.4.5-bin-hadoop2.7/examples/src/main/python/parquet_inputformat.py\n",
      "spark-2.4.5-bin-hadoop2.7/examples/src/main/python/pagerank.py\n",
      "spark-2.4.5-bin-hadoop2.7/examples/src/main/python/mllib/\n",
      "spark-2.4.5-bin-hadoop2.7/examples/src/main/python/mllib/standard_scaler_example.py\n",
      "spark-2.4.5-bin-hadoop2.7/examples/src/main/python/mllib/ranking_metrics_example.py\n",
      "spark-2.4.5-bin-hadoop2.7/examples/src/main/python/mllib/multi_class_metrics_example.py\n",
      "spark-2.4.5-bin-hadoop2.7/examples/src/main/python/mllib/isotonic_regression_example.py\n",
      "spark-2.4.5-bin-hadoop2.7/examples/src/main/python/mllib/bisecting_k_means_example.py\n",
      "spark-2.4.5-bin-hadoop2.7/examples/src/main/python/mllib/word2vec_example.py\n",
      "spark-2.4.5-bin-hadoop2.7/examples/src/main/python/mllib/word2vec.py\n",
      "spark-2.4.5-bin-hadoop2.7/examples/src/main/python/mllib/tf_idf_example.py\n",
      "spark-2.4.5-bin-hadoop2.7/examples/src/main/python/mllib/svm_with_sgd_example.py\n",
      "spark-2.4.5-bin-hadoop2.7/examples/src/main/python/mllib/svd_example.py\n",
      "spark-2.4.5-bin-hadoop2.7/examples/src/main/python/mllib/summary_statistics_example.py\n",
      "spark-2.4.5-bin-hadoop2.7/examples/src/main/python/mllib/streaming_linear_regression_example.py\n",
      "spark-2.4.5-bin-hadoop2.7/examples/src/main/python/mllib/streaming_k_means_example.py\n",
      "spark-2.4.5-bin-hadoop2.7/examples/src/main/python/mllib/stratified_sampling_example.py\n",
      "spark-2.4.5-bin-hadoop2.7/examples/src/main/python/mllib/sampled_rdds.py\n",
      "spark-2.4.5-bin-hadoop2.7/examples/src/main/python/mllib/regression_metrics_example.py\n",
      "spark-2.4.5-bin-hadoop2.7/examples/src/main/python/mllib/recommendation_example.py\n",
      "spark-2.4.5-bin-hadoop2.7/examples/src/main/python/mllib/random_rdd_generation.py\n",
      "spark-2.4.5-bin-hadoop2.7/examples/src/main/python/mllib/random_forest_regression_example.py\n",
      "spark-2.4.5-bin-hadoop2.7/examples/src/main/python/mllib/random_forest_classification_example.py\n",
      "spark-2.4.5-bin-hadoop2.7/examples/src/main/python/mllib/power_iteration_clustering_example.py\n",
      "spark-2.4.5-bin-hadoop2.7/examples/src/main/python/mllib/pca_rowmatrix_example.py\n",
      "spark-2.4.5-bin-hadoop2.7/examples/src/main/python/mllib/normalizer_example.py\n",
      "spark-2.4.5-bin-hadoop2.7/examples/src/main/python/mllib/naive_bayes_example.py\n",
      "spark-2.4.5-bin-hadoop2.7/examples/src/main/python/mllib/multi_label_metrics_example.py\n",
      "spark-2.4.5-bin-hadoop2.7/examples/src/main/python/mllib/logistic_regression_with_lbfgs_example.py\n",
      "spark-2.4.5-bin-hadoop2.7/examples/src/main/python/mllib/logistic_regression.py\n",
      "spark-2.4.5-bin-hadoop2.7/examples/src/main/python/mllib/linear_regression_with_sgd_example.py\n",
      "spark-2.4.5-bin-hadoop2.7/examples/src/main/python/mllib/latent_dirichlet_allocation_example.py\n",
      "spark-2.4.5-bin-hadoop2.7/examples/src/main/python/mllib/kmeans.py\n",
      "spark-2.4.5-bin-hadoop2.7/examples/src/main/python/mllib/kernel_density_estimation_example.py\n",
      "spark-2.4.5-bin-hadoop2.7/examples/src/main/python/mllib/k_means_example.py\n",
      "spark-2.4.5-bin-hadoop2.7/examples/src/main/python/mllib/hypothesis_testing_kolmogorov_smirnov_test_example.py\n",
      "spark-2.4.5-bin-hadoop2.7/examples/src/main/python/mllib/hypothesis_testing_example.py\n",
      "spark-2.4.5-bin-hadoop2.7/examples/src/main/python/mllib/gradient_boosting_regression_example.py\n",
      "spark-2.4.5-bin-hadoop2.7/examples/src/main/python/mllib/gradient_boosting_classification_example.py\n",
      "spark-2.4.5-bin-hadoop2.7/examples/src/main/python/mllib/gaussian_mixture_model.py\n",
      "spark-2.4.5-bin-hadoop2.7/examples/src/main/python/mllib/gaussian_mixture_example.py\n",
      "spark-2.4.5-bin-hadoop2.7/examples/src/main/python/mllib/fpgrowth_example.py\n",
      "spark-2.4.5-bin-hadoop2.7/examples/src/main/python/mllib/elementwise_product_example.py\n",
      "spark-2.4.5-bin-hadoop2.7/examples/src/main/python/mllib/decision_tree_regression_example.py\n",
      "spark-2.4.5-bin-hadoop2.7/examples/src/main/python/mllib/decision_tree_classification_example.py\n",
      "spark-2.4.5-bin-hadoop2.7/examples/src/main/python/mllib/correlations_example.py\n",
      "spark-2.4.5-bin-hadoop2.7/examples/src/main/python/mllib/correlations.py\n",
      "spark-2.4.5-bin-hadoop2.7/examples/src/main/python/mllib/binary_classification_metrics_example.py\n",
      "spark-2.4.5-bin-hadoop2.7/examples/src/main/python/ml/\n",
      "spark-2.4.5-bin-hadoop2.7/examples/src/main/python/ml/onehot_encoder_estimator_example.py\n",
      "spark-2.4.5-bin-hadoop2.7/examples/src/main/python/ml/bisecting_k_means_example.py\n",
      "spark-2.4.5-bin-hadoop2.7/examples/src/main/python/ml/word2vec_example.py\n",
      "spark-2.4.5-bin-hadoop2.7/examples/src/main/python/ml/vector_slicer_example.py\n",
      "spark-2.4.5-bin-hadoop2.7/examples/src/main/python/ml/vector_size_hint_example.py\n",
      "spark-2.4.5-bin-hadoop2.7/examples/src/main/python/ml/vector_indexer_example.py\n",
      "spark-2.4.5-bin-hadoop2.7/examples/src/main/python/ml/vector_assembler_example.py\n",
      "spark-2.4.5-bin-hadoop2.7/examples/src/main/python/ml/train_validation_split.py\n",
      "spark-2.4.5-bin-hadoop2.7/examples/src/main/python/ml/tokenizer_example.py\n",
      "spark-2.4.5-bin-hadoop2.7/examples/src/main/python/ml/tf_idf_example.py\n",
      "spark-2.4.5-bin-hadoop2.7/examples/src/main/python/ml/summarizer_example.py\n",
      "spark-2.4.5-bin-hadoop2.7/examples/src/main/python/ml/string_indexer_example.py\n",
      "spark-2.4.5-bin-hadoop2.7/examples/src/main/python/ml/stopwords_remover_example.py\n",
      "spark-2.4.5-bin-hadoop2.7/examples/src/main/python/ml/standard_scaler_example.py\n",
      "spark-2.4.5-bin-hadoop2.7/examples/src/main/python/ml/sql_transformer.py\n",
      "spark-2.4.5-bin-hadoop2.7/examples/src/main/python/ml/rformula_example.py\n",
      "spark-2.4.5-bin-hadoop2.7/examples/src/main/python/ml/random_forest_regressor_example.py\n",
      "spark-2.4.5-bin-hadoop2.7/examples/src/main/python/ml/random_forest_classifier_example.py\n",
      "spark-2.4.5-bin-hadoop2.7/examples/src/main/python/ml/quantile_discretizer_example.py\n",
      "spark-2.4.5-bin-hadoop2.7/examples/src/main/python/ml/prefixspan_example.py\n",
      "spark-2.4.5-bin-hadoop2.7/examples/src/main/python/ml/polynomial_expansion_example.py\n",
      "spark-2.4.5-bin-hadoop2.7/examples/src/main/python/ml/pipeline_example.py\n",
      "spark-2.4.5-bin-hadoop2.7/examples/src/main/python/ml/pca_example.py\n",
      "spark-2.4.5-bin-hadoop2.7/examples/src/main/python/ml/one_vs_rest_example.py\n",
      "spark-2.4.5-bin-hadoop2.7/examples/src/main/python/ml/normalizer_example.py\n",
      "spark-2.4.5-bin-hadoop2.7/examples/src/main/python/ml/naive_bayes_example.py\n",
      "spark-2.4.5-bin-hadoop2.7/examples/src/main/python/ml/n_gram_example.py\n",
      "spark-2.4.5-bin-hadoop2.7/examples/src/main/python/ml/multilayer_perceptron_classification.py\n",
      "spark-2.4.5-bin-hadoop2.7/examples/src/main/python/ml/multiclass_logistic_regression_with_elastic_net.py\n",
      "spark-2.4.5-bin-hadoop2.7/examples/src/main/python/ml/min_max_scaler_example.py\n",
      "spark-2.4.5-bin-hadoop2.7/examples/src/main/python/ml/min_hash_lsh_example.py\n",
      "spark-2.4.5-bin-hadoop2.7/examples/src/main/python/ml/max_abs_scaler_example.py\n",
      "spark-2.4.5-bin-hadoop2.7/examples/src/main/python/ml/logistic_regression_with_elastic_net.py\n",
      "spark-2.4.5-bin-hadoop2.7/examples/src/main/python/ml/logistic_regression_summary_example.py\n",
      "spark-2.4.5-bin-hadoop2.7/examples/src/main/python/ml/linearsvc.py\n",
      "spark-2.4.5-bin-hadoop2.7/examples/src/main/python/ml/linear_regression_with_elastic_net.py\n",
      "spark-2.4.5-bin-hadoop2.7/examples/src/main/python/ml/lda_example.py\n",
      "spark-2.4.5-bin-hadoop2.7/examples/src/main/python/ml/kmeans_example.py\n",
      "spark-2.4.5-bin-hadoop2.7/examples/src/main/python/ml/isotonic_regression_example.py\n",
      "spark-2.4.5-bin-hadoop2.7/examples/src/main/python/ml/index_to_string_example.py\n",
      "spark-2.4.5-bin-hadoop2.7/examples/src/main/python/ml/imputer_example.py\n",
      "spark-2.4.5-bin-hadoop2.7/examples/src/main/python/ml/gradient_boosted_tree_regressor_example.py\n",
      "spark-2.4.5-bin-hadoop2.7/examples/src/main/python/ml/gradient_boosted_tree_classifier_example.py\n",
      "spark-2.4.5-bin-hadoop2.7/examples/src/main/python/ml/generalized_linear_regression_example.py\n",
      "spark-2.4.5-bin-hadoop2.7/examples/src/main/python/ml/gaussian_mixture_example.py\n",
      "spark-2.4.5-bin-hadoop2.7/examples/src/main/python/ml/fpgrowth_example.py\n",
      "spark-2.4.5-bin-hadoop2.7/examples/src/main/python/ml/feature_hasher_example.py\n",
      "spark-2.4.5-bin-hadoop2.7/examples/src/main/python/ml/estimator_transformer_param_example.py\n",
      "spark-2.4.5-bin-hadoop2.7/examples/src/main/python/ml/elementwise_product_example.py\n",
      "spark-2.4.5-bin-hadoop2.7/examples/src/main/python/ml/decision_tree_regression_example.py\n",
      "spark-2.4.5-bin-hadoop2.7/examples/src/main/python/ml/decision_tree_classification_example.py\n",
      "spark-2.4.5-bin-hadoop2.7/examples/src/main/python/ml/dct_example.py\n",
      "spark-2.4.5-bin-hadoop2.7/examples/src/main/python/ml/dataframe_example.py\n",
      "spark-2.4.5-bin-hadoop2.7/examples/src/main/python/ml/cross_validator.py\n",
      "spark-2.4.5-bin-hadoop2.7/examples/src/main/python/ml/count_vectorizer_example.py\n",
      "spark-2.4.5-bin-hadoop2.7/examples/src/main/python/ml/correlation_example.py\n",
      "spark-2.4.5-bin-hadoop2.7/examples/src/main/python/ml/chisq_selector_example.py\n",
      "spark-2.4.5-bin-hadoop2.7/examples/src/main/python/ml/chi_square_test_example.py\n",
      "spark-2.4.5-bin-hadoop2.7/examples/src/main/python/ml/bucketizer_example.py\n",
      "spark-2.4.5-bin-hadoop2.7/examples/src/main/python/ml/bucketed_random_projection_lsh_example.py\n",
      "spark-2.4.5-bin-hadoop2.7/examples/src/main/python/ml/binarizer_example.py\n",
      "spark-2.4.5-bin-hadoop2.7/examples/src/main/python/ml/als_example.py\n",
      "spark-2.4.5-bin-hadoop2.7/examples/src/main/python/ml/aft_survival_regression.py\n",
      "spark-2.4.5-bin-hadoop2.7/examples/src/main/python/logistic_regression.py\n",
      "spark-2.4.5-bin-hadoop2.7/examples/src/main/python/kmeans.py\n",
      "spark-2.4.5-bin-hadoop2.7/examples/src/main/python/avro_inputformat.py\n",
      "spark-2.4.5-bin-hadoop2.7/examples/src/main/python/als.py\n",
      "spark-2.4.5-bin-hadoop2.7/kubernetes/\n",
      "spark-2.4.5-bin-hadoop2.7/kubernetes/dockerfiles/\n",
      "spark-2.4.5-bin-hadoop2.7/kubernetes/dockerfiles/spark/\n",
      "spark-2.4.5-bin-hadoop2.7/kubernetes/dockerfiles/spark/entrypoint.sh\n",
      "spark-2.4.5-bin-hadoop2.7/kubernetes/dockerfiles/spark/Dockerfile\n",
      "spark-2.4.5-bin-hadoop2.7/kubernetes/dockerfiles/spark/bindings/\n",
      "spark-2.4.5-bin-hadoop2.7/kubernetes/dockerfiles/spark/bindings/python/\n",
      "spark-2.4.5-bin-hadoop2.7/kubernetes/dockerfiles/spark/bindings/python/Dockerfile\n",
      "spark-2.4.5-bin-hadoop2.7/kubernetes/dockerfiles/spark/bindings/R/\n",
      "spark-2.4.5-bin-hadoop2.7/kubernetes/dockerfiles/spark/bindings/R/Dockerfile\n",
      "spark-2.4.5-bin-hadoop2.7/kubernetes/tests/\n",
      "spark-2.4.5-bin-hadoop2.7/kubernetes/tests/pyfiles.py\n",
      "spark-2.4.5-bin-hadoop2.7/kubernetes/tests/worker_memory_check.py\n",
      "spark-2.4.5-bin-hadoop2.7/kubernetes/tests/py_container_checks.py\n",
      "spark-2.4.5-bin-hadoop2.7/yarn/\n",
      "spark-2.4.5-bin-hadoop2.7/yarn/spark-2.4.5-yarn-shuffle.jar\n",
      "spark-2.4.5-bin-hadoop2.7/jars/\n",
      "spark-2.4.5-bin-hadoop2.7/jars/scala-compiler-2.11.12.jar\n",
      "spark-2.4.5-bin-hadoop2.7/jars/pyrolite-4.13.jar\n",
      "spark-2.4.5-bin-hadoop2.7/jars/py4j-0.10.7.jar\n",
      "spark-2.4.5-bin-hadoop2.7/jars/protobuf-java-2.5.0.jar\n",
      "spark-2.4.5-bin-hadoop2.7/jars/parquet-jackson-1.10.1.jar\n",
      "spark-2.4.5-bin-hadoop2.7/jars/parquet-hadoop-bundle-1.6.0.jar\n",
      "spark-2.4.5-bin-hadoop2.7/jars/parquet-hadoop-1.10.1.jar\n",
      "spark-2.4.5-bin-hadoop2.7/jars/parquet-format-2.4.0.jar\n",
      "spark-2.4.5-bin-hadoop2.7/jars/parquet-encoding-1.10.1.jar\n",
      "spark-2.4.5-bin-hadoop2.7/jars/parquet-common-1.10.1.jar\n",
      "spark-2.4.5-bin-hadoop2.7/jars/parquet-column-1.10.1.jar\n",
      "spark-2.4.5-bin-hadoop2.7/jars/paranamer-2.8.jar\n",
      "spark-2.4.5-bin-hadoop2.7/jars/osgi-resource-locator-1.0.1.jar\n",
      "spark-2.4.5-bin-hadoop2.7/jars/oro-2.0.8.jar\n",
      "spark-2.4.5-bin-hadoop2.7/jars/orc-shims-1.5.5.jar\n",
      "spark-2.4.5-bin-hadoop2.7/jars/orc-mapreduce-1.5.5-nohive.jar\n",
      "spark-2.4.5-bin-hadoop2.7/jars/orc-core-1.5.5-nohive.jar\n",
      "spark-2.4.5-bin-hadoop2.7/jars/opencsv-2.3.jar\n",
      "spark-2.4.5-bin-hadoop2.7/jars/okio-1.15.0.jar\n",
      "spark-2.4.5-bin-hadoop2.7/jars/okhttp-3.12.0.jar\n",
      "spark-2.4.5-bin-hadoop2.7/jars/objenesis-2.5.1.jar\n",
      "spark-2.4.5-bin-hadoop2.7/jars/netty-all-4.1.42.Final.jar\n",
      "spark-2.4.5-bin-hadoop2.7/jars/netty-3.9.9.Final.jar\n",
      "spark-2.4.5-bin-hadoop2.7/jars/minlog-1.3.0.jar\n",
      "spark-2.4.5-bin-hadoop2.7/jars/metrics-jvm-3.1.5.jar\n",
      "spark-2.4.5-bin-hadoop2.7/jars/metrics-json-3.1.5.jar\n",
      "spark-2.4.5-bin-hadoop2.7/jars/metrics-graphite-3.1.5.jar\n",
      "spark-2.4.5-bin-hadoop2.7/jars/metrics-core-3.1.5.jar\n",
      "spark-2.4.5-bin-hadoop2.7/jars/mesos-1.4.0-shaded-protobuf.jar\n",
      "spark-2.4.5-bin-hadoop2.7/jars/macro-compat_2.11-1.1.1.jar\n",
      "spark-2.4.5-bin-hadoop2.7/jars/machinist_2.11-0.6.1.jar\n",
      "spark-2.4.5-bin-hadoop2.7/jars/lz4-java-1.4.0.jar\n",
      "spark-2.4.5-bin-hadoop2.7/jars/logging-interceptor-3.12.0.jar\n",
      "spark-2.4.5-bin-hadoop2.7/jars/zstd-jni-1.3.2-2.jar\n",
      "spark-2.4.5-bin-hadoop2.7/jars/zookeeper-3.4.6.jar\n",
      "spark-2.4.5-bin-hadoop2.7/jars/zjsonpatch-0.3.0.jar\n",
      "spark-2.4.5-bin-hadoop2.7/jars/xz-1.5.jar\n",
      "spark-2.4.5-bin-hadoop2.7/jars/xmlenc-0.52.jar\n",
      "spark-2.4.5-bin-hadoop2.7/jars/xercesImpl-2.9.1.jar\n",
      "spark-2.4.5-bin-hadoop2.7/jars/xbean-asm6-shaded-4.8.jar\n",
      "spark-2.4.5-bin-hadoop2.7/jars/validation-api-1.1.0.Final.jar\n",
      "spark-2.4.5-bin-hadoop2.7/jars/univocity-parsers-2.7.3.jar\n",
      "spark-2.4.5-bin-hadoop2.7/jars/super-csv-2.2.0.jar\n",
      "spark-2.4.5-bin-hadoop2.7/jars/stringtemplate-3.2.1.jar\n",
      "spark-2.4.5-bin-hadoop2.7/jars/stream-2.7.0.jar\n",
      "spark-2.4.5-bin-hadoop2.7/jars/stax-api-1.0.1.jar\n",
      "spark-2.4.5-bin-hadoop2.7/jars/stax-api-1.0-2.jar\n",
      "spark-2.4.5-bin-hadoop2.7/jars/spire_2.11-0.13.0.jar\n",
      "spark-2.4.5-bin-hadoop2.7/jars/spire-macros_2.11-0.13.0.jar\n",
      "spark-2.4.5-bin-hadoop2.7/jars/spark-yarn_2.11-2.4.5.jar\n",
      "spark-2.4.5-bin-hadoop2.7/jars/spark-unsafe_2.11-2.4.5.jar\n",
      "spark-2.4.5-bin-hadoop2.7/jars/spark-tags_2.11-2.4.5.jar\n",
      "spark-2.4.5-bin-hadoop2.7/jars/spark-tags_2.11-2.4.5-tests.jar\n",
      "spark-2.4.5-bin-hadoop2.7/jars/spark-streaming_2.11-2.4.5.jar\n",
      "spark-2.4.5-bin-hadoop2.7/jars/spark-sql_2.11-2.4.5.jar\n",
      "spark-2.4.5-bin-hadoop2.7/jars/spark-sketch_2.11-2.4.5.jar\n",
      "spark-2.4.5-bin-hadoop2.7/jars/spark-repl_2.11-2.4.5.jar\n",
      "spark-2.4.5-bin-hadoop2.7/jars/spark-network-shuffle_2.11-2.4.5.jar\n",
      "spark-2.4.5-bin-hadoop2.7/jars/spark-network-common_2.11-2.4.5.jar\n",
      "spark-2.4.5-bin-hadoop2.7/jars/spark-mllib_2.11-2.4.5.jar\n",
      "spark-2.4.5-bin-hadoop2.7/jars/spark-mllib-local_2.11-2.4.5.jar\n",
      "spark-2.4.5-bin-hadoop2.7/jars/spark-mesos_2.11-2.4.5.jar\n",
      "spark-2.4.5-bin-hadoop2.7/jars/spark-launcher_2.11-2.4.5.jar\n",
      "spark-2.4.5-bin-hadoop2.7/jars/spark-kvstore_2.11-2.4.5.jar\n",
      "spark-2.4.5-bin-hadoop2.7/jars/spark-kubernetes_2.11-2.4.5.jar\n",
      "spark-2.4.5-bin-hadoop2.7/jars/spark-hive_2.11-2.4.5.jar\n",
      "spark-2.4.5-bin-hadoop2.7/jars/spark-hive-thriftserver_2.11-2.4.5.jar\n",
      "spark-2.4.5-bin-hadoop2.7/jars/spark-graphx_2.11-2.4.5.jar\n",
      "spark-2.4.5-bin-hadoop2.7/jars/spark-core_2.11-2.4.5.jar\n",
      "spark-2.4.5-bin-hadoop2.7/jars/spark-catalyst_2.11-2.4.5.jar\n",
      "spark-2.4.5-bin-hadoop2.7/jars/snappy-java-1.1.7.3.jar\n",
      "spark-2.4.5-bin-hadoop2.7/jars/snappy-0.2.jar\n",
      "spark-2.4.5-bin-hadoop2.7/jars/snakeyaml-1.15.jar\n",
      "spark-2.4.5-bin-hadoop2.7/jars/slf4j-log4j12-1.7.16.jar\n",
      "spark-2.4.5-bin-hadoop2.7/jars/slf4j-api-1.7.16.jar\n",
      "spark-2.4.5-bin-hadoop2.7/jars/shims-0.7.45.jar\n",
      "spark-2.4.5-bin-hadoop2.7/jars/shapeless_2.11-2.3.2.jar\n",
      "spark-2.4.5-bin-hadoop2.7/jars/scala-xml_2.11-1.0.5.jar\n",
      "spark-2.4.5-bin-hadoop2.7/jars/scala-reflect-2.11.12.jar\n",
      "spark-2.4.5-bin-hadoop2.7/jars/scala-parser-combinators_2.11-1.1.0.jar\n",
      "spark-2.4.5-bin-hadoop2.7/jars/scala-library-2.11.12.jar\n",
      "spark-2.4.5-bin-hadoop2.7/jars/log4j-1.2.17.jar\n",
      "spark-2.4.5-bin-hadoop2.7/jars/libthrift-0.9.3.jar\n",
      "spark-2.4.5-bin-hadoop2.7/jars/libfb303-0.9.3.jar\n",
      "spark-2.4.5-bin-hadoop2.7/jars/leveldbjni-all-1.8.jar\n",
      "spark-2.4.5-bin-hadoop2.7/jars/kubernetes-model-common-4.6.1.jar\n",
      "spark-2.4.5-bin-hadoop2.7/jars/kubernetes-model-4.6.1.jar\n",
      "spark-2.4.5-bin-hadoop2.7/jars/kubernetes-client-4.6.1.jar\n",
      "spark-2.4.5-bin-hadoop2.7/jars/kryo-shaded-4.0.2.jar\n",
      "spark-2.4.5-bin-hadoop2.7/jars/jul-to-slf4j-1.7.16.jar\n",
      "spark-2.4.5-bin-hadoop2.7/jars/jtransforms-2.4.0.jar\n",
      "spark-2.4.5-bin-hadoop2.7/jars/jta-1.1.jar\n",
      "spark-2.4.5-bin-hadoop2.7/jars/jsr305-1.3.9.jar\n",
      "spark-2.4.5-bin-hadoop2.7/jars/jsp-api-2.1.jar\n",
      "spark-2.4.5-bin-hadoop2.7/jars/json4s-scalap_2.11-3.5.3.jar\n",
      "spark-2.4.5-bin-hadoop2.7/jars/json4s-jackson_2.11-3.5.3.jar\n",
      "spark-2.4.5-bin-hadoop2.7/jars/json4s-core_2.11-3.5.3.jar\n",
      "spark-2.4.5-bin-hadoop2.7/jars/json4s-ast_2.11-3.5.3.jar\n",
      "spark-2.4.5-bin-hadoop2.7/jars/jpam-1.1.jar\n",
      "spark-2.4.5-bin-hadoop2.7/jars/jodd-core-3.5.2.jar\n",
      "spark-2.4.5-bin-hadoop2.7/jars/joda-time-2.9.3.jar\n",
      "spark-2.4.5-bin-hadoop2.7/jars/jline-2.14.6.jar\n",
      "spark-2.4.5-bin-hadoop2.7/jars/jetty-util-6.1.26.jar\n",
      "spark-2.4.5-bin-hadoop2.7/jars/jetty-6.1.26.jar\n",
      "spark-2.4.5-bin-hadoop2.7/jars/jersey-server-2.22.2.jar\n",
      "spark-2.4.5-bin-hadoop2.7/jars/jersey-media-jaxb-2.22.2.jar\n",
      "spark-2.4.5-bin-hadoop2.7/jars/jersey-guava-2.22.2.jar\n",
      "spark-2.4.5-bin-hadoop2.7/jars/jersey-container-servlet-core-2.22.2.jar\n",
      "spark-2.4.5-bin-hadoop2.7/jars/jersey-container-servlet-2.22.2.jar\n",
      "spark-2.4.5-bin-hadoop2.7/jars/jersey-common-2.22.2.jar\n",
      "spark-2.4.5-bin-hadoop2.7/jars/jersey-client-2.22.2.jar\n",
      "spark-2.4.5-bin-hadoop2.7/jars/jdo-api-3.0.1.jar\n",
      "spark-2.4.5-bin-hadoop2.7/jars/jcl-over-slf4j-1.7.16.jar\n",
      "spark-2.4.5-bin-hadoop2.7/jars/jaxb-api-2.2.2.jar\n",
      "spark-2.4.5-bin-hadoop2.7/jars/javolution-5.5.1.jar\n",
      "spark-2.4.5-bin-hadoop2.7/jars/javax.ws.rs-api-2.0.1.jar\n",
      "spark-2.4.5-bin-hadoop2.7/jars/javax.servlet-api-3.1.0.jar\n",
      "spark-2.4.5-bin-hadoop2.7/jars/javax.inject-2.4.0-b34.jar\n",
      "spark-2.4.5-bin-hadoop2.7/jars/javax.inject-1.jar\n",
      "spark-2.4.5-bin-hadoop2.7/jars/javax.annotation-api-1.2.jar\n",
      "spark-2.4.5-bin-hadoop2.7/jars/javassist-3.18.1-GA.jar\n",
      "spark-2.4.5-bin-hadoop2.7/jars/janino-3.0.9.jar\n",
      "spark-2.4.5-bin-hadoop2.7/jars/jackson-xc-1.9.13.jar\n",
      "spark-2.4.5-bin-hadoop2.7/jars/jackson-module-scala_2.11-2.6.7.1.jar\n",
      "spark-2.4.5-bin-hadoop2.7/jars/jackson-module-paranamer-2.7.9.jar\n",
      "spark-2.4.5-bin-hadoop2.7/jars/jackson-module-jaxb-annotations-2.6.7.jar\n",
      "spark-2.4.5-bin-hadoop2.7/jars/jackson-mapper-asl-1.9.13.jar\n",
      "spark-2.4.5-bin-hadoop2.7/jars/jackson-jaxrs-1.9.13.jar\n",
      "spark-2.4.5-bin-hadoop2.7/jars/jackson-dataformat-yaml-2.6.7.jar\n",
      "spark-2.4.5-bin-hadoop2.7/jars/jackson-databind-2.6.7.3.jar\n",
      "spark-2.4.5-bin-hadoop2.7/jars/jackson-core-asl-1.9.13.jar\n",
      "spark-2.4.5-bin-hadoop2.7/jars/jackson-core-2.6.7.jar\n",
      "spark-2.4.5-bin-hadoop2.7/jars/jackson-annotations-2.6.7.jar\n",
      "spark-2.4.5-bin-hadoop2.7/jars/ivy-2.4.0.jar\n",
      "spark-2.4.5-bin-hadoop2.7/jars/httpcore-4.4.10.jar\n",
      "spark-2.4.5-bin-hadoop2.7/jars/httpclient-4.5.6.jar\n",
      "spark-2.4.5-bin-hadoop2.7/jars/htrace-core-3.1.0-incubating.jar\n",
      "spark-2.4.5-bin-hadoop2.7/jars/hppc-0.7.2.jar\n",
      "spark-2.4.5-bin-hadoop2.7/jars/hk2-utils-2.4.0-b34.jar\n",
      "spark-2.4.5-bin-hadoop2.7/jars/hk2-locator-2.4.0-b34.jar\n",
      "spark-2.4.5-bin-hadoop2.7/jars/hk2-api-2.4.0-b34.jar\n",
      "spark-2.4.5-bin-hadoop2.7/jars/hive-metastore-1.2.1.spark2.jar\n",
      "spark-2.4.5-bin-hadoop2.7/jars/hive-jdbc-1.2.1.spark2.jar\n",
      "spark-2.4.5-bin-hadoop2.7/jars/hive-exec-1.2.1.spark2.jar\n",
      "spark-2.4.5-bin-hadoop2.7/jars/hive-cli-1.2.1.spark2.jar\n",
      "spark-2.4.5-bin-hadoop2.7/jars/hive-beeline-1.2.1.spark2.jar\n",
      "spark-2.4.5-bin-hadoop2.7/jars/hadoop-yarn-server-web-proxy-2.7.3.jar\n",
      "spark-2.4.5-bin-hadoop2.7/jars/hadoop-yarn-server-common-2.7.3.jar\n",
      "spark-2.4.5-bin-hadoop2.7/jars/hadoop-yarn-common-2.7.3.jar\n",
      "spark-2.4.5-bin-hadoop2.7/jars/hadoop-yarn-client-2.7.3.jar\n",
      "spark-2.4.5-bin-hadoop2.7/jars/hadoop-yarn-api-2.7.3.jar\n",
      "spark-2.4.5-bin-hadoop2.7/jars/hadoop-mapreduce-client-shuffle-2.7.3.jar\n",
      "spark-2.4.5-bin-hadoop2.7/jars/hadoop-mapreduce-client-jobclient-2.7.3.jar\n",
      "spark-2.4.5-bin-hadoop2.7/jars/hadoop-mapreduce-client-core-2.7.3.jar\n",
      "spark-2.4.5-bin-hadoop2.7/jars/hadoop-mapreduce-client-common-2.7.3.jar\n",
      "spark-2.4.5-bin-hadoop2.7/jars/hadoop-mapreduce-client-app-2.7.3.jar\n",
      "spark-2.4.5-bin-hadoop2.7/jars/hadoop-hdfs-2.7.3.jar\n",
      "spark-2.4.5-bin-hadoop2.7/jars/hadoop-common-2.7.3.jar\n",
      "spark-2.4.5-bin-hadoop2.7/jars/hadoop-client-2.7.3.jar\n",
      "spark-2.4.5-bin-hadoop2.7/jars/hadoop-auth-2.7.3.jar\n",
      "spark-2.4.5-bin-hadoop2.7/jars/hadoop-annotations-2.7.3.jar\n",
      "spark-2.4.5-bin-hadoop2.7/jars/guice-servlet-3.0.jar\n",
      "spark-2.4.5-bin-hadoop2.7/jars/guice-3.0.jar\n",
      "spark-2.4.5-bin-hadoop2.7/jars/guava-14.0.1.jar\n",
      "spark-2.4.5-bin-hadoop2.7/jars/gson-2.2.4.jar\n",
      "spark-2.4.5-bin-hadoop2.7/jars/generex-1.0.2.jar\n",
      "spark-2.4.5-bin-hadoop2.7/jars/flatbuffers-1.2.0-3f79e055.jar\n",
      "spark-2.4.5-bin-hadoop2.7/jars/eigenbase-properties-1.1.5.jar\n",
      "spark-2.4.5-bin-hadoop2.7/jars/derby-10.12.1.1.jar\n",
      "spark-2.4.5-bin-hadoop2.7/jars/datanucleus-rdbms-3.2.9.jar\n",
      "spark-2.4.5-bin-hadoop2.7/jars/datanucleus-core-3.2.10.jar\n",
      "spark-2.4.5-bin-hadoop2.7/jars/datanucleus-api-jdo-3.2.6.jar\n",
      "spark-2.4.5-bin-hadoop2.7/jars/curator-recipes-2.7.1.jar\n",
      "spark-2.4.5-bin-hadoop2.7/jars/curator-framework-2.7.1.jar\n",
      "spark-2.4.5-bin-hadoop2.7/jars/curator-client-2.7.1.jar\n",
      "spark-2.4.5-bin-hadoop2.7/jars/core-1.1.2.jar\n",
      "spark-2.4.5-bin-hadoop2.7/jars/compress-lzf-1.0.3.jar\n",
      "spark-2.4.5-bin-hadoop2.7/jars/commons-pool-1.5.4.jar\n",
      "spark-2.4.5-bin-hadoop2.7/jars/commons-net-3.1.jar\n",
      "spark-2.4.5-bin-hadoop2.7/jars/commons-math3-3.4.1.jar\n",
      "spark-2.4.5-bin-hadoop2.7/jars/commons-logging-1.1.3.jar\n",
      "spark-2.4.5-bin-hadoop2.7/jars/commons-lang3-3.5.jar\n",
      "spark-2.4.5-bin-hadoop2.7/jars/commons-lang-2.6.jar\n",
      "spark-2.4.5-bin-hadoop2.7/jars/commons-io-2.4.jar\n",
      "spark-2.4.5-bin-hadoop2.7/jars/commons-httpclient-3.1.jar\n",
      "spark-2.4.5-bin-hadoop2.7/jars/commons-digester-1.8.jar\n",
      "spark-2.4.5-bin-hadoop2.7/jars/commons-dbcp-1.4.jar\n",
      "spark-2.4.5-bin-hadoop2.7/jars/commons-crypto-1.0.0.jar\n",
      "spark-2.4.5-bin-hadoop2.7/jars/commons-configuration-1.6.jar\n",
      "spark-2.4.5-bin-hadoop2.7/jars/commons-compress-1.8.1.jar\n",
      "spark-2.4.5-bin-hadoop2.7/jars/commons-compiler-3.0.9.jar\n",
      "spark-2.4.5-bin-hadoop2.7/jars/commons-collections-3.2.2.jar\n",
      "spark-2.4.5-bin-hadoop2.7/jars/commons-codec-1.10.jar\n",
      "spark-2.4.5-bin-hadoop2.7/jars/commons-cli-1.2.jar\n",
      "spark-2.4.5-bin-hadoop2.7/jars/commons-beanutils-1.9.4.jar\n",
      "spark-2.4.5-bin-hadoop2.7/jars/chill_2.11-0.9.3.jar\n",
      "spark-2.4.5-bin-hadoop2.7/jars/chill-java-0.9.3.jar\n",
      "spark-2.4.5-bin-hadoop2.7/jars/calcite-linq4j-1.2.0-incubating.jar\n",
      "spark-2.4.5-bin-hadoop2.7/jars/calcite-core-1.2.0-incubating.jar\n",
      "spark-2.4.5-bin-hadoop2.7/jars/calcite-avatica-1.2.0-incubating.jar\n",
      "spark-2.4.5-bin-hadoop2.7/jars/breeze_2.11-0.13.2.jar\n",
      "spark-2.4.5-bin-hadoop2.7/jars/breeze-macros_2.11-0.13.2.jar\n",
      "spark-2.4.5-bin-hadoop2.7/jars/bonecp-0.8.0.RELEASE.jar\n",
      "spark-2.4.5-bin-hadoop2.7/jars/avro-mapred-1.8.2-hadoop2.jar\n",
      "spark-2.4.5-bin-hadoop2.7/jars/avro-ipc-1.8.2.jar\n",
      "spark-2.4.5-bin-hadoop2.7/jars/avro-1.8.2.jar\n",
      "spark-2.4.5-bin-hadoop2.7/jars/automaton-1.11-8.jar\n",
      "spark-2.4.5-bin-hadoop2.7/jars/arrow-vector-0.10.0.jar\n",
      "spark-2.4.5-bin-hadoop2.7/jars/arrow-memory-0.10.0.jar\n",
      "spark-2.4.5-bin-hadoop2.7/jars/arrow-format-0.10.0.jar\n",
      "spark-2.4.5-bin-hadoop2.7/jars/arpack_combined_all-0.1.jar\n",
      "spark-2.4.5-bin-hadoop2.7/jars/api-util-1.0.0-M20.jar\n",
      "spark-2.4.5-bin-hadoop2.7/jars/api-asn1-api-1.0.0-M20.jar\n",
      "spark-2.4.5-bin-hadoop2.7/jars/apacheds-kerberos-codec-2.0.0-M15.jar\n",
      "spark-2.4.5-bin-hadoop2.7/jars/apacheds-i18n-2.0.0-M15.jar\n",
      "spark-2.4.5-bin-hadoop2.7/jars/apache-log4j-extras-1.2.17.jar\n",
      "spark-2.4.5-bin-hadoop2.7/jars/aopalliance-repackaged-2.4.0-b34.jar\n",
      "spark-2.4.5-bin-hadoop2.7/jars/aopalliance-1.0.jar\n",
      "spark-2.4.5-bin-hadoop2.7/jars/antlr4-runtime-4.7.jar\n",
      "spark-2.4.5-bin-hadoop2.7/jars/antlr-runtime-3.4.jar\n",
      "spark-2.4.5-bin-hadoop2.7/jars/antlr-2.7.7.jar\n",
      "spark-2.4.5-bin-hadoop2.7/jars/aircompressor-0.10.jar\n",
      "spark-2.4.5-bin-hadoop2.7/jars/activation-1.1.1.jar\n",
      "spark-2.4.5-bin-hadoop2.7/jars/ST4-4.0.4.jar\n",
      "spark-2.4.5-bin-hadoop2.7/jars/RoaringBitmap-0.7.45.jar\n",
      "spark-2.4.5-bin-hadoop2.7/jars/JavaEWAH-0.3.2.jar\n",
      "spark-2.4.5-bin-hadoop2.7/RELEASE\n",
      "spark-2.4.5-bin-hadoop2.7/R/\n",
      "spark-2.4.5-bin-hadoop2.7/R/lib/\n",
      "spark-2.4.5-bin-hadoop2.7/R/lib/sparkr.zip\n",
      "spark-2.4.5-bin-hadoop2.7/R/lib/SparkR/\n",
      "spark-2.4.5-bin-hadoop2.7/R/lib/SparkR/INDEX\n",
      "spark-2.4.5-bin-hadoop2.7/R/lib/SparkR/html/\n",
      "spark-2.4.5-bin-hadoop2.7/R/lib/SparkR/html/R.css\n",
      "spark-2.4.5-bin-hadoop2.7/R/lib/SparkR/html/00Index.html\n",
      "spark-2.4.5-bin-hadoop2.7/R/lib/SparkR/help/\n",
      "spark-2.4.5-bin-hadoop2.7/R/lib/SparkR/help/aliases.rds\n",
      "spark-2.4.5-bin-hadoop2.7/R/lib/SparkR/help/AnIndex\n",
      "spark-2.4.5-bin-hadoop2.7/R/lib/SparkR/help/SparkR.rdx\n",
      "spark-2.4.5-bin-hadoop2.7/R/lib/SparkR/help/SparkR.rdb\n",
      "spark-2.4.5-bin-hadoop2.7/R/lib/SparkR/help/paths.rds\n",
      "spark-2.4.5-bin-hadoop2.7/R/lib/SparkR/worker/\n",
      "spark-2.4.5-bin-hadoop2.7/R/lib/SparkR/worker/worker.R\n",
      "spark-2.4.5-bin-hadoop2.7/R/lib/SparkR/worker/daemon.R\n",
      "spark-2.4.5-bin-hadoop2.7/R/lib/SparkR/tests/\n",
      "spark-2.4.5-bin-hadoop2.7/R/lib/SparkR/tests/testthat/\n",
      "spark-2.4.5-bin-hadoop2.7/R/lib/SparkR/tests/testthat/test_basic.R\n",
      "spark-2.4.5-bin-hadoop2.7/R/lib/SparkR/profile/\n",
      "spark-2.4.5-bin-hadoop2.7/R/lib/SparkR/profile/shell.R\n",
      "spark-2.4.5-bin-hadoop2.7/R/lib/SparkR/profile/general.R\n",
      "spark-2.4.5-bin-hadoop2.7/R/lib/SparkR/R/\n",
      "spark-2.4.5-bin-hadoop2.7/R/lib/SparkR/R/SparkR.rdx\n",
      "spark-2.4.5-bin-hadoop2.7/R/lib/SparkR/R/SparkR.rdb\n",
      "spark-2.4.5-bin-hadoop2.7/R/lib/SparkR/R/SparkR\n",
      "spark-2.4.5-bin-hadoop2.7/R/lib/SparkR/Meta/\n",
      "spark-2.4.5-bin-hadoop2.7/R/lib/SparkR/Meta/nsInfo.rds\n",
      "spark-2.4.5-bin-hadoop2.7/R/lib/SparkR/Meta/links.rds\n",
      "spark-2.4.5-bin-hadoop2.7/R/lib/SparkR/Meta/hsearch.rds\n",
      "spark-2.4.5-bin-hadoop2.7/R/lib/SparkR/Meta/Rd.rds\n",
      "spark-2.4.5-bin-hadoop2.7/R/lib/SparkR/Meta/features.rds\n",
      "spark-2.4.5-bin-hadoop2.7/R/lib/SparkR/Meta/package.rds\n",
      "spark-2.4.5-bin-hadoop2.7/R/lib/SparkR/DESCRIPTION\n",
      "spark-2.4.5-bin-hadoop2.7/R/lib/SparkR/NAMESPACE\n",
      "spark-2.4.5-bin-hadoop2.7/sbin/\n",
      "spark-2.4.5-bin-hadoop2.7/sbin/stop-shuffle-service.sh\n",
      "spark-2.4.5-bin-hadoop2.7/sbin/start-thriftserver.sh\n",
      "spark-2.4.5-bin-hadoop2.7/sbin/start-slave.sh\n",
      "spark-2.4.5-bin-hadoop2.7/sbin/start-shuffle-service.sh\n",
      "spark-2.4.5-bin-hadoop2.7/sbin/start-mesos-shuffle-service.sh\n",
      "spark-2.4.5-bin-hadoop2.7/sbin/start-master.sh\n",
      "spark-2.4.5-bin-hadoop2.7/sbin/start-history-server.sh\n",
      "spark-2.4.5-bin-hadoop2.7/sbin/spark-config.sh\n",
      "spark-2.4.5-bin-hadoop2.7/sbin/stop-thriftserver.sh\n",
      "spark-2.4.5-bin-hadoop2.7/sbin/stop-slaves.sh\n",
      "spark-2.4.5-bin-hadoop2.7/sbin/stop-slave.sh\n",
      "spark-2.4.5-bin-hadoop2.7/sbin/stop-mesos-shuffle-service.sh\n",
      "spark-2.4.5-bin-hadoop2.7/sbin/stop-mesos-dispatcher.sh\n",
      "spark-2.4.5-bin-hadoop2.7/sbin/stop-master.sh\n",
      "spark-2.4.5-bin-hadoop2.7/sbin/stop-history-server.sh\n",
      "spark-2.4.5-bin-hadoop2.7/sbin/stop-all.sh\n",
      "spark-2.4.5-bin-hadoop2.7/sbin/start-slaves.sh\n",
      "spark-2.4.5-bin-hadoop2.7/sbin/start-mesos-dispatcher.sh\n",
      "spark-2.4.5-bin-hadoop2.7/sbin/start-all.sh\n",
      "spark-2.4.5-bin-hadoop2.7/sbin/spark-daemons.sh\n",
      "spark-2.4.5-bin-hadoop2.7/sbin/spark-daemon.sh\n",
      "spark-2.4.5-bin-hadoop2.7/sbin/slaves.sh\n",
      "spark-2.4.5-bin-hadoop2.7/python/\n",
      "spark-2.4.5-bin-hadoop2.7/python/dist/\n",
      "spark-2.4.5-bin-hadoop2.7/python/pyspark.egg-info/\n",
      "spark-2.4.5-bin-hadoop2.7/python/pyspark.egg-info/SOURCES.txt\n",
      "spark-2.4.5-bin-hadoop2.7/python/pyspark.egg-info/dependency_links.txt\n",
      "spark-2.4.5-bin-hadoop2.7/python/pyspark.egg-info/top_level.txt\n",
      "spark-2.4.5-bin-hadoop2.7/python/pyspark.egg-info/PKG-INFO\n",
      "spark-2.4.5-bin-hadoop2.7/python/pyspark.egg-info/requires.txt\n",
      "spark-2.4.5-bin-hadoop2.7/python/setup.py\n",
      "spark-2.4.5-bin-hadoop2.7/python/run-tests.py\n",
      "spark-2.4.5-bin-hadoop2.7/python/run-tests-with-coverage\n",
      "spark-2.4.5-bin-hadoop2.7/python/run-tests\n",
      "spark-2.4.5-bin-hadoop2.7/python/README.md\n",
      "spark-2.4.5-bin-hadoop2.7/python/MANIFEST.in\n",
      "spark-2.4.5-bin-hadoop2.7/python/test_support/\n",
      "spark-2.4.5-bin-hadoop2.7/python/test_support/userlibrary.py\n",
      "spark-2.4.5-bin-hadoop2.7/python/test_support/userlib-0.1.zip\n",
      "spark-2.4.5-bin-hadoop2.7/python/test_support/sql/\n",
      "spark-2.4.5-bin-hadoop2.7/python/test_support/sql/text-test.txt\n",
      "spark-2.4.5-bin-hadoop2.7/python/test_support/sql/streaming/\n",
      "spark-2.4.5-bin-hadoop2.7/python/test_support/sql/streaming/text-test.txt\n",
      "spark-2.4.5-bin-hadoop2.7/python/test_support/sql/people_array_utf16le.json\n",
      "spark-2.4.5-bin-hadoop2.7/python/test_support/sql/people_array.json\n",
      "spark-2.4.5-bin-hadoop2.7/python/test_support/sql/people1.json\n",
      "spark-2.4.5-bin-hadoop2.7/python/test_support/sql/people.json\n",
      "spark-2.4.5-bin-hadoop2.7/python/test_support/sql/parquet_partitioned/\n",
      "spark-2.4.5-bin-hadoop2.7/python/test_support/sql/parquet_partitioned/year=2015/\n",
      "spark-2.4.5-bin-hadoop2.7/python/test_support/sql/parquet_partitioned/year=2015/month=9/\n",
      "spark-2.4.5-bin-hadoop2.7/python/test_support/sql/parquet_partitioned/year=2015/month=9/day=1/\n",
      "spark-2.4.5-bin-hadoop2.7/python/test_support/sql/parquet_partitioned/year=2015/month=9/day=1/part-r-00007.gz.parquet\n",
      "spark-2.4.5-bin-hadoop2.7/python/test_support/sql/parquet_partitioned/year=2015/month=9/day=1/.part-r-00007.gz.parquet.crc\n",
      "spark-2.4.5-bin-hadoop2.7/python/test_support/sql/parquet_partitioned/year=2015/month=10/\n",
      "spark-2.4.5-bin-hadoop2.7/python/test_support/sql/parquet_partitioned/year=2015/month=10/day=26/\n",
      "spark-2.4.5-bin-hadoop2.7/python/test_support/sql/parquet_partitioned/year=2015/month=10/day=26/part-r-00005.gz.parquet\n",
      "spark-2.4.5-bin-hadoop2.7/python/test_support/sql/parquet_partitioned/year=2015/month=10/day=26/.part-r-00005.gz.parquet.crc\n",
      "spark-2.4.5-bin-hadoop2.7/python/test_support/sql/parquet_partitioned/year=2015/month=10/day=25/\n",
      "spark-2.4.5-bin-hadoop2.7/python/test_support/sql/parquet_partitioned/year=2015/month=10/day=25/part-r-00004.gz.parquet\n",
      "spark-2.4.5-bin-hadoop2.7/python/test_support/sql/parquet_partitioned/year=2015/month=10/day=25/part-r-00002.gz.parquet\n",
      "spark-2.4.5-bin-hadoop2.7/python/test_support/sql/parquet_partitioned/year=2015/month=10/day=25/.part-r-00004.gz.parquet.crc\n",
      "spark-2.4.5-bin-hadoop2.7/python/test_support/sql/parquet_partitioned/year=2015/month=10/day=25/.part-r-00002.gz.parquet.crc\n",
      "spark-2.4.5-bin-hadoop2.7/python/test_support/sql/parquet_partitioned/year=2014/\n",
      "spark-2.4.5-bin-hadoop2.7/python/test_support/sql/parquet_partitioned/year=2014/month=9/\n",
      "spark-2.4.5-bin-hadoop2.7/python/test_support/sql/parquet_partitioned/year=2014/month=9/day=1/\n",
      "spark-2.4.5-bin-hadoop2.7/python/test_support/sql/parquet_partitioned/year=2014/month=9/day=1/part-r-00008.gz.parquet\n",
      "spark-2.4.5-bin-hadoop2.7/python/test_support/sql/parquet_partitioned/year=2014/month=9/day=1/.part-r-00008.gz.parquet.crc\n",
      "spark-2.4.5-bin-hadoop2.7/python/test_support/sql/parquet_partitioned/_metadata\n",
      "spark-2.4.5-bin-hadoop2.7/python/test_support/sql/parquet_partitioned/_common_metadata\n",
      "spark-2.4.5-bin-hadoop2.7/python/test_support/sql/parquet_partitioned/_SUCCESS\n",
      "spark-2.4.5-bin-hadoop2.7/python/test_support/sql/orc_partitioned/\n",
      "spark-2.4.5-bin-hadoop2.7/python/test_support/sql/orc_partitioned/b=1/\n",
      "spark-2.4.5-bin-hadoop2.7/python/test_support/sql/orc_partitioned/b=1/c=1/\n",
      "spark-2.4.5-bin-hadoop2.7/python/test_support/sql/orc_partitioned/b=1/c=1/part-r-00000-829af031-b970-49d6-ad39-30460a0be2c8.orc\n",
      "spark-2.4.5-bin-hadoop2.7/python/test_support/sql/orc_partitioned/b=1/c=1/.part-r-00000-829af031-b970-49d6-ad39-30460a0be2c8.orc.crc\n",
      "spark-2.4.5-bin-hadoop2.7/python/test_support/sql/orc_partitioned/b=0/\n",
      "spark-2.4.5-bin-hadoop2.7/python/test_support/sql/orc_partitioned/b=0/c=0/\n",
      "spark-2.4.5-bin-hadoop2.7/python/test_support/sql/orc_partitioned/b=0/c=0/part-r-00000-829af031-b970-49d6-ad39-30460a0be2c8.orc\n",
      "spark-2.4.5-bin-hadoop2.7/python/test_support/sql/orc_partitioned/b=0/c=0/.part-r-00000-829af031-b970-49d6-ad39-30460a0be2c8.orc.crc\n",
      "spark-2.4.5-bin-hadoop2.7/python/test_support/sql/orc_partitioned/_SUCCESS\n",
      "spark-2.4.5-bin-hadoop2.7/python/test_support/sql/ages_newlines.csv\n",
      "spark-2.4.5-bin-hadoop2.7/python/test_support/sql/ages.csv\n",
      "spark-2.4.5-bin-hadoop2.7/python/test_support/hello/\n",
      "spark-2.4.5-bin-hadoop2.7/python/test_support/hello/sub_hello/\n",
      "spark-2.4.5-bin-hadoop2.7/python/test_support/hello/sub_hello/sub_hello.txt\n",
      "spark-2.4.5-bin-hadoop2.7/python/test_support/hello/hello.txt\n",
      "spark-2.4.5-bin-hadoop2.7/python/test_support/SimpleHTTPServer.py\n",
      "spark-2.4.5-bin-hadoop2.7/python/test_coverage/\n",
      "spark-2.4.5-bin-hadoop2.7/python/test_coverage/sitecustomize.py\n",
      "spark-2.4.5-bin-hadoop2.7/python/test_coverage/coverage_daemon.py\n",
      "spark-2.4.5-bin-hadoop2.7/python/test_coverage/conf/\n",
      "spark-2.4.5-bin-hadoop2.7/python/test_coverage/conf/spark-defaults.conf\n",
      "spark-2.4.5-bin-hadoop2.7/python/setup.cfg\n",
      "spark-2.4.5-bin-hadoop2.7/python/pyspark/\n",
      "spark-2.4.5-bin-hadoop2.7/python/pyspark/python/\n",
      "spark-2.4.5-bin-hadoop2.7/python/pyspark/python/pyspark/\n",
      "spark-2.4.5-bin-hadoop2.7/python/pyspark/python/pyspark/shell.py\n",
      "spark-2.4.5-bin-hadoop2.7/python/pyspark/worker.py\n",
      "spark-2.4.5-bin-hadoop2.7/python/pyspark/version.py\n",
      "spark-2.4.5-bin-hadoop2.7/python/pyspark/util.py\n",
      "spark-2.4.5-bin-hadoop2.7/python/pyspark/tests.py\n",
      "spark-2.4.5-bin-hadoop2.7/python/pyspark/test_serializers.py\n",
      "spark-2.4.5-bin-hadoop2.7/python/pyspark/test_broadcast.py\n",
      "spark-2.4.5-bin-hadoop2.7/python/pyspark/taskcontext.py\n",
      "spark-2.4.5-bin-hadoop2.7/python/pyspark/storagelevel.py\n",
      "spark-2.4.5-bin-hadoop2.7/python/pyspark/shuffle.py\n",
      "spark-2.4.5-bin-hadoop2.7/python/pyspark/serializers.py\n",
      "spark-2.4.5-bin-hadoop2.7/python/pyspark/resultiterable.py\n",
      "spark-2.4.5-bin-hadoop2.7/python/pyspark/rdd.py\n",
      "spark-2.4.5-bin-hadoop2.7/python/pyspark/profiler.py\n",
      "spark-2.4.5-bin-hadoop2.7/python/pyspark/java_gateway.py\n",
      "spark-2.4.5-bin-hadoop2.7/python/pyspark/files.py\n",
      "spark-2.4.5-bin-hadoop2.7/python/pyspark/daemon.py\n",
      "spark-2.4.5-bin-hadoop2.7/python/pyspark/context.py\n",
      "spark-2.4.5-bin-hadoop2.7/python/pyspark/conf.py\n",
      "spark-2.4.5-bin-hadoop2.7/python/pyspark/cloudpickle.py\n",
      "spark-2.4.5-bin-hadoop2.7/python/pyspark/broadcast.py\n",
      "spark-2.4.5-bin-hadoop2.7/python/pyspark/accumulators.py\n",
      "spark-2.4.5-bin-hadoop2.7/python/pyspark/__init__.py\n",
      "spark-2.4.5-bin-hadoop2.7/python/pyspark/traceback_utils.py\n",
      "spark-2.4.5-bin-hadoop2.7/python/pyspark/streaming/\n",
      "spark-2.4.5-bin-hadoop2.7/python/pyspark/streaming/tests.py\n",
      "spark-2.4.5-bin-hadoop2.7/python/pyspark/streaming/kinesis.py\n",
      "spark-2.4.5-bin-hadoop2.7/python/pyspark/streaming/kafka.py\n",
      "spark-2.4.5-bin-hadoop2.7/python/pyspark/streaming/flume.py\n",
      "spark-2.4.5-bin-hadoop2.7/python/pyspark/streaming/dstream.py\n",
      "spark-2.4.5-bin-hadoop2.7/python/pyspark/streaming/context.py\n",
      "spark-2.4.5-bin-hadoop2.7/python/pyspark/streaming/util.py\n",
      "spark-2.4.5-bin-hadoop2.7/python/pyspark/streaming/listener.py\n",
      "spark-2.4.5-bin-hadoop2.7/python/pyspark/streaming/__init__.py\n",
      "spark-2.4.5-bin-hadoop2.7/python/pyspark/status.py\n",
      "spark-2.4.5-bin-hadoop2.7/python/pyspark/statcounter.py\n",
      "spark-2.4.5-bin-hadoop2.7/python/pyspark/sql/\n",
      "spark-2.4.5-bin-hadoop2.7/python/pyspark/sql/window.py\n",
      "spark-2.4.5-bin-hadoop2.7/python/pyspark/sql/utils.py\n",
      "spark-2.4.5-bin-hadoop2.7/python/pyspark/sql/udf.py\n",
      "spark-2.4.5-bin-hadoop2.7/python/pyspark/sql/types.py\n",
      "spark-2.4.5-bin-hadoop2.7/python/pyspark/sql/tests.py\n",
      "spark-2.4.5-bin-hadoop2.7/python/pyspark/sql/streaming.py\n",
      "spark-2.4.5-bin-hadoop2.7/python/pyspark/sql/session.py\n",
      "spark-2.4.5-bin-hadoop2.7/python/pyspark/sql/readwriter.py\n",
      "spark-2.4.5-bin-hadoop2.7/python/pyspark/sql/group.py\n",
      "spark-2.4.5-bin-hadoop2.7/python/pyspark/sql/functions.py\n",
      "spark-2.4.5-bin-hadoop2.7/python/pyspark/sql/dataframe.py\n",
      "spark-2.4.5-bin-hadoop2.7/python/pyspark/sql/context.py\n",
      "spark-2.4.5-bin-hadoop2.7/python/pyspark/sql/column.py\n",
      "spark-2.4.5-bin-hadoop2.7/python/pyspark/sql/catalog.py\n",
      "spark-2.4.5-bin-hadoop2.7/python/pyspark/sql/__init__.py\n",
      "spark-2.4.5-bin-hadoop2.7/python/pyspark/sql/conf.py\n",
      "spark-2.4.5-bin-hadoop2.7/python/pyspark/shell.py\n",
      "spark-2.4.5-bin-hadoop2.7/python/pyspark/rddsampler.py\n",
      "spark-2.4.5-bin-hadoop2.7/python/pyspark/mllib/\n",
      "spark-2.4.5-bin-hadoop2.7/python/pyspark/mllib/util.py\n",
      "spark-2.4.5-bin-hadoop2.7/python/pyspark/mllib/tree.py\n",
      "spark-2.4.5-bin-hadoop2.7/python/pyspark/mllib/tests.py\n",
      "spark-2.4.5-bin-hadoop2.7/python/pyspark/mllib/regression.py\n",
      "spark-2.4.5-bin-hadoop2.7/python/pyspark/mllib/recommendation.py\n",
      "spark-2.4.5-bin-hadoop2.7/python/pyspark/mllib/random.py\n",
      "spark-2.4.5-bin-hadoop2.7/python/pyspark/mllib/fpm.py\n",
      "spark-2.4.5-bin-hadoop2.7/python/pyspark/mllib/feature.py\n",
      "spark-2.4.5-bin-hadoop2.7/python/pyspark/mllib/evaluation.py\n",
      "spark-2.4.5-bin-hadoop2.7/python/pyspark/mllib/clustering.py\n",
      "spark-2.4.5-bin-hadoop2.7/python/pyspark/mllib/classification.py\n",
      "spark-2.4.5-bin-hadoop2.7/python/pyspark/mllib/stat/\n",
      "spark-2.4.5-bin-hadoop2.7/python/pyspark/mllib/stat/_statistics.py\n",
      "spark-2.4.5-bin-hadoop2.7/python/pyspark/mllib/stat/test.py\n",
      "spark-2.4.5-bin-hadoop2.7/python/pyspark/mllib/stat/distribution.py\n",
      "spark-2.4.5-bin-hadoop2.7/python/pyspark/mllib/stat/__init__.py\n",
      "spark-2.4.5-bin-hadoop2.7/python/pyspark/mllib/stat/KernelDensity.py\n",
      "spark-2.4.5-bin-hadoop2.7/python/pyspark/mllib/linalg/\n",
      "spark-2.4.5-bin-hadoop2.7/python/pyspark/mllib/linalg/distributed.py\n",
      "spark-2.4.5-bin-hadoop2.7/python/pyspark/mllib/linalg/__init__.py\n",
      "spark-2.4.5-bin-hadoop2.7/python/pyspark/mllib/common.py\n",
      "spark-2.4.5-bin-hadoop2.7/python/pyspark/mllib/__init__.py\n",
      "spark-2.4.5-bin-hadoop2.7/python/pyspark/ml/\n",
      "spark-2.4.5-bin-hadoop2.7/python/pyspark/ml/wrapper.py\n",
      "spark-2.4.5-bin-hadoop2.7/python/pyspark/ml/util.py\n",
      "spark-2.4.5-bin-hadoop2.7/python/pyspark/ml/tuning.py\n",
      "spark-2.4.5-bin-hadoop2.7/python/pyspark/ml/tests.py\n",
      "spark-2.4.5-bin-hadoop2.7/python/pyspark/ml/stat.py\n",
      "spark-2.4.5-bin-hadoop2.7/python/pyspark/ml/regression.py\n",
      "spark-2.4.5-bin-hadoop2.7/python/pyspark/ml/recommendation.py\n",
      "spark-2.4.5-bin-hadoop2.7/python/pyspark/ml/image.py\n",
      "spark-2.4.5-bin-hadoop2.7/python/pyspark/ml/fpm.py\n",
      "spark-2.4.5-bin-hadoop2.7/python/pyspark/ml/feature.py\n",
      "spark-2.4.5-bin-hadoop2.7/python/pyspark/ml/evaluation.py\n",
      "spark-2.4.5-bin-hadoop2.7/python/pyspark/ml/clustering.py\n",
      "spark-2.4.5-bin-hadoop2.7/python/pyspark/ml/classification.py\n",
      "spark-2.4.5-bin-hadoop2.7/python/pyspark/ml/base.py\n",
      "spark-2.4.5-bin-hadoop2.7/python/pyspark/ml/pipeline.py\n",
      "spark-2.4.5-bin-hadoop2.7/python/pyspark/ml/param/\n",
      "spark-2.4.5-bin-hadoop2.7/python/pyspark/ml/param/shared.py\n",
      "spark-2.4.5-bin-hadoop2.7/python/pyspark/ml/param/_shared_params_code_gen.py\n",
      "spark-2.4.5-bin-hadoop2.7/python/pyspark/ml/param/__init__.py\n",
      "spark-2.4.5-bin-hadoop2.7/python/pyspark/ml/linalg/\n",
      "spark-2.4.5-bin-hadoop2.7/python/pyspark/ml/linalg/__init__.py\n",
      "spark-2.4.5-bin-hadoop2.7/python/pyspark/ml/common.py\n",
      "spark-2.4.5-bin-hadoop2.7/python/pyspark/ml/__init__.py\n",
      "spark-2.4.5-bin-hadoop2.7/python/pyspark/join.py\n",
      "spark-2.4.5-bin-hadoop2.7/python/pyspark/heapq3.py\n",
      "spark-2.4.5-bin-hadoop2.7/python/pyspark/find_spark_home.py\n",
      "spark-2.4.5-bin-hadoop2.7/python/pyspark/_globals.py\n",
      "spark-2.4.5-bin-hadoop2.7/python/pylintrc\n",
      "spark-2.4.5-bin-hadoop2.7/python/lib/\n",
      "spark-2.4.5-bin-hadoop2.7/python/lib/pyspark.zip\n",
      "spark-2.4.5-bin-hadoop2.7/python/lib/py4j-0.10.7-src.zip\n",
      "spark-2.4.5-bin-hadoop2.7/python/lib/PY4J_LICENSE.txt\n",
      "spark-2.4.5-bin-hadoop2.7/python/docs/\n",
      "spark-2.4.5-bin-hadoop2.7/python/docs/pyspark.streaming.rst\n",
      "spark-2.4.5-bin-hadoop2.7/python/docs/pyspark.sql.rst\n",
      "spark-2.4.5-bin-hadoop2.7/python/docs/pyspark.ml.rst\n",
      "spark-2.4.5-bin-hadoop2.7/python/docs/epytext.py\n",
      "spark-2.4.5-bin-hadoop2.7/python/docs/conf.py\n",
      "spark-2.4.5-bin-hadoop2.7/python/docs/Makefile\n",
      "spark-2.4.5-bin-hadoop2.7/python/docs/pyspark.rst\n",
      "spark-2.4.5-bin-hadoop2.7/python/docs/pyspark.mllib.rst\n",
      "spark-2.4.5-bin-hadoop2.7/python/docs/make2.bat\n",
      "spark-2.4.5-bin-hadoop2.7/python/docs/make.bat\n",
      "spark-2.4.5-bin-hadoop2.7/python/docs/index.rst\n",
      "spark-2.4.5-bin-hadoop2.7/python/docs/_templates/\n",
      "spark-2.4.5-bin-hadoop2.7/python/docs/_templates/layout.html\n",
      "spark-2.4.5-bin-hadoop2.7/python/docs/_static/\n",
      "spark-2.4.5-bin-hadoop2.7/python/docs/_static/pyspark.js\n",
      "spark-2.4.5-bin-hadoop2.7/python/docs/_static/pyspark.css\n",
      "spark-2.4.5-bin-hadoop2.7/python/.gitignore\n",
      "spark-2.4.5-bin-hadoop2.7/python/.coveragerc\n",
      "spark-2.4.5-bin-hadoop2.7/bin/\n",
      "spark-2.4.5-bin-hadoop2.7/bin/spark-class\n",
      "spark-2.4.5-bin-hadoop2.7/bin/pyspark2.cmd\n",
      "spark-2.4.5-bin-hadoop2.7/bin/pyspark\n",
      "spark-2.4.5-bin-hadoop2.7/bin/load-spark-env.sh\n",
      "spark-2.4.5-bin-hadoop2.7/bin/load-spark-env.cmd\n",
      "spark-2.4.5-bin-hadoop2.7/bin/docker-image-tool.sh\n",
      "spark-2.4.5-bin-hadoop2.7/bin/sparkR2.cmd\n",
      "spark-2.4.5-bin-hadoop2.7/bin/sparkR.cmd\n",
      "spark-2.4.5-bin-hadoop2.7/bin/sparkR\n",
      "spark-2.4.5-bin-hadoop2.7/bin/spark-submit2.cmd\n",
      "spark-2.4.5-bin-hadoop2.7/bin/spark-submit.cmd\n",
      "spark-2.4.5-bin-hadoop2.7/bin/spark-submit\n",
      "spark-2.4.5-bin-hadoop2.7/bin/spark-sql2.cmd\n",
      "spark-2.4.5-bin-hadoop2.7/bin/spark-sql.cmd\n",
      "spark-2.4.5-bin-hadoop2.7/bin/spark-sql\n",
      "spark-2.4.5-bin-hadoop2.7/bin/spark-shell2.cmd\n",
      "spark-2.4.5-bin-hadoop2.7/bin/spark-shell.cmd\n",
      "spark-2.4.5-bin-hadoop2.7/bin/spark-shell\n",
      "spark-2.4.5-bin-hadoop2.7/bin/spark-class2.cmd\n",
      "spark-2.4.5-bin-hadoop2.7/bin/spark-class.cmd\n",
      "spark-2.4.5-bin-hadoop2.7/bin/run-example.cmd\n",
      "spark-2.4.5-bin-hadoop2.7/bin/run-example\n",
      "spark-2.4.5-bin-hadoop2.7/bin/pyspark.cmd\n",
      "spark-2.4.5-bin-hadoop2.7/bin/find-spark-home.cmd\n",
      "spark-2.4.5-bin-hadoop2.7/bin/find-spark-home\n",
      "spark-2.4.5-bin-hadoop2.7/bin/beeline.cmd\n",
      "spark-2.4.5-bin-hadoop2.7/bin/beeline\n",
      "spark-2.4.5-bin-hadoop2.7/README.md\n",
      "spark-2.4.5-bin-hadoop2.7/conf/\n",
      "spark-2.4.5-bin-hadoop2.7/conf/spark-env.sh.template\n",
      "spark-2.4.5-bin-hadoop2.7/conf/spark-defaults.conf.template\n",
      "spark-2.4.5-bin-hadoop2.7/conf/slaves.template\n",
      "spark-2.4.5-bin-hadoop2.7/conf/metrics.properties.template\n",
      "spark-2.4.5-bin-hadoop2.7/conf/log4j.properties.template\n",
      "spark-2.4.5-bin-hadoop2.7/conf/fairscheduler.xml.template\n",
      "spark-2.4.5-bin-hadoop2.7/conf/docker.properties.template\n",
      "spark-2.4.5-bin-hadoop2.7/data/\n",
      "spark-2.4.5-bin-hadoop2.7/data/streaming/\n",
      "spark-2.4.5-bin-hadoop2.7/data/streaming/AFINN-111.txt\n",
      "spark-2.4.5-bin-hadoop2.7/data/mllib/\n",
      "spark-2.4.5-bin-hadoop2.7/data/mllib/streaming_kmeans_data_test.txt\n",
      "spark-2.4.5-bin-hadoop2.7/data/mllib/sample_svm_data.txt\n",
      "spark-2.4.5-bin-hadoop2.7/data/mllib/sample_multiclass_classification_data.txt\n",
      "spark-2.4.5-bin-hadoop2.7/data/mllib/sample_movielens_data.txt\n",
      "spark-2.4.5-bin-hadoop2.7/data/mllib/sample_linear_regression_data.txt\n",
      "spark-2.4.5-bin-hadoop2.7/data/mllib/sample_libsvm_data.txt\n",
      "spark-2.4.5-bin-hadoop2.7/data/mllib/sample_lda_libsvm_data.txt\n",
      "spark-2.4.5-bin-hadoop2.7/data/mllib/sample_lda_data.txt\n",
      "spark-2.4.5-bin-hadoop2.7/data/mllib/sample_kmeans_data.txt\n",
      "spark-2.4.5-bin-hadoop2.7/data/mllib/sample_isotonic_regression_libsvm_data.txt\n",
      "spark-2.4.5-bin-hadoop2.7/data/mllib/sample_fpgrowth.txt\n",
      "spark-2.4.5-bin-hadoop2.7/data/mllib/sample_binary_classification_data.txt\n",
      "spark-2.4.5-bin-hadoop2.7/data/mllib/ridge-data/\n",
      "spark-2.4.5-bin-hadoop2.7/data/mllib/ridge-data/lpsa.data\n",
      "spark-2.4.5-bin-hadoop2.7/data/mllib/pic_data.txt\n",
      "spark-2.4.5-bin-hadoop2.7/data/mllib/pagerank_data.txt\n",
      "spark-2.4.5-bin-hadoop2.7/data/mllib/kmeans_data.txt\n",
      "spark-2.4.5-bin-hadoop2.7/data/mllib/iris_libsvm.txt\n",
      "spark-2.4.5-bin-hadoop2.7/data/mllib/images/\n",
      "spark-2.4.5-bin-hadoop2.7/data/mllib/images/partitioned/\n",
      "spark-2.4.5-bin-hadoop2.7/data/mllib/images/partitioned/cls=multichannel/\n",
      "spark-2.4.5-bin-hadoop2.7/data/mllib/images/partitioned/cls=multichannel/date=2018-02/\n",
      "spark-2.4.5-bin-hadoop2.7/data/mllib/images/partitioned/cls=multichannel/date=2018-02/grayscale.jpg\n",
      "spark-2.4.5-bin-hadoop2.7/data/mllib/images/partitioned/cls=multichannel/date=2018-02/chr30.4.184.jpg\n",
      "spark-2.4.5-bin-hadoop2.7/data/mllib/images/partitioned/cls=multichannel/date=2018-01/\n",
      "spark-2.4.5-bin-hadoop2.7/data/mllib/images/partitioned/cls=multichannel/date=2018-01/BGRA_alpha_60.png\n",
      "spark-2.4.5-bin-hadoop2.7/data/mllib/images/partitioned/cls=multichannel/date=2018-01/BGRA.png\n",
      "spark-2.4.5-bin-hadoop2.7/data/mllib/images/partitioned/cls=kittens/\n",
      "spark-2.4.5-bin-hadoop2.7/data/mllib/images/partitioned/cls=kittens/date=2018-02/\n",
      "spark-2.4.5-bin-hadoop2.7/data/mllib/images/partitioned/cls=kittens/date=2018-02/DP802813.jpg\n",
      "spark-2.4.5-bin-hadoop2.7/data/mllib/images/partitioned/cls=kittens/date=2018-02/DP153539.jpg\n",
      "spark-2.4.5-bin-hadoop2.7/data/mllib/images/partitioned/cls=kittens/date=2018-02/54893.jpg\n",
      "spark-2.4.5-bin-hadoop2.7/data/mllib/images/partitioned/cls=kittens/date=2018-01/\n",
      "spark-2.4.5-bin-hadoop2.7/data/mllib/images/partitioned/cls=kittens/date=2018-01/not-image.txt\n",
      "spark-2.4.5-bin-hadoop2.7/data/mllib/images/partitioned/cls=kittens/date=2018-01/29.5.a_b_EGDP022204.jpg\n",
      "spark-2.4.5-bin-hadoop2.7/data/mllib/images/origin/\n",
      "spark-2.4.5-bin-hadoop2.7/data/mllib/images/origin/multi-channel/\n",
      "spark-2.4.5-bin-hadoop2.7/data/mllib/images/origin/multi-channel/grayscale.jpg\n",
      "spark-2.4.5-bin-hadoop2.7/data/mllib/images/origin/multi-channel/chr30.4.184.jpg\n",
      "spark-2.4.5-bin-hadoop2.7/data/mllib/images/origin/multi-channel/BGRA_alpha_60.png\n",
      "spark-2.4.5-bin-hadoop2.7/data/mllib/images/origin/multi-channel/BGRA.png\n",
      "spark-2.4.5-bin-hadoop2.7/data/mllib/images/origin/license.txt\n",
      "spark-2.4.5-bin-hadoop2.7/data/mllib/images/origin/kittens/\n",
      "spark-2.4.5-bin-hadoop2.7/data/mllib/images/origin/kittens/not-image.txt\n",
      "spark-2.4.5-bin-hadoop2.7/data/mllib/images/origin/kittens/DP802813.jpg\n",
      "spark-2.4.5-bin-hadoop2.7/data/mllib/images/origin/kittens/DP153539.jpg\n",
      "spark-2.4.5-bin-hadoop2.7/data/mllib/images/origin/kittens/54893.jpg\n",
      "spark-2.4.5-bin-hadoop2.7/data/mllib/images/origin/kittens/29.5.a_b_EGDP022204.jpg\n",
      "spark-2.4.5-bin-hadoop2.7/data/mllib/images/license.txt\n",
      "spark-2.4.5-bin-hadoop2.7/data/mllib/gmm_data.txt\n",
      "spark-2.4.5-bin-hadoop2.7/data/mllib/als/\n",
      "spark-2.4.5-bin-hadoop2.7/data/mllib/als/test.data\n",
      "spark-2.4.5-bin-hadoop2.7/data/mllib/als/sample_movielens_ratings.txt\n",
      "spark-2.4.5-bin-hadoop2.7/data/graphx/\n",
      "spark-2.4.5-bin-hadoop2.7/data/graphx/users.txt\n",
      "spark-2.4.5-bin-hadoop2.7/data/graphx/followers.txt\n",
      "spark-2.4.5-bin-hadoop2.7/NOTICE\n"
     ]
    }
   ],
   "source": [
    "!apt-get install openjdk-8-jdk-headless -qq > /dev/null\n",
    "!wget -q https://www-us.apache.org/dist/spark/spark-2.4.5/spark-2.4.5-bin-hadoop2.7.tgz\n",
    "!tar -xvf spark-2.4.5-bin-hadoop2.7.tgz\n",
    "!pip install -q findspark"
   ]
  },
  {
   "cell_type": "code",
   "execution_count": 0,
   "metadata": {
    "colab": {},
    "colab_type": "code",
    "id": "Jcq02dJ4DR74"
   },
   "outputs": [],
   "source": [
    "import os\n",
    "os.environ[\"JAVA_HOME\"] = \"/usr/lib/jvm/java-8-openjdk-amd64\"\n",
    "os.environ[\"SPARK_HOME\"] = \"/content/spark-2.4.5-bin-hadoop2.7\""
   ]
  },
  {
   "cell_type": "code",
   "execution_count": 0,
   "metadata": {
    "colab": {},
    "colab_type": "code",
    "id": "t3pX8MEMDCc4"
   },
   "outputs": [],
   "source": [
    "#Importing required libraries\n",
    "import findspark\n",
    "findspark.init()\n",
    "import pyspark\n",
    "import string\n",
    "import re\n",
    "import numpy\n",
    "from pyspark.sql.functions import substring, length, expr, size, col, split, udf, UserDefinedFunction\n",
    "from pyspark.sql.types import StringType, DoubleType, IntegerType\n",
    "from pyspark.sql import functions as F\n",
    "from pyspark.ml.feature import HashingTF, IDF, Tokenizer\n",
    "from pyspark.ml.classification import LogisticRegression"
   ]
  },
  {
   "cell_type": "code",
   "execution_count": 0,
   "metadata": {
    "colab": {},
    "colab_type": "code",
    "id": "J0gCUfVzDCc8"
   },
   "outputs": [],
   "source": [
    "from pyspark.sql import *"
   ]
  },
  {
   "cell_type": "code",
   "execution_count": 0,
   "metadata": {
    "colab": {},
    "colab_type": "code",
    "id": "nHoiy4UVDCc_"
   },
   "outputs": [],
   "source": [
    "spark = SparkSession.builder.appName(\"Project3\")\\\n",
    "        .config(\"spark.some.config.option\",\"some-value\")\\\n",
    "        .getOrCreate()"
   ]
  },
  {
   "cell_type": "code",
   "execution_count": 0,
   "metadata": {
    "colab": {},
    "colab_type": "code",
    "id": "BEahTKdzDCdB"
   },
   "outputs": [],
   "source": [
    "#loading train data\n",
    "train_df = spark.read.load(\"train.csv\",\\\n",
    "                           sep = \",\",\\\n",
    "                           format = \"csv\",\\\n",
    "                           inferSchema = True,\\\n",
    "                           header = True,\\\n",
    "                           escape ='\"')\n"
   ]
  },
  {
   "cell_type": "code",
   "execution_count": 7,
   "metadata": {
    "colab": {
     "base_uri": "https://localhost:8080/",
     "height": 306
    },
    "colab_type": "code",
    "id": "Q3UcnTTdEXeL",
    "outputId": "65972ee8-aa61-4f5c-c788-5f216c6e5863"
   },
   "outputs": [
    {
     "name": "stdout",
     "output_type": "stream",
     "text": [
      "root\n",
      " |-- movie_id: string (nullable = true)\n",
      " |-- movie_name: string (nullable = true)\n",
      " |-- plot: string (nullable = true)\n",
      " |-- genre: string (nullable = true)\n",
      "\n",
      "+--------+------------------+--------------------+--------------------+\n",
      "|movie_id|        movie_name|                plot|               genre|\n",
      "+--------+------------------+--------------------+--------------------+\n",
      "|23890098|        Taxi Blues|Shlykov, a hard-w...|['World cinema', ...|\n",
      "|31186339|  The Hunger Games|The nation of Pan...|['Action/Adventur...|\n",
      "|20663735|        Narasimham|Poovalli Induchoo...|['Musical', 'Acti...|\n",
      "| 2231378|The Lemon Drop Kid|The Lemon Drop Ki...|          ['Comedy']|\n",
      "|  595909| A Cry in the Dark|Seventh-day Adven...|['Crime Fiction',...|\n",
      "+--------+------------------+--------------------+--------------------+\n",
      "only showing top 5 rows\n",
      "\n"
     ]
    }
   ],
   "source": [
    "train_df.printSchema()\n",
    "train_df.show(5)"
   ]
  },
  {
   "cell_type": "code",
   "execution_count": 0,
   "metadata": {
    "colab": {},
    "colab_type": "code",
    "id": "vKk-lfWVD0OB"
   },
   "outputs": [],
   "source": [
    "#loading test data\n",
    "test_df = spark.read.load(\"test.csv\",\\\n",
    "                          sep = \",\",\\\n",
    "                          format = \"csv\",\\\n",
    "                          inferSchema = True,\\\n",
    "                          header = True,\\\n",
    "                          escape ='\"')"
   ]
  },
  {
   "cell_type": "code",
   "execution_count": 9,
   "metadata": {
    "colab": {
     "base_uri": "https://localhost:8080/",
     "height": 289
    },
    "colab_type": "code",
    "id": "E_Z1kTI4EdSp",
    "outputId": "fabfc0f5-0e31-42ef-fd14-62aa81c19d6f"
   },
   "outputs": [
    {
     "name": "stdout",
     "output_type": "stream",
     "text": [
      "root\n",
      " |-- movie_id: integer (nullable = true)\n",
      " |-- movie_name: string (nullable = true)\n",
      " |-- plot: string (nullable = true)\n",
      "\n",
      "+--------+--------------------+--------------------+\n",
      "|movie_id|          movie_name|                plot|\n",
      "+--------+--------------------+--------------------+\n",
      "| 1335380|              Exodus|The film is based...|\n",
      "|29062594|A la salida nos v...|A group of teenag...|\n",
      "| 9252321|   Come Back, Africa|This story of a Z...|\n",
      "|13455076|       A Merry Mixup|The Stooges play ...|\n",
      "|24165951|        Getting Even|A soldier-of-fort...|\n",
      "+--------+--------------------+--------------------+\n",
      "only showing top 5 rows\n",
      "\n"
     ]
    }
   ],
   "source": [
    "test_df.printSchema()\n",
    "test_df.show(5)"
   ]
  },
  {
   "cell_type": "code",
   "execution_count": 10,
   "metadata": {
    "colab": {
     "base_uri": "https://localhost:8080/",
     "height": 479
    },
    "colab_type": "code",
    "id": "Bcb-eQIxDCdO",
    "outputId": "15162837-7da5-4cf3-ae1f-3eb4c7deb3ec"
   },
   "outputs": [
    {
     "name": "stdout",
     "output_type": "stream",
     "text": [
      "+-----+----------------+\n",
      "|label|           genre|\n",
      "+-----+----------------+\n",
      "|    0|           Drama|\n",
      "|    1|          Comedy|\n",
      "|    2|    Romance Film|\n",
      "|    3|        Thriller|\n",
      "|    4|          Action|\n",
      "|    5|    World cinema|\n",
      "|    6|   Crime Fiction|\n",
      "|    7|          Horror|\n",
      "|    8| Black-and-white|\n",
      "|    9|           Indie|\n",
      "|   10|Action/Adventure|\n",
      "|   11|       Adventure|\n",
      "|   12|     Family Film|\n",
      "|   13|      Short Film|\n",
      "|   14|  Romantic drama|\n",
      "|   15|       Animation|\n",
      "|   16|         Musical|\n",
      "|   17| Science Fiction|\n",
      "|   18|         Mystery|\n",
      "|   19| Romantic comedy|\n",
      "+-----+----------------+\n",
      "\n",
      "['Drama', 'Comedy', 'Romance Film', 'Thriller', 'Action', 'World cinema', 'Crime Fiction', 'Horror', 'Black-and-white', 'Indie', 'Action/Adventure', 'Adventure', 'Family Film', 'Short Film', 'Romantic drama', 'Animation', 'Musical', 'Science Fiction', 'Mystery', 'Romantic comedy']\n"
     ]
    }
   ],
   "source": [
    "#Mapping labels\n",
    "genreMap = spark.read.load(\"mapping.csv\",\\\n",
    "                           sep = \",\",format=\"csv\",\\\n",
    "                           inferSchema = True,\\\n",
    "                           header = True,\\\n",
    "                           escape ='\"')\n",
    "genreMap = genreMap.withColumnRenamed('_c0','label')\n",
    "genreMap = genreMap.withColumnRenamed('0','genre')\n",
    "genreMap.show()\n",
    "\n",
    "genreList = genreMap.select(\"genre\").rdd.flatMap(lambda x: x).collect()\n",
    "print(genreList)"
   ]
  },
  {
   "cell_type": "code",
   "execution_count": 12,
   "metadata": {
    "colab": {
     "base_uri": "https://localhost:8080/",
     "height": 204
    },
    "colab_type": "code",
    "id": "MEIOgYNfDCdS",
    "outputId": "1759a469-dcea-4043-bf24-fa1557e1bac2"
   },
   "outputs": [
    {
     "name": "stdout",
     "output_type": "stream",
     "text": [
      "+--------+------------------+--------------------+--------------------+--------------------+\n",
      "|movie_id|        movie_name|                plot|               genre|         genre_array|\n",
      "+--------+------------------+--------------------+--------------------+--------------------+\n",
      "|23890098|        Taxi Blues|Shlykov, a hard-w...|['World cinema', ...|'World cinema', '...|\n",
      "|31186339|  The Hunger Games|The nation of Pan...|['Action/Adventur...|'Action/Adventure...|\n",
      "|20663735|        Narasimham|Poovalli Induchoo...|['Musical', 'Acti...|'Musical', 'Actio...|\n",
      "| 2231378|The Lemon Drop Kid|The Lemon Drop Ki...|          ['Comedy']|            'Comedy'|\n",
      "|  595909| A Cry in the Dark|Seventh-day Adven...|['Crime Fiction',...|'Crime Fiction', ...|\n",
      "+--------+------------------+--------------------+--------------------+--------------------+\n",
      "only showing top 5 rows\n",
      "\n"
     ]
    }
   ],
   "source": [
    "#Creating an array from string of labels\n",
    "train_df_1 = train_df.withColumn(\"genre_array\", expr(\"substring(genre, 2, length(genre)-2)\"))\n",
    "train_df_1.show(5)"
   ]
  },
  {
   "cell_type": "code",
   "execution_count": 13,
   "metadata": {
    "colab": {
     "base_uri": "https://localhost:8080/",
     "height": 204
    },
    "colab_type": "code",
    "id": "zn3KFjYoG5QQ",
    "outputId": "5e0dd3c4-fc40-49a0-8dbe-b5cc0a3d88c0"
   },
   "outputs": [
    {
     "name": "stdout",
     "output_type": "stream",
     "text": [
      "+--------+------------------+--------------------+--------------------+--------------------+\n",
      "|movie_id|        movie_name|                plot|               genre|         genre_array|\n",
      "+--------+------------------+--------------------+--------------------+--------------------+\n",
      "|23890098|        Taxi Blues|Shlykov, a hard-w...|['World cinema', ...|['World cinema', ...|\n",
      "|31186339|  The Hunger Games|The nation of Pan...|['Action/Adventur...|['Action/Adventur...|\n",
      "|20663735|        Narasimham|Poovalli Induchoo...|['Musical', 'Acti...|['Musical', 'Acti...|\n",
      "| 2231378|The Lemon Drop Kid|The Lemon Drop Ki...|          ['Comedy']|          ['Comedy']|\n",
      "|  595909| A Cry in the Dark|Seventh-day Adven...|['Crime Fiction',...|['Crime Fiction',...|\n",
      "+--------+------------------+--------------------+--------------------+--------------------+\n",
      "only showing top 5 rows\n",
      "\n"
     ]
    }
   ],
   "source": [
    "train_df_2 = train_df_1.withColumn(\"genre_array\", split(col(\"genre_array\"), \", \").alias(\"genre_array\"))\n",
    "train_df_2 = train_df_2.select(\"movie_id\", \"movie_name\", \"plot\", \"genre\", \"genre_array\")\n",
    "train_df_2.show(5)"
   ]
  },
  {
   "cell_type": "code",
   "execution_count": 14,
   "metadata": {
    "colab": {
     "base_uri": "https://localhost:8080/",
     "height": 51
    },
    "colab_type": "code",
    "id": "BPcd24fcDCdU",
    "outputId": "4a38a57b-3a7a-4067-ba2d-8736ecd84b0d"
   },
   "outputs": [
    {
     "name": "stdout",
     "output_type": "stream",
     "text": [
      "old count:  31111\n",
      "new count:  31109\n"
     ]
    }
   ],
   "source": [
    "#Eliminating genre null rows\n",
    "train_df_3 = train_df_2.where(size(train_df_2[\"genre_array\"]) > 0)\n",
    "print(\"old count: \", train_df_2.count())\n",
    "print(\"new count: \", train_df_3.count())"
   ]
  },
  {
   "cell_type": "code",
   "execution_count": 0,
   "metadata": {
    "colab": {},
    "colab_type": "code",
    "id": "z3m1MMwTDCdQ"
   },
   "outputs": [],
   "source": [
    "#One hot encoder string generator for genre\n",
    "def onehotEncoder(s):\n",
    "    retVal = \"\"\n",
    "    temp = []\n",
    "    s = s[1:-1].split(\", \")\n",
    "    for x in s:\n",
    "        x = x[1:-1]\n",
    "        temp.append(x)\n",
    "    s = temp\n",
    "    for genre in genreList:\n",
    "        if genre in s:\n",
    "            retVal = retVal + \"1\"\n",
    "        else:\n",
    "            retVal = retVal + \"0\"\n",
    "    return retVal"
   ]
  },
  {
   "cell_type": "code",
   "execution_count": 15,
   "metadata": {
    "colab": {
     "base_uri": "https://localhost:8080/",
     "height": 204
    },
    "colab_type": "code",
    "id": "qwAPcP8PDCdX",
    "outputId": "1577037a-eb15-4a31-c20e-5a4d2e638888"
   },
   "outputs": [
    {
     "name": "stdout",
     "output_type": "stream",
     "text": [
      "+--------+------------------+--------------------+--------------------+--------------------+--------------------+\n",
      "|movie_id|        movie_name|                plot|        genre_string|         genre_array|               genre|\n",
      "+--------+------------------+--------------------+--------------------+--------------------+--------------------+\n",
      "|23890098|        Taxi Blues|Shlykov, a hard-w...|10000100000000000000|['World cinema', ...|['World cinema', ...|\n",
      "|31186339|  The Hunger Games|The nation of Pan...|10001000001000000100|['Action/Adventur...|['Action/Adventur...|\n",
      "|20663735|        Narasimham|Poovalli Induchoo...|10001000000000001000|['Musical', 'Acti...|['Musical', 'Acti...|\n",
      "| 2231378|The Lemon Drop Kid|The Lemon Drop Ki...|01000000000000000000|          ['Comedy']|          ['Comedy']|\n",
      "|  595909| A Cry in the Dark|Seventh-day Adven...|10000110000000000000|['Crime Fiction',...|['Crime Fiction',...|\n",
      "+--------+------------------+--------------------+--------------------+--------------------+--------------------+\n",
      "only showing top 5 rows\n",
      "\n"
     ]
    }
   ],
   "source": [
    "#generating one hot encoded string from genre\n",
    "from pyspark.sql.functions import udf\n",
    "udf_test = udf(onehotEncoder, StringType())\n",
    "train_df_4 = train_df_3.withColumn(\"genre_string\", udf_test(train_df_3['genre']))\n",
    "train_df_5 = train_df_4.select(\"movie_id\", \"movie_name\", \"plot\", \"genre_string\", \"genre_array\", \"genre\")\n",
    "train_df_5.show(5)"
   ]
  },
  {
   "cell_type": "markdown",
   "metadata": {
    "colab_type": "text",
    "id": "QBAIAxKmBQrz"
   },
   "source": [
    "**Part 1**"
   ]
  },
  {
   "cell_type": "code",
   "execution_count": 16,
   "metadata": {
    "colab": {
     "base_uri": "https://localhost:8080/",
     "height": 411
    },
    "colab_type": "code",
    "id": "v3uzQjlmDCdb",
    "outputId": "63548580-1d09-447e-ccf6-476e4fb560e4"
   },
   "outputs": [
    {
     "name": "stdout",
     "output_type": "stream",
     "text": [
      "+--------+------------------+--------------------+--------------------+--------------------+--------------------+--------------------+\n",
      "|movie_id|        movie_name|                plot|        genre_string|         genre_array|               genre|              tokens|\n",
      "+--------+------------------+--------------------+--------------------+--------------------+--------------------+--------------------+\n",
      "|23890098|        Taxi Blues|Shlykov, a hard-w...|10000100000000000000|['World cinema', ...|['World cinema', ...|[shlykov, a, hard...|\n",
      "|31186339|  The Hunger Games|The nation of Pan...|10001000001000000100|['Action/Adventur...|['Action/Adventur...|[the, nation, of,...|\n",
      "|20663735|        Narasimham|Poovalli Induchoo...|10001000000000001000|['Musical', 'Acti...|['Musical', 'Acti...|[poovalli, induch...|\n",
      "| 2231378|The Lemon Drop Kid|The Lemon Drop Ki...|01000000000000000000|          ['Comedy']|          ['Comedy']|[the, lemon, drop...|\n",
      "|  595909| A Cry in the Dark|Seventh-day Adven...|10000110000000000000|['Crime Fiction',...|['Crime Fiction',...|[seventh, day, ad...|\n",
      "+--------+------------------+--------------------+--------------------+--------------------+--------------------+--------------------+\n",
      "only showing top 5 rows\n",
      "\n",
      "+--------+------------------+--------------------+--------------------+--------------------+--------------------+--------------------+--------------------+\n",
      "|movie_id|        movie_name|                plot|        genre_string|         genre_array|               genre|              tokens|      featureVectors|\n",
      "+--------+------------------+--------------------+--------------------+--------------------+--------------------+--------------------+--------------------+\n",
      "|23890098|        Taxi Blues|Shlykov, a hard-w...|10000100000000000000|['World cinema', ...|['World cinema', ...|[shlykov, a, hard...|(119515,[2,3,19,2...|\n",
      "|31186339|  The Hunger Games|The nation of Pan...|10001000001000000100|['Action/Adventur...|['Action/Adventur...|[the, nation, of,...|(119515,[0,1,2,3,...|\n",
      "|20663735|        Narasimham|Poovalli Induchoo...|10001000000000001000|['Musical', 'Acti...|['Musical', 'Acti...|[poovalli, induch...|(119515,[0,1,2,3,...|\n",
      "| 2231378|The Lemon Drop Kid|The Lemon Drop Ki...|01000000000000000000|          ['Comedy']|          ['Comedy']|[the, lemon, drop...|(119515,[0,1,2,3,...|\n",
      "|  595909| A Cry in the Dark|Seventh-day Adven...|10000110000000000000|['Crime Fiction',...|['Crime Fiction',...|[seventh, day, ad...|(119515,[0,1,2,3,...|\n",
      "+--------+------------------+--------------------+--------------------+--------------------+--------------------+--------------------+--------------------+\n",
      "only showing top 5 rows\n",
      "\n"
     ]
    }
   ],
   "source": [
    "#Building transformers\n",
    "from pyspark.ml.feature import RegexTokenizer, CountVectorizer\n",
    "regexTokenizer = RegexTokenizer(inputCol=\"plot\", outputCol=\"tokens\", pattern=\"\\\\W\")\n",
    "tokenizedTrainData = regexTokenizer.transform(train_df_5)\n",
    "tokenizedTrainData.show(5)\n",
    "\n",
    "countVec = CountVectorizer(inputCol=\"tokens\", outputCol=\"featureVectors\")\n",
    "trainDatafit = countVec.fit(tokenizedTrainData)\n",
    "trainData = trainDatafit.transform(tokenizedTrainData)\n",
    "trainData.show(5)"
   ]
  },
  {
   "cell_type": "code",
   "execution_count": 17,
   "metadata": {
    "colab": {
     "base_uri": "https://localhost:8080/",
     "height": 391
    },
    "colab_type": "code",
    "id": "Sp9pCKBRJAZj",
    "outputId": "ea8baf4f-d313-48cd-cc26-722aad5ca19b"
   },
   "outputs": [
    {
     "name": "stdout",
     "output_type": "stream",
     "text": [
      "+--------+--------------------+--------------------+--------------------+\n",
      "|movie_id|          movie_name|                plot|              tokens|\n",
      "+--------+--------------------+--------------------+--------------------+\n",
      "| 1335380|              Exodus|The film is based...|[the, film, is, b...|\n",
      "|29062594|A la salida nos v...|A group of teenag...|[a, group, of, te...|\n",
      "| 9252321|   Come Back, Africa|This story of a Z...|[this, story, of,...|\n",
      "|13455076|       A Merry Mixup|The Stooges play ...|[the, stooges, pl...|\n",
      "|24165951|        Getting Even|A soldier-of-fort...|[a, soldier, of, ...|\n",
      "+--------+--------------------+--------------------+--------------------+\n",
      "only showing top 5 rows\n",
      "\n",
      "+--------+--------------------+--------------------+--------------------+--------------------+\n",
      "|movie_id|          movie_name|                plot|              tokens|      featureVectors|\n",
      "+--------+--------------------+--------------------+--------------------+--------------------+\n",
      "| 1335380|              Exodus|The film is based...|[the, film, is, b...|(119515,[0,1,2,3,...|\n",
      "|29062594|A la salida nos v...|A group of teenag...|[a, group, of, te...|(119515,[0,1,2,3,...|\n",
      "| 9252321|   Come Back, Africa|This story of a Z...|[this, story, of,...|(119515,[0,1,2,3,...|\n",
      "|13455076|       A Merry Mixup|The Stooges play ...|[the, stooges, pl...|(119515,[0,1,2,3,...|\n",
      "|24165951|        Getting Even|A soldier-of-fort...|[a, soldier, of, ...|(119515,[0,1,2,3,...|\n",
      "+--------+--------------------+--------------------+--------------------+--------------------+\n",
      "only showing top 5 rows\n",
      "\n"
     ]
    }
   ],
   "source": [
    "tokenizedTestData = regexTokenizer.transform(test_df)\n",
    "tokenizedTestData.show(5)\n",
    "\n",
    "testData = trainDatafit.transform(tokenizedTestData)\n",
    "testData.show(5)"
   ]
  },
  {
   "cell_type": "code",
   "execution_count": 18,
   "metadata": {
    "colab": {
     "base_uri": "https://localhost:8080/",
     "height": 289
    },
    "colab_type": "code",
    "id": "1sorZXboDCdf",
    "outputId": "a21a3670-2a4f-4a5a-ccf3-0984cc6ae33d"
   },
   "outputs": [
    {
     "name": "stdout",
     "output_type": "stream",
     "text": [
      "+--------------------+--------------------+\n",
      "|      featureVectors|        genre_string|\n",
      "+--------------------+--------------------+\n",
      "|(119515,[2,3,19,2...|10000100000000000000|\n",
      "|(119515,[0,1,2,3,...|10001000001000000100|\n",
      "|(119515,[0,1,2,3,...|10001000000000001000|\n",
      "|(119515,[0,1,2,3,...|01000000000000000000|\n",
      "|(119515,[0,1,2,3,...|10000110000000000000|\n",
      "|(119515,[0,1,2,3,...|10011000001000000000|\n",
      "|(119515,[0,1,2,3,...|10010001000000000000|\n",
      "|(119515,[0,1,2,3,...|10000000000000000000|\n",
      "|(119515,[0,1,2,3,...|11100000100000000001|\n",
      "|(119515,[0,1,2,3,...|00000000000011010000|\n",
      "+--------------------+--------------------+\n",
      "only showing top 10 rows\n",
      "\n"
     ]
    }
   ],
   "source": [
    "pipelinedData = trainData.select(\"featureVectors\", \"genre_string\")\n",
    "pipelinedData.show(10)"
   ]
  },
  {
   "cell_type": "code",
   "execution_count": 0,
   "metadata": {
    "colab": {},
    "colab_type": "code",
    "id": "f3ePPq6LDCdh"
   },
   "outputs": [],
   "source": [
    "#Generating columns for each genre with corresponding label from the one hot encoded string\n",
    "split_col = pyspark.sql.functions.split(pipelinedData['genre_string'], '')\n",
    "for i in range(len(genreList)):\n",
    "  pipelinedData = pipelinedData.withColumn(genreList[i], split_col.getItem(i))\n",
    "  pipelinedData = pipelinedData.withColumn(genreList[i], pipelinedData[genreList[i]].cast(DoubleType()))"
   ]
  },
  {
   "cell_type": "code",
   "execution_count": 20,
   "metadata": {
    "colab": {
     "base_uri": "https://localhost:8080/",
     "height": 224
    },
    "colab_type": "code",
    "id": "uzNn3PPEt_JB",
    "outputId": "7803747b-369d-41c3-c70a-c71c5b6fead7"
   },
   "outputs": [
    {
     "name": "stdout",
     "output_type": "stream",
     "text": [
      "+--------------------+--------------------+-----+------+------------+--------+------+------------+-------------+------+---------------+-----+----------------+---------+-----------+----------+--------------+---------+-------+---------------+-------+---------------+\n",
      "|      featureVectors|        genre_string|Drama|Comedy|Romance Film|Thriller|Action|World cinema|Crime Fiction|Horror|Black-and-white|Indie|Action/Adventure|Adventure|Family Film|Short Film|Romantic drama|Animation|Musical|Science Fiction|Mystery|Romantic comedy|\n",
      "+--------------------+--------------------+-----+------+------------+--------+------+------------+-------------+------+---------------+-----+----------------+---------+-----------+----------+--------------+---------+-------+---------------+-------+---------------+\n",
      "|(119515,[2,3,19,2...|10000100000000000000|  1.0|   0.0|         0.0|     0.0|   0.0|         1.0|          0.0|   0.0|            0.0|  0.0|             0.0|      0.0|        0.0|       0.0|           0.0|      0.0|    0.0|            0.0|    0.0|            0.0|\n",
      "|(119515,[0,1,2,3,...|10001000001000000100|  1.0|   0.0|         0.0|     0.0|   1.0|         0.0|          0.0|   0.0|            0.0|  0.0|             1.0|      0.0|        0.0|       0.0|           0.0|      0.0|    0.0|            1.0|    0.0|            0.0|\n",
      "|(119515,[0,1,2,3,...|10001000000000001000|  1.0|   0.0|         0.0|     0.0|   1.0|         0.0|          0.0|   0.0|            0.0|  0.0|             0.0|      0.0|        0.0|       0.0|           0.0|      0.0|    1.0|            0.0|    0.0|            0.0|\n",
      "|(119515,[0,1,2,3,...|01000000000000000000|  0.0|   1.0|         0.0|     0.0|   0.0|         0.0|          0.0|   0.0|            0.0|  0.0|             0.0|      0.0|        0.0|       0.0|           0.0|      0.0|    0.0|            0.0|    0.0|            0.0|\n",
      "|(119515,[0,1,2,3,...|10000110000000000000|  1.0|   0.0|         0.0|     0.0|   0.0|         1.0|          1.0|   0.0|            0.0|  0.0|             0.0|      0.0|        0.0|       0.0|           0.0|      0.0|    0.0|            0.0|    0.0|            0.0|\n",
      "+--------------------+--------------------+-----+------+------------+--------+------+------------+-------------+------+---------------+-----+----------------+---------+-----------+----------+--------------+---------+-------+---------------+-------+---------------+\n",
      "only showing top 5 rows\n",
      "\n"
     ]
    }
   ],
   "source": [
    "pipelinedData.show(5)"
   ]
  },
  {
   "cell_type": "code",
   "execution_count": 0,
   "metadata": {
    "colab": {},
    "colab_type": "code",
    "id": "dMnjZSozDCd0"
   },
   "outputs": [],
   "source": [
    "#Creating model for every genre\n",
    "allModels = numpy.empty(len(genreList), dtype=object) \n",
    "for i in range(len(genreList)):\n",
    "  lr = LogisticRegression(labelCol=genreList[i], featuresCol=\"featureVectors\")\n",
    "  allModels[i] = lr.fit(pipelinedData)"
   ]
  },
  {
   "cell_type": "code",
   "execution_count": 0,
   "metadata": {
    "colab": {},
    "colab_type": "code",
    "id": "XIciQsPvDCd2"
   },
   "outputs": [],
   "source": [
    "#Creating a new dataframe from predicted labels and movie id.\n",
    "final_df = test_df.select(test_df[\"movie_id\"])\n",
    "for i in range(len(genreList)):\n",
    "  pred = allModels[i].transform(testData)\n",
    "  pred = pred.select(pred[\"movie_id\"], pred[\"prediction\"].alias(genreList[i]))\n",
    "  final_df = final_df.join(pred, on=['movie_id'], how='left_outer')"
   ]
  },
  {
   "cell_type": "code",
   "execution_count": 44,
   "metadata": {
    "colab": {
     "base_uri": "https://localhost:8080/",
     "height": 309
    },
    "colab_type": "code",
    "id": "-MzXE8cEv_NB",
    "outputId": "c6560951-b734-452e-a33c-b53f205b72e8"
   },
   "outputs": [
    {
     "name": "stdout",
     "output_type": "stream",
     "text": [
      "+--------+-----+------+------------+--------+------+------------+-------------+------+---------------+-----+----------------+---------+-----------+----------+--------------+---------+-------+---------------+-------+---------------+\n",
      "|movie_id|Drama|Comedy|Romance Film|Thriller|Action|World cinema|Crime Fiction|Horror|Black-and-white|Indie|Action/Adventure|Adventure|Family Film|Short Film|Romantic drama|Animation|Musical|Science Fiction|Mystery|Romantic comedy|\n",
      "+--------+-----+------+------------+--------+------+------------+-------------+------+---------------+-----+----------------+---------+-----------+----------+--------------+---------+-------+---------------+-------+---------------+\n",
      "| 1335380|  1.0|   0.0|         0.0|     0.0|   0.0|         0.0|          0.0|   0.0|            0.0|  0.0|             0.0|      0.0|        0.0|       0.0|           0.0|      0.0|    0.0|            0.0|    0.0|            0.0|\n",
      "|29062594|  0.0|   0.0|         0.0|     0.0|   0.0|         0.0|          0.0|   0.0|            0.0|  0.0|             0.0|      0.0|        0.0|       0.0|           0.0|      0.0|    0.0|            0.0|    0.0|            0.0|\n",
      "| 9252321|  0.0|   0.0|         0.0|     0.0|   0.0|         0.0|          0.0|   0.0|            0.0|  0.0|             0.0|      0.0|        0.0|       0.0|           0.0|      0.0|    0.0|            0.0|    0.0|            0.0|\n",
      "|13455076|  0.0|   1.0|         0.0|     0.0|   0.0|         0.0|          0.0|   0.0|            0.0|  0.0|             0.0|      0.0|        0.0|       0.0|           0.0|      0.0|    0.0|            0.0|    0.0|            0.0|\n",
      "|24165951|  0.0|   0.0|         0.0|     0.0|   0.0|         0.0|          0.0|   0.0|            0.0|  0.0|             0.0|      0.0|        0.0|       0.0|           0.0|      0.0|    0.0|            0.0|    0.0|            0.0|\n",
      "| 1925869|  1.0|   0.0|         0.0|     0.0|   0.0|         0.0|          0.0|   0.0|            0.0|  0.0|             0.0|      0.0|        0.0|       0.0|           0.0|      0.0|    0.0|            0.0|    0.0|            0.0|\n",
      "|10799612|  1.0|   1.0|         0.0|     0.0|   0.0|         0.0|          0.0|   0.0|            0.0|  0.0|             0.0|      0.0|        0.0|       0.0|           0.0|      0.0|    0.0|            0.0|    0.0|            0.0|\n",
      "|28238240|  0.0|   1.0|         0.0|     0.0|   0.0|         0.0|          0.0|   0.0|            0.0|  0.0|             0.0|      0.0|        0.0|       0.0|           0.0|      0.0|    0.0|            0.0|    0.0|            0.0|\n",
      "|17124781|  0.0|   0.0|         0.0|     0.0|   1.0|         0.0|          0.0|   0.0|            0.0|  0.0|             1.0|      0.0|        0.0|       0.0|           0.0|      0.0|    0.0|            0.0|    0.0|            0.0|\n",
      "|28207941|  0.0|   0.0|         0.0|     0.0|   0.0|         0.0|          0.0|   0.0|            0.0|  0.0|             0.0|      0.0|        1.0|       1.0|           0.0|      1.0|    0.0|            0.0|    0.0|            0.0|\n",
      "+--------+-----+------+------------+--------+------+------------+-------------+------+---------------+-----+----------------+---------+-----------+----------+--------------+---------+-------+---------------+-------+---------------+\n",
      "only showing top 10 rows\n",
      "\n"
     ]
    }
   ],
   "source": [
    "final_df.show(10)"
   ]
  },
  {
   "cell_type": "code",
   "execution_count": 0,
   "metadata": {
    "colab": {},
    "colab_type": "code",
    "id": "XZlErhtQDCeA"
   },
   "outputs": [],
   "source": [
    "formatted_output = spark.read.load(\"sample.csv\",\\\n",
    "                                   sep = \",\",\\\n",
    "                                   format = \"csv\",\\\n",
    "                                   inferSchema = True,\\\n",
    "                                   header = True,\\\n",
    "                                   escape = '\"')"
   ]
  },
  {
   "cell_type": "code",
   "execution_count": 28,
   "metadata": {
    "colab": {
     "base_uri": "https://localhost:8080/",
     "height": 272
    },
    "colab_type": "code",
    "id": "JFsU1iphDCeC",
    "outputId": "11120cf6-6695-4d3a-98bc-a4a726280b51"
   },
   "outputs": [
    {
     "name": "stdout",
     "output_type": "stream",
     "text": [
      "root\n",
      " |-- movie_id: integer (nullable = true)\n",
      " |-- predictions: string (nullable = true)\n",
      "\n",
      "+--------+--------------------+\n",
      "|movie_id|         predictions|\n",
      "+--------+--------------------+\n",
      "| 1335380|0 0 0 0 0 0 0 0 0...|\n",
      "|29062594|0 0 0 0 0 0 0 0 0...|\n",
      "| 9252321|0 0 0 0 0 0 0 0 0...|\n",
      "|13455076|0 0 0 0 0 0 0 0 0...|\n",
      "|24165951|0 0 0 0 0 0 0 0 0...|\n",
      "+--------+--------------------+\n",
      "only showing top 5 rows\n",
      "\n"
     ]
    }
   ],
   "source": [
    "formatted_output.printSchema()\n",
    "formatted_output.show(5)"
   ]
  },
  {
   "cell_type": "code",
   "execution_count": 0,
   "metadata": {
    "colab": {},
    "colab_type": "code",
    "id": "NstW7mPpw2hM"
   },
   "outputs": [],
   "source": [
    "for i in range(len(genreList)):\n",
    "  final_df = final_df.withColumn(genreList[i],col(genreList[i]).cast(IntegerType()))"
   ]
  },
  {
   "cell_type": "code",
   "execution_count": 47,
   "metadata": {
    "colab": {
     "base_uri": "https://localhost:8080/",
     "height": 224
    },
    "colab_type": "code",
    "id": "Oe3YzX191aR7",
    "outputId": "9b8f07df-fc00-4b12-f1ad-c9a1fe197e5f"
   },
   "outputs": [
    {
     "name": "stdout",
     "output_type": "stream",
     "text": [
      "+--------+-----+------+------------+--------+------+------------+-------------+------+---------------+-----+----------------+---------+-----------+----------+--------------+---------+-------+---------------+-------+---------------+\n",
      "|movie_id|Drama|Comedy|Romance Film|Thriller|Action|World cinema|Crime Fiction|Horror|Black-and-white|Indie|Action/Adventure|Adventure|Family Film|Short Film|Romantic drama|Animation|Musical|Science Fiction|Mystery|Romantic comedy|\n",
      "+--------+-----+------+------------+--------+------+------------+-------------+------+---------------+-----+----------------+---------+-----------+----------+--------------+---------+-------+---------------+-------+---------------+\n",
      "| 1335380|    1|     0|           0|       0|     0|           0|            0|     0|              0|    0|               0|        0|          0|         0|             0|        0|      0|              0|      0|              0|\n",
      "|29062594|    0|     0|           0|       0|     0|           0|            0|     0|              0|    0|               0|        0|          0|         0|             0|        0|      0|              0|      0|              0|\n",
      "| 9252321|    0|     0|           0|       0|     0|           0|            0|     0|              0|    0|               0|        0|          0|         0|             0|        0|      0|              0|      0|              0|\n",
      "|13455076|    0|     1|           0|       0|     0|           0|            0|     0|              0|    0|               0|        0|          0|         0|             0|        0|      0|              0|      0|              0|\n",
      "|24165951|    0|     0|           0|       0|     0|           0|            0|     0|              0|    0|               0|        0|          0|         0|             0|        0|      0|              0|      0|              0|\n",
      "+--------+-----+------+------------+--------+------+------------+-------------+------+---------------+-----+----------------+---------+-----------+----------+--------------+---------+-------+---------------+-------+---------------+\n",
      "only showing top 5 rows\n",
      "\n"
     ]
    }
   ],
   "source": [
    "final_df.show(5)"
   ]
  },
  {
   "cell_type": "code",
   "execution_count": 0,
   "metadata": {
    "colab": {},
    "colab_type": "code",
    "id": "wCm9FZL7DCeI"
   },
   "outputs": [],
   "source": [
    "final_df_1 = final_df.withColumn('predictions', F.concat(F.col(genreList[0]),F.lit(' '), F.col(genreList[1])))\n",
    "for i in range(2, len(genreList)):\n",
    "  final_df_1 = final_df_1.withColumn('predictions', F.concat(F.col(\"predictions\"),F.lit(' '), F.col(genreList[i])))"
   ]
  },
  {
   "cell_type": "code",
   "execution_count": 49,
   "metadata": {
    "colab": {
     "base_uri": "https://localhost:8080/",
     "height": 224
    },
    "colab_type": "code",
    "id": "phlr70Jx131-",
    "outputId": "007fbec5-ef32-46e8-af66-32eca7cbfce1"
   },
   "outputs": [
    {
     "name": "stdout",
     "output_type": "stream",
     "text": [
      "+--------+-----+------+------------+--------+------+------------+-------------+------+---------------+-----+----------------+---------+-----------+----------+--------------+---------+-------+---------------+-------+---------------+--------------------+\n",
      "|movie_id|Drama|Comedy|Romance Film|Thriller|Action|World cinema|Crime Fiction|Horror|Black-and-white|Indie|Action/Adventure|Adventure|Family Film|Short Film|Romantic drama|Animation|Musical|Science Fiction|Mystery|Romantic comedy|         predictions|\n",
      "+--------+-----+------+------------+--------+------+------------+-------------+------+---------------+-----+----------------+---------+-----------+----------+--------------+---------+-------+---------------+-------+---------------+--------------------+\n",
      "| 1335380|    1|     0|           0|       0|     0|           0|            0|     0|              0|    0|               0|        0|          0|         0|             0|        0|      0|              0|      0|              0|1 0 0 0 0 0 0 0 0...|\n",
      "|29062594|    0|     0|           0|       0|     0|           0|            0|     0|              0|    0|               0|        0|          0|         0|             0|        0|      0|              0|      0|              0|0 0 0 0 0 0 0 0 0...|\n",
      "| 9252321|    0|     0|           0|       0|     0|           0|            0|     0|              0|    0|               0|        0|          0|         0|             0|        0|      0|              0|      0|              0|0 0 0 0 0 0 0 0 0...|\n",
      "|13455076|    0|     1|           0|       0|     0|           0|            0|     0|              0|    0|               0|        0|          0|         0|             0|        0|      0|              0|      0|              0|0 1 0 0 0 0 0 0 0...|\n",
      "|24165951|    0|     0|           0|       0|     0|           0|            0|     0|              0|    0|               0|        0|          0|         0|             0|        0|      0|              0|      0|              0|0 0 0 0 0 0 0 0 0...|\n",
      "+--------+-----+------+------------+--------+------+------------+-------------+------+---------------+-----+----------------+---------+-----------+----------+--------------+---------+-------+---------------+-------+---------------+--------------------+\n",
      "only showing top 5 rows\n",
      "\n"
     ]
    }
   ],
   "source": [
    "final_df_1.show(5)"
   ]
  },
  {
   "cell_type": "code",
   "execution_count": 50,
   "metadata": {
    "colab": {
     "base_uri": "https://localhost:8080/",
     "height": 459
    },
    "colab_type": "code",
    "id": "y57nyLYzDCeK",
    "outputId": "f52a35cc-c72a-4ce2-9d34-e55a251cba03"
   },
   "outputs": [
    {
     "name": "stdout",
     "output_type": "stream",
     "text": [
      "+--------+--------------------+\n",
      "|movie_id|         predictions|\n",
      "+--------+--------------------+\n",
      "| 1335380|1 0 0 0 0 0 0 0 0...|\n",
      "|29062594|0 0 0 0 0 0 0 0 0...|\n",
      "| 9252321|0 0 0 0 0 0 0 0 0...|\n",
      "|13455076|0 1 0 0 0 0 0 0 0...|\n",
      "|24165951|0 0 0 0 0 0 0 0 0...|\n",
      "| 1925869|1 0 0 0 0 0 0 0 0...|\n",
      "|10799612|1 1 0 0 0 0 0 0 0...|\n",
      "|28238240|0 1 0 0 0 0 0 0 0...|\n",
      "|17124781|0 0 0 0 1 0 0 0 0...|\n",
      "|28207941|0 0 0 0 0 0 0 0 0...|\n",
      "|19174305|0 0 1 0 0 0 0 0 0...|\n",
      "|18392317|0 0 0 0 0 0 0 0 0...|\n",
      "|34420857|0 0 0 0 0 1 0 0 0...|\n",
      "| 4039635|0 0 0 0 0 0 0 0 0...|\n",
      "| 8034072|1 0 0 0 0 1 0 0 0...|\n",
      "| 4016437|1 0 0 0 0 0 0 0 0...|\n",
      "| 1520023|1 0 0 0 0 1 0 0 0...|\n",
      "|24589422|1 0 0 0 0 0 0 0 0...|\n",
      "|35068740|0 0 1 0 0 0 0 0 0...|\n",
      "|21132951|0 0 0 0 0 0 0 0 0...|\n",
      "+--------+--------------------+\n",
      "only showing top 20 rows\n",
      "\n"
     ]
    }
   ],
   "source": [
    "output_task1 = final_df_1.select(\"movie_id\", \"predictions\")\n",
    "output_task1.show()"
   ]
  },
  {
   "cell_type": "code",
   "execution_count": 0,
   "metadata": {
    "colab": {},
    "colab_type": "code",
    "id": "dhRniG9uIoR6"
   },
   "outputs": [],
   "source": [
    "output_task1.write.csv('output_task1.csv')"
   ]
  },
  {
   "cell_type": "markdown",
   "metadata": {
    "colab_type": "text",
    "id": "N4eINNrNDCeO"
   },
   "source": [
    "**Part 2**"
   ]
  },
  {
   "cell_type": "code",
   "execution_count": 0,
   "metadata": {
    "colab": {},
    "colab_type": "code",
    "id": "qi7YlEeJDCeO"
   },
   "outputs": [],
   "source": [
    "idf = IDF(minDocFreq=2, inputCol=\"featureVectors\", outputCol=\"features_2\")\n",
    "idfModel = idf.fit(trainData)\n",
    "tfidfTrain = idfModel.transform(trainData)\n",
    "tfidfTest = idfModel.transform(testData)"
   ]
  },
  {
   "cell_type": "code",
   "execution_count": 53,
   "metadata": {
    "colab": {
     "base_uri": "https://localhost:8080/",
     "height": 204
    },
    "colab_type": "code",
    "id": "aXuoF8YiDCeQ",
    "outputId": "b4b49a58-19a3-497a-bfe0-89cc76214115"
   },
   "outputs": [
    {
     "name": "stdout",
     "output_type": "stream",
     "text": [
      "+--------------------+--------------------+\n",
      "|          features_2|        genre_string|\n",
      "+--------------------+--------------------+\n",
      "|(119515,[2,3,19,2...|10000100000000000000|\n",
      "|(119515,[0,1,2,3,...|10001000001000000100|\n",
      "|(119515,[0,1,2,3,...|10001000000000001000|\n",
      "|(119515,[0,1,2,3,...|01000000000000000000|\n",
      "|(119515,[0,1,2,3,...|10000110000000000000|\n",
      "+--------------------+--------------------+\n",
      "only showing top 5 rows\n",
      "\n"
     ]
    }
   ],
   "source": [
    "pipelinedData = tfidfTrain.select(\"features_2\", \"genre_string\")\n",
    "pipelinedData.show(5)"
   ]
  },
  {
   "cell_type": "code",
   "execution_count": 0,
   "metadata": {
    "colab": {},
    "colab_type": "code",
    "id": "JQkmmkLsDCeS"
   },
   "outputs": [],
   "source": [
    "split_col = pyspark.sql.functions.split(pipelinedData['genre_string'], '')\n",
    "for i in range(len(genreList)):\n",
    "  pipelinedData = pipelinedData.withColumn(genreList[i], split_col.getItem(i))\n",
    "  pipelinedData = pipelinedData.withColumn(genreList[i], pipelinedData[genreList[i]].cast(DoubleType()))"
   ]
  },
  {
   "cell_type": "code",
   "execution_count": 55,
   "metadata": {
    "colab": {
     "base_uri": "https://localhost:8080/",
     "height": 224
    },
    "colab_type": "code",
    "id": "2viUFsqo7t_E",
    "outputId": "dcfc7360-070a-483f-9636-50182d9f4e17"
   },
   "outputs": [
    {
     "name": "stdout",
     "output_type": "stream",
     "text": [
      "+--------------------+--------------------+-----+------+------------+--------+------+------------+-------------+------+---------------+-----+----------------+---------+-----------+----------+--------------+---------+-------+---------------+-------+---------------+\n",
      "|          features_2|        genre_string|Drama|Comedy|Romance Film|Thriller|Action|World cinema|Crime Fiction|Horror|Black-and-white|Indie|Action/Adventure|Adventure|Family Film|Short Film|Romantic drama|Animation|Musical|Science Fiction|Mystery|Romantic comedy|\n",
      "+--------------------+--------------------+-----+------+------------+--------+------+------------+-------------+------+---------------+-----+----------------+---------+-----------+----------+--------------+---------+-------+---------------+-------+---------------+\n",
      "|(119515,[2,3,19,2...|10000100000000000000|  1.0|   0.0|         0.0|     0.0|   0.0|         1.0|          0.0|   0.0|            0.0|  0.0|             0.0|      0.0|        0.0|       0.0|           0.0|      0.0|    0.0|            0.0|    0.0|            0.0|\n",
      "|(119515,[0,1,2,3,...|10001000001000000100|  1.0|   0.0|         0.0|     0.0|   1.0|         0.0|          0.0|   0.0|            0.0|  0.0|             1.0|      0.0|        0.0|       0.0|           0.0|      0.0|    0.0|            1.0|    0.0|            0.0|\n",
      "|(119515,[0,1,2,3,...|10001000000000001000|  1.0|   0.0|         0.0|     0.0|   1.0|         0.0|          0.0|   0.0|            0.0|  0.0|             0.0|      0.0|        0.0|       0.0|           0.0|      0.0|    1.0|            0.0|    0.0|            0.0|\n",
      "|(119515,[0,1,2,3,...|01000000000000000000|  0.0|   1.0|         0.0|     0.0|   0.0|         0.0|          0.0|   0.0|            0.0|  0.0|             0.0|      0.0|        0.0|       0.0|           0.0|      0.0|    0.0|            0.0|    0.0|            0.0|\n",
      "|(119515,[0,1,2,3,...|10000110000000000000|  1.0|   0.0|         0.0|     0.0|   0.0|         1.0|          1.0|   0.0|            0.0|  0.0|             0.0|      0.0|        0.0|       0.0|           0.0|      0.0|    0.0|            0.0|    0.0|            0.0|\n",
      "+--------------------+--------------------+-----+------+------------+--------+------+------------+-------------+------+---------------+-----+----------------+---------+-----------+----------+--------------+---------+-------+---------------+-------+---------------+\n",
      "only showing top 5 rows\n",
      "\n"
     ]
    }
   ],
   "source": [
    "pipelinedData.show(5)"
   ]
  },
  {
   "cell_type": "code",
   "execution_count": 0,
   "metadata": {
    "colab": {},
    "colab_type": "code",
    "id": "q5BofAqZDCea"
   },
   "outputs": [],
   "source": [
    "allModels = numpy.empty(len(genreList), dtype=object) \n",
    "for i in range(len(genreList)):\n",
    "  lr = LogisticRegression(labelCol=genreList[i], featuresCol=\"features_2\")\n",
    "  allModels[i] = lr.fit(pipelinedData)"
   ]
  },
  {
   "cell_type": "code",
   "execution_count": 0,
   "metadata": {
    "colab": {},
    "colab_type": "code",
    "id": "q_iQj9dvDCec"
   },
   "outputs": [],
   "source": [
    "final_df = test_df.select(\"movie_id\")\n",
    "for i in range(len(genreList)):\n",
    "  pred = allModels[i].transform(tfidfTest)\n",
    "  pred = pred.select(\"movie_id\", pred[\"prediction\"].alias(genreList[i]))\n",
    "  final_df = final_df.join(pred, on=['movie_id'], how='left_outer')"
   ]
  },
  {
   "cell_type": "code",
   "execution_count": 0,
   "metadata": {
    "colab": {},
    "colab_type": "code",
    "id": "YO5iQF2jDCem"
   },
   "outputs": [],
   "source": [
    "for i in range(len(genreList)):\n",
    "  final_df = final_df.withColumn(genreList[i],col(genreList[i]).cast(IntegerType()))"
   ]
  },
  {
   "cell_type": "code",
   "execution_count": 0,
   "metadata": {
    "colab": {},
    "colab_type": "code",
    "id": "0alhMa7mDCep"
   },
   "outputs": [],
   "source": [
    "final_df = final_df.withColumn('predictions', F.concat(F.col(genreList[0]),F.lit(' '), F.col(genreList[1])))\n",
    "for i in range(2, len(genreList)):\n",
    "  final_df = final_df.withColumn('predictions', F.concat(F.col(\"predictions\"),F.lit(' '), F.col(genreList[i])))"
   ]
  },
  {
   "cell_type": "code",
   "execution_count": 62,
   "metadata": {
    "colab": {
     "base_uri": "https://localhost:8080/",
     "height": 204
    },
    "colab_type": "code",
    "id": "Xwz0gytzDCer",
    "outputId": "48b37f34-e323-4f6b-9ca9-53d850cf4670"
   },
   "outputs": [
    {
     "name": "stdout",
     "output_type": "stream",
     "text": [
      "+--------+--------------------+\n",
      "|movie_id|         predictions|\n",
      "+--------+--------------------+\n",
      "| 1335380|1 0 0 0 0 0 0 0 0...|\n",
      "|29062594|0 0 0 0 0 0 0 0 0...|\n",
      "| 9252321|1 0 0 0 0 0 0 0 0...|\n",
      "|13455076|0 1 0 0 0 0 0 0 0...|\n",
      "|24165951|0 0 0 0 0 0 0 0 0...|\n",
      "+--------+--------------------+\n",
      "only showing top 5 rows\n",
      "\n"
     ]
    }
   ],
   "source": [
    "output_task2 = final_df.select(\"movie_id\", \"predictions\")\n",
    "output_task2.show(5)"
   ]
  },
  {
   "cell_type": "code",
   "execution_count": 0,
   "metadata": {
    "colab": {},
    "colab_type": "code",
    "id": "egyST_sADCey"
   },
   "outputs": [],
   "source": [
    "output_task2.write.csv('output_task2.csv')"
   ]
  },
  {
   "cell_type": "markdown",
   "metadata": {
    "colab_type": "text",
    "id": "QNSGj3xqRhSp"
   },
   "source": [
    "**Part 3**"
   ]
  },
  {
   "cell_type": "code",
   "execution_count": 65,
   "metadata": {
    "colab": {
     "base_uri": "https://localhost:8080/",
     "height": 224
    },
    "colab_type": "code",
    "id": "wHY7I7lTRkOn",
    "outputId": "fe4ee196-4b02-401d-982a-38e93c346e9e"
   },
   "outputs": [
    {
     "name": "stdout",
     "output_type": "stream",
     "text": [
      "+--------+------------------+--------------------+--------------------+--------------------+--------------------+--------------------+\n",
      "|movie_id|        movie_name|                plot|        genre_string|         genre_array|               genre|              tokens|\n",
      "+--------+------------------+--------------------+--------------------+--------------------+--------------------+--------------------+\n",
      "|23890098|        Taxi Blues|Shlykov, a hard-w...|10000100000000000000|['World cinema', ...|['World cinema', ...|[shlykov, a, hard...|\n",
      "|31186339|  The Hunger Games|The nation of Pan...|10001000001000000100|['Action/Adventur...|['Action/Adventur...|[the, nation, of,...|\n",
      "|20663735|        Narasimham|Poovalli Induchoo...|10001000000000001000|['Musical', 'Acti...|['Musical', 'Acti...|[poovalli, induch...|\n",
      "| 2231378|The Lemon Drop Kid|The Lemon Drop Ki...|01000000000000000000|          ['Comedy']|          ['Comedy']|[the, lemon, drop...|\n",
      "|  595909| A Cry in the Dark|Seventh-day Adven...|10000110000000000000|['Crime Fiction',...|['Crime Fiction',...|[seventh, day, ad...|\n",
      "+--------+------------------+--------------------+--------------------+--------------------+--------------------+--------------------+\n",
      "only showing top 5 rows\n",
      "\n"
     ]
    }
   ],
   "source": [
    "tokenizedTrainData.show(5)"
   ]
  },
  {
   "cell_type": "code",
   "execution_count": 66,
   "metadata": {
    "colab": {
     "base_uri": "https://localhost:8080/",
     "height": 204
    },
    "colab_type": "code",
    "id": "uPExDj8tRqaG",
    "outputId": "a457c8af-483e-4c12-f6e9-02b4e22c538c"
   },
   "outputs": [
    {
     "name": "stdout",
     "output_type": "stream",
     "text": [
      "+--------+--------------------+--------------------+--------------------+\n",
      "|movie_id|          movie_name|                plot|              tokens|\n",
      "+--------+--------------------+--------------------+--------------------+\n",
      "| 1335380|              Exodus|The film is based...|[the, film, is, b...|\n",
      "|29062594|A la salida nos v...|A group of teenag...|[a, group, of, te...|\n",
      "| 9252321|   Come Back, Africa|This story of a Z...|[this, story, of,...|\n",
      "|13455076|       A Merry Mixup|The Stooges play ...|[the, stooges, pl...|\n",
      "|24165951|        Getting Even|A soldier-of-fort...|[a, soldier, of, ...|\n",
      "+--------+--------------------+--------------------+--------------------+\n",
      "only showing top 5 rows\n",
      "\n"
     ]
    }
   ],
   "source": [
    "tokenizedTestData.show(5)"
   ]
  },
  {
   "cell_type": "code",
   "execution_count": 67,
   "metadata": {
    "colab": {
     "base_uri": "https://localhost:8080/",
     "height": 224
    },
    "colab_type": "code",
    "id": "Ynv1DxApR6xd",
    "outputId": "677c066c-6533-437c-aa42-ebe4bea58f0b"
   },
   "outputs": [
    {
     "name": "stdout",
     "output_type": "stream",
     "text": [
      "+--------+------------------+--------------------+--------------------+--------------------+--------------------+--------------------+--------------------+\n",
      "|movie_id|        movie_name|                plot|        genre_string|         genre_array|               genre|              tokens|          sw_removed|\n",
      "+--------+------------------+--------------------+--------------------+--------------------+--------------------+--------------------+--------------------+\n",
      "|23890098|        Taxi Blues|Shlykov, a hard-w...|10000100000000000000|['World cinema', ...|['World cinema', ...|[shlykov, a, hard...|[shlykov, hard, w...|\n",
      "|31186339|  The Hunger Games|The nation of Pan...|10001000001000000100|['Action/Adventur...|['Action/Adventur...|[the, nation, of,...|[nation, panem, c...|\n",
      "|20663735|        Narasimham|Poovalli Induchoo...|10001000000000001000|['Musical', 'Acti...|['Musical', 'Acti...|[poovalli, induch...|[poovalli, induch...|\n",
      "| 2231378|The Lemon Drop Kid|The Lemon Drop Ki...|01000000000000000000|          ['Comedy']|          ['Comedy']|[the, lemon, drop...|[lemon, drop, kid...|\n",
      "|  595909| A Cry in the Dark|Seventh-day Adven...|10000110000000000000|['Crime Fiction',...|['Crime Fiction',...|[seventh, day, ad...|[seventh, day, ad...|\n",
      "+--------+------------------+--------------------+--------------------+--------------------+--------------------+--------------------+--------------------+\n",
      "only showing top 5 rows\n",
      "\n"
     ]
    }
   ],
   "source": [
    "from pyspark.ml.feature import StopWordsRemover\n",
    "swr = StopWordsRemover(inputCol=\"tokens\", outputCol=\"sw_removed\")\n",
    "swrTrainData = swr.transform(tokenizedTrainData)\n",
    "swrTrainData.show(5)"
   ]
  },
  {
   "cell_type": "code",
   "execution_count": 68,
   "metadata": {
    "colab": {
     "base_uri": "https://localhost:8080/",
     "height": 204
    },
    "colab_type": "code",
    "id": "CDWcVN4HSG9n",
    "outputId": "ee77ca1f-3063-43a6-cd02-3c105247473d"
   },
   "outputs": [
    {
     "name": "stdout",
     "output_type": "stream",
     "text": [
      "+--------+--------------------+--------------------+--------------------+--------------------+\n",
      "|movie_id|          movie_name|                plot|              tokens|          sw_removed|\n",
      "+--------+--------------------+--------------------+--------------------+--------------------+\n",
      "| 1335380|              Exodus|The film is based...|[the, film, is, b...|[film, based, eve...|\n",
      "|29062594|A la salida nos v...|A group of teenag...|[a, group, of, te...|[group, teenagers...|\n",
      "| 9252321|   Come Back, Africa|This story of a Z...|[this, story, of,...|[story, zulu, fam...|\n",
      "|13455076|       A Merry Mixup|The Stooges play ...|[the, stooges, pl...|[stooges, play, t...|\n",
      "|24165951|        Getting Even|A soldier-of-fort...|[a, soldier, of, ...|[soldier, fortune...|\n",
      "+--------+--------------------+--------------------+--------------------+--------------------+\n",
      "only showing top 5 rows\n",
      "\n"
     ]
    }
   ],
   "source": [
    "swrTestData = swr.transform(tokenizedTestData)\n",
    "swrTestData.show(5)"
   ]
  },
  {
   "cell_type": "code",
   "execution_count": 71,
   "metadata": {
    "colab": {
     "base_uri": "https://localhost:8080/",
     "height": 224
    },
    "colab_type": "code",
    "id": "leNwe2vSSMRH",
    "outputId": "ce1de8f0-02ec-4150-f09b-68a35463fc67"
   },
   "outputs": [
    {
     "name": "stdout",
     "output_type": "stream",
     "text": [
      "+--------+------------------+--------------------+--------------------+--------------------+--------------------+--------------------+--------------------+--------------------+\n",
      "|movie_id|        movie_name|                plot|        genre_string|         genre_array|               genre|              tokens|          sw_removed|  hashfeatureVectors|\n",
      "+--------+------------------+--------------------+--------------------+--------------------+--------------------+--------------------+--------------------+--------------------+\n",
      "|23890098|        Taxi Blues|Shlykov, a hard-w...|10000100000000000000|['World cinema', ...|['World cinema', ...|[shlykov, a, hard...|[shlykov, hard, w...|(262144,[2437,127...|\n",
      "|31186339|  The Hunger Games|The nation of Pan...|10001000001000000100|['Action/Adventur...|['Action/Adventur...|[the, nation, of,...|[nation, panem, c...|(262144,[991,1739...|\n",
      "|20663735|        Narasimham|Poovalli Induchoo...|10001000000000001000|['Musical', 'Acti...|['Musical', 'Acti...|[poovalli, induch...|[poovalli, induch...|(262144,[119,571,...|\n",
      "| 2231378|The Lemon Drop Kid|The Lemon Drop Ki...|01000000000000000000|          ['Comedy']|          ['Comedy']|[the, lemon, drop...|[lemon, drop, kid...|(262144,[619,1998...|\n",
      "|  595909| A Cry in the Dark|Seventh-day Adven...|10000110000000000000|['Crime Fiction',...|['Crime Fiction',...|[seventh, day, ad...|[seventh, day, ad...|(262144,[1911,243...|\n",
      "+--------+------------------+--------------------+--------------------+--------------------+--------------------+--------------------+--------------------+--------------------+\n",
      "only showing top 5 rows\n",
      "\n"
     ]
    }
   ],
   "source": [
    "hashingTF = HashingTF(inputCol=\"sw_removed\", outputCol=\"hashfeatureVectors\")\n",
    "hashTrainData = hashingTF.transform(swrTrainData)\n",
    "hashTrainData.show(5)"
   ]
  },
  {
   "cell_type": "code",
   "execution_count": 70,
   "metadata": {
    "colab": {
     "base_uri": "https://localhost:8080/",
     "height": 204
    },
    "colab_type": "code",
    "id": "wQ7Dr_NgSdzP",
    "outputId": "93f70c9d-67a0-40d4-b094-c5c3830197af"
   },
   "outputs": [
    {
     "name": "stdout",
     "output_type": "stream",
     "text": [
      "+--------+--------------------+--------------------+--------------------+--------------------+--------------------+\n",
      "|movie_id|          movie_name|                plot|              tokens|          sw_removed|  hashfeatureVectors|\n",
      "+--------+--------------------+--------------------+--------------------+--------------------+--------------------+\n",
      "| 1335380|              Exodus|The film is based...|[the, film, is, b...|[film, based, eve...|(262144,[1728,261...|\n",
      "|29062594|A la salida nos v...|A group of teenag...|[a, group, of, te...|[group, teenagers...|(262144,[6068,191...|\n",
      "| 9252321|   Come Back, Africa|This story of a Z...|[this, story, of,...|[story, zulu, fam...|(262144,[1598,208...|\n",
      "|13455076|       A Merry Mixup|The Stooges play ...|[the, stooges, pl...|[stooges, play, t...|(262144,[3294,618...|\n",
      "|24165951|        Getting Even|A soldier-of-fort...|[a, soldier, of, ...|[soldier, fortune...|(262144,[4098,644...|\n",
      "+--------+--------------------+--------------------+--------------------+--------------------+--------------------+\n",
      "only showing top 5 rows\n",
      "\n"
     ]
    }
   ],
   "source": [
    "hashTestData = hashingTF.transform(swrTestData)\n",
    "hashTestData.show(5)"
   ]
  },
  {
   "cell_type": "code",
   "execution_count": 72,
   "metadata": {
    "colab": {
     "base_uri": "https://localhost:8080/",
     "height": 224
    },
    "colab_type": "code",
    "id": "Oee5l2KWSkRl",
    "outputId": "81a915ea-88d5-4159-ca6c-5b98a13f1dd1"
   },
   "outputs": [
    {
     "name": "stdout",
     "output_type": "stream",
     "text": [
      "+--------+------------------+--------------------+--------------------+--------------------+--------------------+--------------------+--------------------+--------------------+----------------------+\n",
      "|movie_id|        movie_name|                plot|        genre_string|         genre_array|               genre|              tokens|          sw_removed|  hashfeatureVectors|MinAbs_Scaled_features|\n",
      "+--------+------------------+--------------------+--------------------+--------------------+--------------------+--------------------+--------------------+--------------------+----------------------+\n",
      "|23890098|        Taxi Blues|Shlykov, a hard-w...|10000100000000000000|['World cinema', ...|['World cinema', ...|[shlykov, a, hard...|[shlykov, hard, w...|(262144,[2437,127...|  (262144,[2437,127...|\n",
      "|31186339|  The Hunger Games|The nation of Pan...|10001000001000000100|['Action/Adventur...|['Action/Adventur...|[the, nation, of,...|[nation, panem, c...|(262144,[991,1739...|  (262144,[991,1739...|\n",
      "|20663735|        Narasimham|Poovalli Induchoo...|10001000000000001000|['Musical', 'Acti...|['Musical', 'Acti...|[poovalli, induch...|[poovalli, induch...|(262144,[119,571,...|  (262144,[119,571,...|\n",
      "| 2231378|The Lemon Drop Kid|The Lemon Drop Ki...|01000000000000000000|          ['Comedy']|          ['Comedy']|[the, lemon, drop...|[lemon, drop, kid...|(262144,[619,1998...|  (262144,[619,1998...|\n",
      "|  595909| A Cry in the Dark|Seventh-day Adven...|10000110000000000000|['Crime Fiction',...|['Crime Fiction',...|[seventh, day, ad...|[seventh, day, ad...|(262144,[1911,243...|  (262144,[1911,243...|\n",
      "+--------+------------------+--------------------+--------------------+--------------------+--------------------+--------------------+--------------------+--------------------+----------------------+\n",
      "only showing top 5 rows\n",
      "\n"
     ]
    }
   ],
   "source": [
    "from pyspark.ml.feature import MaxAbsScaler\n",
    "\n",
    "MinAbsScalerizer = MaxAbsScaler().setInputCol(\"hashfeatureVectors\").setOutputCol(\"MinAbs_Scaled_features\")\n",
    "absTrain = MinAbsScalerizer.fit(hashTrainData).transform(hashTrainData)\n",
    "absTrain.show(5)"
   ]
  },
  {
   "cell_type": "code",
   "execution_count": 73,
   "metadata": {
    "colab": {
     "base_uri": "https://localhost:8080/",
     "height": 224
    },
    "colab_type": "code",
    "id": "d4npgo5BSzMp",
    "outputId": "a7beb995-9662-4822-98f3-ff82893d4297"
   },
   "outputs": [
    {
     "name": "stdout",
     "output_type": "stream",
     "text": [
      "+--------+--------------------+--------------------+--------------------+--------------------+--------------------+----------------------+\n",
      "|movie_id|          movie_name|                plot|              tokens|          sw_removed|  hashfeatureVectors|MinAbs_Scaled_features|\n",
      "+--------+--------------------+--------------------+--------------------+--------------------+--------------------+----------------------+\n",
      "| 1335380|              Exodus|The film is based...|[the, film, is, b...|[film, based, eve...|(262144,[1728,261...|  (262144,[1728,261...|\n",
      "|29062594|A la salida nos v...|A group of teenag...|[a, group, of, te...|[group, teenagers...|(262144,[6068,191...|  (262144,[6068,191...|\n",
      "| 9252321|   Come Back, Africa|This story of a Z...|[this, story, of,...|[story, zulu, fam...|(262144,[1598,208...|  (262144,[1598,208...|\n",
      "|13455076|       A Merry Mixup|The Stooges play ...|[the, stooges, pl...|[stooges, play, t...|(262144,[3294,618...|  (262144,[3294,618...|\n",
      "|24165951|        Getting Even|A soldier-of-fort...|[a, soldier, of, ...|[soldier, fortune...|(262144,[4098,644...|  (262144,[4098,644...|\n",
      "+--------+--------------------+--------------------+--------------------+--------------------+--------------------+----------------------+\n",
      "only showing top 5 rows\n",
      "\n"
     ]
    }
   ],
   "source": [
    "absTest = MinAbsScalerizer.fit(hashTestData).transform(hashTestData)\n",
    "absTest.show(5)"
   ]
  },
  {
   "cell_type": "code",
   "execution_count": 74,
   "metadata": {
    "colab": {
     "base_uri": "https://localhost:8080/",
     "height": 204
    },
    "colab_type": "code",
    "id": "k3Q0_aO3TA_S",
    "outputId": "42d58e52-bd5f-4248-f5e3-f6624d014a75"
   },
   "outputs": [
    {
     "name": "stdout",
     "output_type": "stream",
     "text": [
      "+----------------------+--------------------+\n",
      "|MinAbs_Scaled_features|        genre_string|\n",
      "+----------------------+--------------------+\n",
      "|  (262144,[2437,127...|10000100000000000000|\n",
      "|  (262144,[991,1739...|10001000001000000100|\n",
      "|  (262144,[119,571,...|10001000000000001000|\n",
      "|  (262144,[619,1998...|01000000000000000000|\n",
      "|  (262144,[1911,243...|10000110000000000000|\n",
      "+----------------------+--------------------+\n",
      "only showing top 5 rows\n",
      "\n"
     ]
    }
   ],
   "source": [
    "pipelinedData_hash = absTrain.select(absTrain[\"MinAbs_Scaled_features\"], absTrain[\"genre_string\"])\n",
    "pipelinedData_hash.show(5)"
   ]
  },
  {
   "cell_type": "code",
   "execution_count": 0,
   "metadata": {
    "colab": {},
    "colab_type": "code",
    "id": "eeTY0V9ZTG7d"
   },
   "outputs": [],
   "source": [
    "split_col = pyspark.sql.functions.split(pipelinedData_hash['genre_string'], '')\n",
    "for i in range(len(genreList)):\n",
    "  pipelinedData_hash = pipelinedData_hash.withColumn(genreList[i], split_col.getItem(i))\n",
    "  pipelinedData_hash = pipelinedData_hash.withColumn(genreList[i], pipelinedData_hash[genreList[i]].cast(DoubleType()))"
   ]
  },
  {
   "cell_type": "code",
   "execution_count": 76,
   "metadata": {
    "colab": {
     "base_uri": "https://localhost:8080/",
     "height": 224
    },
    "colab_type": "code",
    "id": "ou-RJzimTO4K",
    "outputId": "6829119c-1bad-47b7-c20e-238af05ac41b"
   },
   "outputs": [
    {
     "name": "stdout",
     "output_type": "stream",
     "text": [
      "+----------------------+--------------------+-----+------+------------+--------+------+------------+-------------+------+---------------+-----+----------------+---------+-----------+----------+--------------+---------+-------+---------------+-------+---------------+\n",
      "|MinAbs_Scaled_features|        genre_string|Drama|Comedy|Romance Film|Thriller|Action|World cinema|Crime Fiction|Horror|Black-and-white|Indie|Action/Adventure|Adventure|Family Film|Short Film|Romantic drama|Animation|Musical|Science Fiction|Mystery|Romantic comedy|\n",
      "+----------------------+--------------------+-----+------+------------+--------+------+------------+-------------+------+---------------+-----+----------------+---------+-----------+----------+--------------+---------+-------+---------------+-------+---------------+\n",
      "|  (262144,[2437,127...|10000100000000000000|  1.0|   0.0|         0.0|     0.0|   0.0|         1.0|          0.0|   0.0|            0.0|  0.0|             0.0|      0.0|        0.0|       0.0|           0.0|      0.0|    0.0|            0.0|    0.0|            0.0|\n",
      "|  (262144,[991,1739...|10001000001000000100|  1.0|   0.0|         0.0|     0.0|   1.0|         0.0|          0.0|   0.0|            0.0|  0.0|             1.0|      0.0|        0.0|       0.0|           0.0|      0.0|    0.0|            1.0|    0.0|            0.0|\n",
      "|  (262144,[119,571,...|10001000000000001000|  1.0|   0.0|         0.0|     0.0|   1.0|         0.0|          0.0|   0.0|            0.0|  0.0|             0.0|      0.0|        0.0|       0.0|           0.0|      0.0|    1.0|            0.0|    0.0|            0.0|\n",
      "|  (262144,[619,1998...|01000000000000000000|  0.0|   1.0|         0.0|     0.0|   0.0|         0.0|          0.0|   0.0|            0.0|  0.0|             0.0|      0.0|        0.0|       0.0|           0.0|      0.0|    0.0|            0.0|    0.0|            0.0|\n",
      "|  (262144,[1911,243...|10000110000000000000|  1.0|   0.0|         0.0|     0.0|   0.0|         1.0|          1.0|   0.0|            0.0|  0.0|             0.0|      0.0|        0.0|       0.0|           0.0|      0.0|    0.0|            0.0|    0.0|            0.0|\n",
      "+----------------------+--------------------+-----+------+------------+--------+------+------------+-------------+------+---------------+-----+----------------+---------+-----------+----------+--------------+---------+-------+---------------+-------+---------------+\n",
      "only showing top 5 rows\n",
      "\n"
     ]
    }
   ],
   "source": [
    "pipelinedData_hash.show(5)"
   ]
  },
  {
   "cell_type": "code",
   "execution_count": 0,
   "metadata": {
    "colab": {},
    "colab_type": "code",
    "id": "EouO3edWTRLf"
   },
   "outputs": [],
   "source": [
    "allModels = numpy.empty(len(genreList), dtype=object) \n",
    "for i in range(len(genreList)):\n",
    "  lr = LogisticRegression(labelCol=genreList[i], featuresCol=\"MinAbs_Scaled_features\")\n",
    "  allModels[i] = lr.fit(pipelinedData_hash)"
   ]
  },
  {
   "cell_type": "code",
   "execution_count": 0,
   "metadata": {
    "colab": {},
    "colab_type": "code",
    "id": "13KtFX8kTWSW"
   },
   "outputs": [],
   "source": [
    "final_df = test_df.select(\"movie_id\")\n",
    "for i in range(len(genreList)):\n",
    "  pred = allModels[i].transform(absTest)\n",
    "  pred = pred.select(pred[\"movie_id\"], pred[\"prediction\"].alias(genreList[i]))\n",
    "  final_df = final_df.join(pred, on=['movie_id'], how='left_outer')"
   ]
  },
  {
   "cell_type": "code",
   "execution_count": 79,
   "metadata": {
    "colab": {
     "base_uri": "https://localhost:8080/",
     "height": 224
    },
    "colab_type": "code",
    "id": "F9u7VV_bTbYC",
    "outputId": "38f5ff62-c7b6-48c3-d32c-183a14c4740a"
   },
   "outputs": [
    {
     "name": "stdout",
     "output_type": "stream",
     "text": [
      "+--------+-----+------+------------+--------+------+------------+-------------+------+---------------+-----+----------------+---------+-----------+----------+--------------+---------+-------+---------------+-------+---------------+\n",
      "|movie_id|Drama|Comedy|Romance Film|Thriller|Action|World cinema|Crime Fiction|Horror|Black-and-white|Indie|Action/Adventure|Adventure|Family Film|Short Film|Romantic drama|Animation|Musical|Science Fiction|Mystery|Romantic comedy|\n",
      "+--------+-----+------+------------+--------+------+------------+-------------+------+---------------+-----+----------------+---------+-----------+----------+--------------+---------+-------+---------------+-------+---------------+\n",
      "| 1335380|  1.0|   0.0|         0.0|     0.0|   0.0|         0.0|          0.0|   0.0|            0.0|  0.0|             1.0|      0.0|        0.0|       0.0|           0.0|      0.0|    0.0|            0.0|    0.0|            0.0|\n",
      "|29062594|  0.0|   0.0|         0.0|     0.0|   0.0|         0.0|          0.0|   0.0|            0.0|  0.0|             0.0|      0.0|        0.0|       0.0|           0.0|      0.0|    0.0|            1.0|    0.0|            0.0|\n",
      "| 9252321|  1.0|   0.0|         0.0|     0.0|   0.0|         0.0|          0.0|   0.0|            0.0|  1.0|             0.0|      0.0|        0.0|       0.0|           0.0|      0.0|    0.0|            0.0|    0.0|            0.0|\n",
      "|13455076|  0.0|   1.0|         0.0|     0.0|   0.0|         0.0|          0.0|   0.0|            0.0|  0.0|             0.0|      0.0|        0.0|       0.0|           0.0|      0.0|    0.0|            0.0|    0.0|            0.0|\n",
      "|24165951|  0.0|   0.0|         1.0|     0.0|   1.0|         0.0|          0.0|   0.0|            0.0|  0.0|             0.0|      0.0|        0.0|       0.0|           0.0|      0.0|    0.0|            0.0|    0.0|            0.0|\n",
      "+--------+-----+------+------------+--------+------+------------+-------------+------+---------------+-----+----------------+---------+-----------+----------+--------------+---------+-------+---------------+-------+---------------+\n",
      "only showing top 5 rows\n",
      "\n"
     ]
    }
   ],
   "source": [
    "final_df.show(5)"
   ]
  },
  {
   "cell_type": "code",
   "execution_count": 0,
   "metadata": {
    "colab": {},
    "colab_type": "code",
    "id": "p2gUUztKTe2J"
   },
   "outputs": [],
   "source": [
    "for i in range(len(genreList)):\n",
    "  final_df = final_df.withColumn(genreList[i],col(genreList[i]).cast(IntegerType()))"
   ]
  },
  {
   "cell_type": "code",
   "execution_count": 0,
   "metadata": {
    "colab": {},
    "colab_type": "code",
    "id": "R8-MtOgDTkFi"
   },
   "outputs": [],
   "source": [
    "final_df = final_df.withColumn('predictions', F.concat(F.col(genreList[0]),F.lit(' '), F.col(genreList[1])))\n",
    "for i in range(2, len(genreList)):\n",
    "  final_df = final_df.withColumn('predictions', F.concat(F.col(\"predictions\"),F.lit(' '), F.col(genreList[i])))"
   ]
  },
  {
   "cell_type": "code",
   "execution_count": 83,
   "metadata": {
    "colab": {
     "base_uri": "https://localhost:8080/",
     "height": 204
    },
    "colab_type": "code",
    "id": "i71M5ojcTphN",
    "outputId": "f53477e7-b9f1-4a52-d5a1-750653230593"
   },
   "outputs": [
    {
     "name": "stdout",
     "output_type": "stream",
     "text": [
      "+--------+--------------------+\n",
      "|movie_id|         predictions|\n",
      "+--------+--------------------+\n",
      "| 1335380|1 0 0 0 0 0 0 0 0...|\n",
      "|29062594|0 0 0 0 0 0 0 0 0...|\n",
      "| 9252321|1 0 0 0 0 0 0 0 0...|\n",
      "|13455076|0 1 0 0 0 0 0 0 0...|\n",
      "|24165951|0 0 1 0 1 0 0 0 0...|\n",
      "+--------+--------------------+\n",
      "only showing top 5 rows\n",
      "\n"
     ]
    }
   ],
   "source": [
    "output_task3 = final_df.select(\"movie_id\", \"predictions\")\n",
    "output_task3.show(5)"
   ]
  },
  {
   "cell_type": "code",
   "execution_count": 0,
   "metadata": {
    "colab": {},
    "colab_type": "code",
    "id": "i4CsUVCqTrzw"
   },
   "outputs": [],
   "source": [
    "output_task3.write.csv('output_task3.csv')"
   ]
  }
 ],
 "metadata": {
  "colab": {
   "collapsed_sections": [],
   "name": "task_1_n_2_final",
   "provenance": []
  },
  "kernelspec": {
   "display_name": "Python 3",
   "language": "python",
   "name": "python3"
  },
  "language_info": {
   "codemirror_mode": {
    "name": "ipython",
    "version": 3
   },
   "file_extension": ".py",
   "mimetype": "text/x-python",
   "name": "python",
   "nbconvert_exporter": "python",
   "pygments_lexer": "ipython3",
   "version": "3.6.5"
  },
  "name": "Project3",
  "notebookId": 556331833789037
 },
 "nbformat": 4,
 "nbformat_minor": 1
}
